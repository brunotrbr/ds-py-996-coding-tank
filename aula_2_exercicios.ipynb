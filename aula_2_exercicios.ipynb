{
 "cells": [
  {
   "attachments": {},
   "cell_type": "markdown",
   "metadata": {},
   "source": [
    "1. Peça ao usuário para informar 4 lados consecutivos de um polígono. Veja se é um quadrado ou retâgulo, ou nenhum.\n",
    "Caso seja quadrado ou retângulo, imprima a área calculada."
   ]
  },
  {
   "cell_type": "code",
   "execution_count": null,
   "metadata": {},
   "outputs": [],
   "source": [
    "lado_1 = float(input('Informe o primeiro lado: '))\n",
    "lado_2 = float(input('Informe o segundo lado: '))\n",
    "lado_3 = float(input('Informe o terceiro lado: '))\n",
    "lado_4 = float(input('Informe o quarto lado: '))\n",
    "\n",
    "if lado_1 == lado_2 and lado_2 == lado_3 and lado_3 == lado_4:\n",
    "    print('Quadrado de área', lado_1**2)\n",
    "elif lado_1 == lado_2 and lado_3 == lado_4 or lado_1 == lado_3 and lado_2 == lado_4 or lado_1 == lado_4 and lado_2 == lado_3:\n",
    "    print('Retângulo de área Área:', lado_1*lado_3)\n",
    "else:\n",
    "    print('Não é quadrado nem retângulo')\n"
   ]
  },
  {
   "attachments": {},
   "cell_type": "markdown",
   "metadata": {},
   "source": [
    "2. Pergunte ao usuário o valor de um produto, e se ele quer aumentar ou diminuir o preço.\n",
    "Pergunte ao usuário o quanto que ele gostaria de diminuir ou acrescentar, em porcentagem, e calcule o novo preço do produto para o usuário."
   ]
  },
  {
   "cell_type": "code",
   "execution_count": null,
   "metadata": {},
   "outputs": [],
   "source": [
    "valor_produto = float(input('Informe o valor do produto: '))\n",
    "operacao = input('Digite [A] para aumentar o valor, e [D] para diminuir:').upper()\n",
    "\n",
    "if operacao == 'A':\n",
    "    reajuste = float(input('Informe quanto deseja aumentar, em porcentagem, sem informar o símbolo %. Ex: Para 10%, digite 10'))\n",
    "    reajuste = reajuste/100 + 1\n",
    "else:\n",
    "    reajuste = float(input('Informe quanto deseja diminuir, em porcentagem, sem informar o símbolo %. Ex: Para 10%, digite 10'))\n",
    "    reajuste = 1 - reajuste/100\n",
    "\n",
    "valor_reajustado = valor_produto * reajuste\n",
    "print(\"{:.2f}\".format(valor_reajustado))"
   ]
  },
  {
   "attachments": {},
   "cell_type": "markdown",
   "metadata": {},
   "source": [
    "3. Faça um programa que pergunte 4 notas de provas de um aluno, caso a média seja maior ou igual a 6 ele está aprovado, caso seja maior que 5, ele está de recuperação, pergunte a nota da prova de recuperação, caso a média da nota de recuperação com a média das provas seja maior que 6, ele está aprovado, se não reprovado.\n",
    "Caso a média das 4 provas seja menor ou igual a 5 ele está reprovado direto."
   ]
  },
  {
   "cell_type": "code",
   "execution_count": null,
   "metadata": {},
   "outputs": [],
   "source": [
    "nota_1 = float(input('Informe a primeira nota: '))\n",
    "nota_2 = float(input('Informe a segunda nota: '))\n",
    "nota_3 = float(input('Informe a terceira nota: '))\n",
    "nota_4 = float(input('Informe a quarta nota: '))\n",
    "\n",
    "media = (nota_1 + nota_2 + nota_3 + nota_4) / 4\n",
    "if media >= 6.0:\n",
    "    print('Aprovado com média', média)\n",
    "elif media <= 5.0:\n",
    "    print('Reprovado com média', média)\n",
    "else:\n",
    "    nota_recuperacao = float(input('Informe a nota de recuperação:'))\n",
    "    media_recup = (nota_recuperacao + media) / 2\n",
    "    if media_recup > 6.0:\n",
    "        print('Aprovado com média', media_recup)\n",
    "    else:\n",
    "        print('Reprovado com média', media_recup)"
   ]
  },
  {
   "attachments": {},
   "cell_type": "markdown",
   "metadata": {},
   "source": [
    "4. Pergunte ao usuário que horas são, informando somente um número inteiro, e retorne \"Bom dia!\", caso seja entre 5 horas e 11 horas da manhã, \"Boa tarde!\", caso seja entre 12 horas e 18 horas da tarde, e \"Boa noite!\", caso seja entre 19 horas e 4 horas da manhã."
   ]
  },
  {
   "cell_type": "code",
   "execution_count": null,
   "metadata": {},
   "outputs": [],
   "source": [
    "hora = int(input('Informe a hora, somente um número inteiro'))\n",
    "\n",
    "if hora >= 5 and hora <= 11:\n",
    "    print('Bom dia')\n",
    "elif hora >= 12 and hora <= 18:\n",
    "    print('Boa tarde')\n",
    "else:\n",
    "    print('Boa noite')"
   ]
  },
  {
   "attachments": {},
   "cell_type": "markdown",
   "metadata": {},
   "source": [
    "5. Peça o usuário para digitar um número, informe se o número é divisivel por 5, caso seja, informe se o número é par ou impar."
   ]
  },
  {
   "cell_type": "code",
   "execution_count": null,
   "metadata": {},
   "outputs": [],
   "source": [
    "numero = float(input('Informe um número'))\n",
    "resto = numero % 5\n",
    "\n",
    "resto = numero % 5\n",
    "if resto == 0 or resto == 5:\n",
    "    resto_div_2 = numero % 2\n",
    "    if resto_div_2 == 0:\n",
    "        print(f'É divisível por 5 e é par. Número: {numero}, resto: {resto}, resto da div por 2: {resto_div_2}')\n",
    "    else:\n",
    "        print(f'É divisível por 5 e é impar. Número: {numero}, resto: {resto}, resto da div por 2: {resto_div_2}')    \n",
    "else:\n",
    "    print(f'Número {numero} não divisível por 5')"
   ]
  },
  {
   "attachments": {},
   "cell_type": "markdown",
   "metadata": {},
   "source": [
    "6) Faça um programa para o cálculo de uma folha de pagamento sabendo que os descontos são do imposto de Renda, que depende do salário bruto (conforme tabela abaixo), 3% para o Sindicato e que o FGTS corresponde a 11% do salário bruto, mas não é descontado (é a empresa que deposita). Solicite ao usuário a quantidade de horas trabalhadas no mês, e o valor recebido por hora de trabalho.\n",
    "\n",
    "*Desconto do IR*\n",
    "| Faixa de salário                          | Desconto |\n",
    "|-------------------------------------------|----------|\n",
    "| Salário Bruto ate R$900,00 (inclusive)    | Isento   |\n",
    "| Salário Bruto de R$ 1500, 00 (inclusive)  | 5%       |\n",
    "| Salario bruto até R$ 2500,00 (Inclusive)  | 10%      |\n",
    "| Salário bruto acima de 2500               | 20%      |\n",
    "\n",
    "&nbsp;\n",
    "\n",
    "Imprima na tela as informações, dispostas conforme o exemplo abaixo, no exemplo valor da hora é 5 e a quantidade de horas é 220.\n",
    "\n",
    "\n",
    "| Descrição               | Valor      |\n",
    "|-------------------------|------------|\n",
    "| Salário bruto (5 * 220) | R$ 1100,00 |\n",
    "| (–) IR (5%)             | R$ 55,00   |\n",
    "| (–) INSS (10%)          | R$ 110,00  |\n",
    "| (–) Sindicato (3%)      | R$ 110,00  |\n",
    "| FGTS (11%)              | R$ 121,00  |\n",
    "| Total de descontos      | R$ 165,00  |\n",
    "| Salário Líquido         | R$ 935,00  |   \n",
    "\n",
    "Obs: Não é necessário imprimir as linhas e nem o cabeçalho da tabela, somente a descrição e os valores. Para uma melhor visualização, tabule a saída de forma que os salários fiquem um abaixo do outro."
   ]
  },
  {
   "cell_type": "code",
   "execution_count": null,
   "metadata": {},
   "outputs": [],
   "source": [
    "# def formata_valor(valor):\n",
    "#     return \"{:.2f}\".format(valor)\n",
    "\n",
    "valor_hora = float(input('Informe o valor/hora recebido:'))\n",
    "horas_trabalhadas = float(input('Informe a quantidade de horas trabalhadas no mês:'))\n",
    "\n",
    "salario_bruto = valor_hora * horas_trabalhadas\n",
    "desconto_inss = salario_bruto * 0.1\n",
    "desconto_sindicato = salario_bruto * 0.03\n",
    "valor_fgts = salario_bruto * 0.11\n",
    "\n",
    "if salario_bruto <= 900:\n",
    "    desconto_ir = 0\n",
    "    aliquota = 'Isento'\n",
    "elif salario_bruto > 900 and salario_bruto <= 1500:\n",
    "    desconto_ir = salario_bruto * 0.05\n",
    "    aliquota = '5%'\n",
    "elif salario_bruto > 1500 and salario_bruto <= 2500:\n",
    "    desconto_ir = salario_bruto * 0.1\n",
    "    aliquota = '10%'\n",
    "else:\n",
    "    desconto_ir = salario_bruto * 0.2\n",
    "    aliquota = '20%'\n",
    "\n",
    "descontos = desconto_inss + desconto_ir + desconto_sindicato\n",
    "\n",
    "print(f'Salário bruto ({valor_hora} * {int(horas_trabalhadas)}): \\tR$ {\"{:.2f}\".format(salario_bruto)}')\n",
    "print(f'(–) IR ({aliquota}): \\t\\t\\tR$ {\"{:.2f}\".format(desconto_ir)}')\n",
    "print(f'(–) INSS (10%): \\t\\tR$ {\"{:.2f}\".format(desconto_inss)}')\n",
    "print(f'(–) Sindicato (3%): \\t\\tR$ {\"{:.2f}\".format(desconto_sindicato)}')\n",
    "print(f'FGTS (11%): \\t\\t\\tR$ {\"{:.2f}\".format(valor_fgts)}')\n",
    "print(f'Total de descontos: \\t\\tR$ {\"{:.2f}\".format(descontos)}')\n",
    "print(f'Salário Liquido: \\t\\tR$ {\"{:.2f}\".format(salario_bruto - descontos)}')\n",
    "# print(f'Salário bruto ({valor_hora} * {int(horas_trabalhadas)}): \\tR$ {formata_valor(salario_bruto)}')\n",
    "# print(f'(–) IR ({aliquota}): \\t\\t\\tR$ {formata_valor(desconto_ir)}')\n",
    "# print(f'(–) INSS (10%): \\t\\tR$ {formata_valor(desconto_inss)}')\n",
    "# print(f'(–) Sindicato (3%): \\t\\tR$ {formata_valor(desconto_sindicato)}')\n",
    "# print(f'FGTS (11%): \\t\\t\\tR$ {formata_valor(valor_fgts)}')\n",
    "# print(f'Total de descontos: \\t\\tR$ {formata_valor(descontos)}')\n",
    "# print(f'Salário Liquido: \\t\\tR$ {formata_valor(salario_bruto - descontos)}')"
   ]
  }
 ],
 "metadata": {
  "kernelspec": {
   "display_name": "Python 3",
   "language": "python",
   "name": "python3"
  },
  "language_info": {
   "codemirror_mode": {
    "name": "ipython",
    "version": 3
   },
   "file_extension": ".py",
   "mimetype": "text/x-python",
   "name": "python",
   "nbconvert_exporter": "python",
   "pygments_lexer": "ipython3",
   "version": "3.10.5"
  },
  "orig_nbformat": 4,
  "vscode": {
   "interpreter": {
    "hash": "42478136ef40f8edd3f4cf991c33cffcfc620a666d0dc328e82cc0ef4d7b2c04"
   }
  }
 },
 "nbformat": 4,
 "nbformat_minor": 2
}
