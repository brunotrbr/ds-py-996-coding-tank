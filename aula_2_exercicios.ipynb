{
 "cells": [
  {
   "attachments": {},
   "cell_type": "markdown",
   "metadata": {},
   "source": [
    "1. Peça ao usuário para informar 4 lados consecutivos de um quadrilátero. Veja se é um quadrado, retâgulo, ou outra forma.\n",
    "Caso seja quadrado ou retângulo, imprima a área calculada."
   ]
  },
  {
   "cell_type": "code",
   "execution_count": null,
   "metadata": {},
   "outputs": [],
   "source": []
  },
  {
   "attachments": {},
   "cell_type": "markdown",
   "metadata": {},
   "source": [
    "2. Pergunte ao usuário o valor de um produto, e se ele quer aumentar ou diminuir o preço.\n",
    "Pergunte ao usuário o quanto que ele gostaria de diminuir ou acrescentar, em porcentagem, e calcule o novo preço do produto para o usuário."
   ]
  },
  {
   "cell_type": "code",
   "execution_count": null,
   "metadata": {},
   "outputs": [],
   "source": []
  },
  {
   "attachments": {},
   "cell_type": "markdown",
   "metadata": {},
   "source": [
    "3. Faça um programa que pergunte 4 notas de provas de um aluno, caso a média seja maior ou igual a 6 ele está aprovado, caso seja maior que 5, ele está de recuperação, pergunte a nota da prova de recuperação, caso a média da nota de recuperação com a média das provas seja maior que 6, ele está aprovado, se não reprovado.\n",
    "Caso a média das 4 provas seja menor ou igual a 5 ele está reprovado direto."
   ]
  },
  {
   "cell_type": "code",
   "execution_count": null,
   "metadata": {},
   "outputs": [],
   "source": []
  },
  {
   "attachments": {},
   "cell_type": "markdown",
   "metadata": {},
   "source": [
    "4. Pergunte ao usuário que horas são, informando somente um número inteiro, e retorne \"Bom dia!\", caso seja entre 5 horas e 11 horas da manhã, \"Boa tarde!\", caso seja entre 12 horas e 18 horas da tarde, e \"Boa noite!\", caso seja entre 19 horas e 4 horas da manhã."
   ]
  },
  {
   "cell_type": "code",
   "execution_count": null,
   "metadata": {},
   "outputs": [],
   "source": []
  },
  {
   "attachments": {},
   "cell_type": "markdown",
   "metadata": {},
   "source": [
    "5. Peça o usuário para digitar um número, informe se o número é divisivel por 5, caso seja, informe se o número é par ou impar."
   ]
  },
  {
   "cell_type": "code",
   "execution_count": null,
   "metadata": {},
   "outputs": [],
   "source": []
  },
  {
   "attachments": {},
   "cell_type": "markdown",
   "metadata": {},
   "source": [
    "6) Faça um programa para o cálculo de uma folha de pagamento sabendo que os descontos são do imposto de Renda, que depende do salário bruto (conforme tabela abaixo), 10% de desconto do INSS, 3% para o Sindicato e que o FGTS corresponde a 11% do salário bruto, mas não é descontado (é a empresa que deposita). Solicite ao usuário a quantidade de horas trabalhadas no mês, e o valor recebido por hora de trabalho.\n",
    "\n",
    "*Desconto do IR*\n",
    "| Faixa de salário                          | Desconto |\n",
    "|-------------------------------------------|----------|\n",
    "| Salário Bruto ate R$900,00 (inclusive)    | Isento   |\n",
    "| Salário Bruto de R$ 1500, 00 (inclusive)  | 5%       |\n",
    "| Salario bruto até R$ 2500,00 (Inclusive)  | 10%      |\n",
    "| Salário bruto acima de 2500               | 20%      |\n",
    "\n",
    "&nbsp;\n",
    "\n",
    "Imprima na tela as informações, dispostas conforme o exemplo abaixo, no exemplo valor da hora é 5 e a quantidade de horas é 220.\n",
    "\n",
    "\n",
    "| Descrição               | Valor      |\n",
    "|-------------------------|------------|\n",
    "| Salário bruto (5 * 220) | R$ 1100,00 |\n",
    "| (–) Sindicato (3%)      | R$ 33,00   |\n",
    "| (–) IR (5%)             | R$ 55,00   |\n",
    "| (–) INSS (10%)          | R$ 110,00  |\n",
    "| FGTS (11%)              | R$ 121,00  |\n",
    "| Total de descontos      | R$ 198,00  |\n",
    "| Salário Líquido         | R$ 902,00  |   \n",
    "\n",
    "Obs: Não é necessário imprimir as linhas e nem o cabeçalho da tabela, somente a descrição e os valores. Para uma melhor visualização, tabule a saída de forma que os salários fiquem um abaixo do outro."
   ]
  },
  {
   "cell_type": "code",
   "execution_count": null,
   "metadata": {},
   "outputs": [],
   "source": []
  }
 ],
 "metadata": {
  "kernelspec": {
   "display_name": "Python 3",
   "language": "python",
   "name": "python3"
  },
  "language_info": {
   "codemirror_mode": {
    "name": "ipython",
    "version": 3
   },
   "file_extension": ".py",
   "mimetype": "text/x-python",
   "name": "python",
   "nbconvert_exporter": "python",
   "pygments_lexer": "ipython3",
   "version": "3.11.0"
  },
  "orig_nbformat": 4,
  "vscode": {
   "interpreter": {
    "hash": "42478136ef40f8edd3f4cf991c33cffcfc620a666d0dc328e82cc0ef4d7b2c04"
   }
  }
 },
 "nbformat": 4,
 "nbformat_minor": 2
}
