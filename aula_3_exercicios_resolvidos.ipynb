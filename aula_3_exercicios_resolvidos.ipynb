{
 "cells": [
  {
   "attachments": {},
   "cell_type": "markdown",
   "metadata": {},
   "source": [
    "1. Pergunte um usuário quantas provas ele fez, depois pergunte a nota de todas as provas.\n",
    "Calcule a média e caso seja maior ou igual a 6 informe que ele está aprovado, se não reprovado."
   ]
  },
  {
   "cell_type": "code",
   "execution_count": 5,
   "metadata": {},
   "outputs": [
    {
     "name": "stdout",
     "output_type": "stream",
     "text": [
      "Aprovado com média 8.0\n"
     ]
    }
   ],
   "source": [
    "num_provas = int(input('Informe a quantidade de provas realizadas:'))\n",
    "cont = 1\n",
    "soma_notas = 0\n",
    "media = 0\n",
    "while cont <= num_provas:\n",
    "    nota = float(input(f'Informe a nota da prova {cont}'))\n",
    "    soma_notas += nota\n",
    "    cont += 1\n",
    "\n",
    "media = soma_notas/num_provas\n",
    "if media >= 6:\n",
    "    print('Aprovado com média', media)\n",
    "else:\n",
    "    print('Reprovado com média', media)"
   ]
  },
  {
   "attachments": {},
   "cell_type": "markdown",
   "metadata": {},
   "source": [
    "2. Faça um programa que o usuário digite quantos números quiser, ate que digite sair.\n",
    "Retorne a soma e a média dos números digitados."
   ]
  },
  {
   "cell_type": "code",
   "execution_count": 8,
   "metadata": {},
   "outputs": [
    {
     "name": "stdout",
     "output_type": "stream",
     "text": [
      "Soma: 10.0\n",
      "Média: 3.3333333333333335\n"
     ]
    }
   ],
   "source": [
    "cont = 0\n",
    "soma_numeros = 0\n",
    "while True:\n",
    "    entrada = input('Digite um número qualquer ou digite [sair] para encerrar o programa.').lower()\n",
    "    if entrada.isnumeric():\n",
    "        cont += 1\n",
    "        soma_numeros += float(entrada)\n",
    "    elif entrada == 'sair':\n",
    "        break\n",
    "    else:\n",
    "        print('Opção inválida.')\n",
    "\n",
    "print('Soma:', soma_numeros)\n",
    "print('Média:', soma_numeros/cont)\n"
   ]
  },
  {
   "attachments": {},
   "cell_type": "markdown",
   "metadata": {},
   "source": [
    "3. Usando laço, pergunte um usuário a nota de 3 provas. Remova a menor nota e calcule a média das notas que ele atingiu. "
   ]
  },
  {
   "cell_type": "code",
   "execution_count": 12,
   "metadata": {},
   "outputs": [
    {
     "name": "stdout",
     "output_type": "stream",
     "text": [
      "Média: 8.0\n"
     ]
    }
   ],
   "source": [
    "menor_nota = float('inf')\n",
    "cont = 1\n",
    "soma_notas = 0\n",
    "while True:\n",
    "    if cont > 3:\n",
    "        break\n",
    "\n",
    "    nota = int(input('Informe uma nota:'))\n",
    "    soma_notas += nota\n",
    "\n",
    "    if nota < menor_nota:\n",
    "        menor_nota = nota\n",
    "        \n",
    "    cont += 1\n",
    "\n",
    "soma_notas = soma_notas - menor_nota\n",
    "print('Média:', soma_notas/2)"
   ]
  },
  {
   "attachments": {},
   "cell_type": "markdown",
   "metadata": {},
   "source": [
    "4. Pergunte o usuário 2 números inteiros, calcule quantos números pares existem entre os 2 número informados.\n",
    "Exemplo: se ele digitar 1 e 9, tem 4 números pares entre esses números 2,4,6,8 ."
   ]
  },
  {
   "cell_type": "code",
   "execution_count": 19,
   "metadata": {},
   "outputs": [
    {
     "name": "stdout",
     "output_type": "stream",
     "text": [
      "2 4 6 8 10 12 14 16 18 20 \n",
      "Existem 10 números pares entre 1 e 20\n"
     ]
    }
   ],
   "source": [
    "limite_inferior = int(input('Informe o limite inferior:'))\n",
    "limite_superior = int(input('Informe o limite superior:'))\n",
    "aux_limite_inferior = limite_inferior\n",
    "\n",
    "contador_pares = 0\n",
    "\n",
    "while aux_limite_inferior <= limite_superior:\n",
    "    resto = aux_limite_inferior % 2\n",
    "    if resto == 0:\n",
    "        print(aux_limite_inferior, end=' ')\n",
    "        contador_pares += 1\n",
    "    aux_limite_inferior += 1\n",
    "\n",
    "print(f'\\nExistem {contador_pares} números pares entre {limite_inferior} e {limite_superior}')\n"
   ]
  },
  {
   "attachments": {},
   "cell_type": "markdown",
   "metadata": {},
   "source": [
    "5. Pergunte o usuário 2 números inteiros, calcule a soma de todos os números ímpares inteiros entre esses números.\n",
    "Exemplo: se ele digitar 1 e 9, tem 5 números ímpares entre esses números 1,3,5,7,9, e a soma é 25 ."
   ]
  },
  {
   "cell_type": "code",
   "execution_count": 22,
   "metadata": {},
   "outputs": [
    {
     "name": "stdout",
     "output_type": "stream",
     "text": [
      "1 3 5 7 9 \n",
      "A soma dos números impares entre 1 e 9 é 25\n"
     ]
    }
   ],
   "source": [
    "limite_inferior = int(input('Informe o limite inferior:'))\n",
    "limite_superior = int(input('Informe o limite superior:'))\n",
    "aux_limite_inferior = limite_inferior\n",
    "\n",
    "soma_impares = 0\n",
    "\n",
    "while aux_limite_inferior <= limite_superior:\n",
    "    resto = aux_limite_inferior % 2\n",
    "    if resto != 0:\n",
    "        print(aux_limite_inferior, end=' ')\n",
    "        soma_impares += aux_limite_inferior\n",
    "    aux_limite_inferior += 1\n",
    "\n",
    "print(f'\\nA soma dos números impares entre {limite_inferior} e {limite_superior} é {soma_impares}')"
   ]
  }
 ],
 "metadata": {
  "kernelspec": {
   "display_name": "Python 3",
   "language": "python",
   "name": "python3"
  },
  "language_info": {
   "codemirror_mode": {
    "name": "ipython",
    "version": 3
   },
   "file_extension": ".py",
   "mimetype": "text/x-python",
   "name": "python",
   "nbconvert_exporter": "python",
   "pygments_lexer": "ipython3",
   "version": "3.11.0"
  },
  "orig_nbformat": 4,
  "vscode": {
   "interpreter": {
    "hash": "42478136ef40f8edd3f4cf991c33cffcfc620a666d0dc328e82cc0ef4d7b2c04"
   }
  }
 },
 "nbformat": 4,
 "nbformat_minor": 2
}
