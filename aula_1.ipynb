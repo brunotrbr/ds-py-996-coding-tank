{
  "cells": [
    {
      "attachments": {},
      "cell_type": "markdown",
      "metadata": {
        "id": "LRF0e8mftPu-"
      },
      "source": [
        "# Coding Tank Santander Coders 2023 - Turma 996"
      ]
    },
    {
      "attachments": {},
      "cell_type": "markdown",
      "metadata": {
        "id": "OHc-DC0QtPvD"
      },
      "source": [
        "## Alguns recados\n",
        "- Horários\n",
        "  - Início: 19:00\n",
        "  - Intervalo: aprox. 20:30 - 20:45\n",
        "  - Fim: 22:00\n",
        "- Presença\n",
        "  - Obrigatória\n",
        "  - 2 faltas consecutivas é eliminado do processo\n",
        "  - Mais de 2 faltas não recebem o certificado de participação\n",
        "- Câmera\n",
        "  - Opcional durante as aulas, mas sugerimos que abram ao perguntar ou interagir\n",
        "  - **Obrigatório** durante a prova\n",
        "- Certificado\n",
        "  - Certificado se presença >= 5\n",
        "- Acesso ao conteúdo didático\n",
        "  - https://lms.ada.tech/\n",
        "  -**Acessar com o email cadastrado no sistema**"
      ]
    },
    {
      "attachments": {},
      "cell_type": "markdown",
      "metadata": {
        "id": "vAEDPUAytPvE"
      },
      "source": [
        "## Cronograma de aulas\n",
        "\n",
        "- Aula 1\n",
        "    - Variáveis\n",
        "    - Tipos básicos\n",
        "    - Entradas/Saídas\n",
        "    - Operadores Algébricos\n",
        "    - Operadores de comparação\n",
        "\n",
        "- Aula 2\n",
        "    - Estrutura condicional e controle de fluxo\n",
        "    - Comando if\n",
        "    - Comando else\n",
        "    - Comando Elif\n",
        "\n",
        "- Aula 3\n",
        "    - Estruturas de repetição\n",
        "    - Looping while\n",
        "\n",
        "- Aula 4\n",
        "    - Listas\n",
        "    - Funções, parâmetros e retorno\n",
        "\n",
        "- Aula 5\n",
        "    - Prova\n"
      ]
    },
    {
      "attachments": {},
      "cell_type": "markdown",
      "metadata": {
        "id": "jTLnOXa8tPvF"
      },
      "source": [
        "------------------------"
      ]
    },
    {
      "attachments": {},
      "cell_type": "markdown",
      "metadata": {
        "id": "OCBDEQEYtPvG"
      },
      "source": [
        "## Variáveis\n",
        "Variável é o nome dado ao tipo de conteúdo que pode apresentar diferentes valores enquanto o sistema está em execução. Tudo dependerá do comando do usuário e o tipo de operação que é realizado.  \n",
        "\n",
        "```\n",
        "nome = \"Bruno\"\n",
        "```"
      ]
    },
    {
      "attachments": {},
      "cell_type": "markdown",
      "metadata": {
        "id": "c7A2WNfitPvG"
      },
      "source": [
        "## Tipos básicos\n",
        "\n",
        "Podemos ter informações relacionadas às outras pessoas como nome, idade e salário. Cada uma delas possui o que chamamos de tipos de variável. Os tipos de dados são os seguintes:"
      ]
    },
    {
      "cell_type": "code",
      "execution_count": null,
      "metadata": {
        "colab": {
          "base_uri": "https://localhost:8080/"
        },
        "id": "41rOwliStPvH",
        "outputId": "fa6b6b87-bdf4-47ef-b55d-7ce4696eacd4"
      },
      "outputs": [
        {
          "data": {
            "text/plain": [
              "int"
            ]
          },
          "execution_count": 8,
          "metadata": {},
          "output_type": "execute_result"
        }
      ],
      "source": [
        "# Esta é uma forma de comentar o código. Toda esta informação não será processada\n",
        "# nome = 'Bruno'\n",
        "# Podemos passar variáveis de texto (str) com aspas duplas\n",
        "nome_do_instrutor = \"Bruno\"\n",
        "type(nome_do_instrutor)\n",
        "\n",
        "nome_do_instrutor = 1\n",
        "type(nome_do_instrutor)"
      ]
    },
    {
      "cell_type": "code",
      "execution_count": null,
      "metadata": {
        "colab": {
          "base_uri": "https://localhost:8080/"
        },
        "id": "71xdifaotPvK",
        "outputId": "f98f84ce-02b6-4dce-d381-907d147179fd"
      },
      "outputs": [
        {
          "data": {
            "text/plain": [
              "str"
            ]
          },
          "execution_count": 14,
          "metadata": {},
          "output_type": "execute_result"
        }
      ],
      "source": [
        "# Ou aspas simples\n",
        "nome_do_instrutor = 'Bruno'\n",
        "type(nome_do_instrutor)"
      ]
    },
    {
      "cell_type": "code",
      "execution_count": null,
      "metadata": {
        "colab": {
          "base_uri": "https://localhost:8080/"
        },
        "id": "aC6Muhnx3xZO",
        "outputId": "3a34669a-93fb-445a-95b2-59c983923958"
      },
      "outputs": [
        {
          "data": {
            "text/plain": [
              "1"
            ]
          },
          "execution_count": 9,
          "metadata": {},
          "output_type": "execute_result"
        }
      ],
      "source": [
        "nome_do_instrutor"
      ]
    },
    {
      "cell_type": "code",
      "execution_count": null,
      "metadata": {
        "colab": {
          "base_uri": "https://localhost:8080/"
        },
        "id": "NOXXOWTgtPvK",
        "outputId": "59e9f4b0-5b48-48c7-f6c6-dd802f16cd58"
      },
      "outputs": [
        {
          "data": {
            "text/plain": [
              "int"
            ]
          },
          "execution_count": 17,
          "metadata": {},
          "output_type": "execute_result"
        }
      ],
      "source": [
        "# Números inteiros são passados diretamente para a variável\n",
        "idade = 35\n",
        "idade\n",
        "type(idade)"
      ]
    },
    {
      "cell_type": "code",
      "execution_count": null,
      "metadata": {
        "colab": {
          "base_uri": "https://localhost:8080/"
        },
        "id": "WrZhv9t0tPvL",
        "outputId": "5139d3dd-138a-411a-d256-f9cbaae2d150"
      },
      "outputs": [
        {
          "data": {
            "text/plain": [
              "float"
            ]
          },
          "execution_count": 22,
          "metadata": {},
          "output_type": "execute_result"
        }
      ],
      "source": [
        "# Números decimais (float) possuem o ponto (.) comos separador das casas decimais\n",
        "dolar = 4.77\n",
        "type(dolar)"
      ]
    },
    {
      "cell_type": "code",
      "execution_count": null,
      "metadata": {
        "colab": {
          "base_uri": "https://localhost:8080/"
        },
        "id": "Y6c9CtgytPvM",
        "outputId": "c12c2e94-ac0d-4505-82ed-5acd56159ac7"
      },
      "outputs": [
        {
          "data": {
            "text/plain": [
              "str"
            ]
          },
          "execution_count": 23,
          "metadata": {},
          "output_type": "execute_result"
        }
      ],
      "source": [
        "# Se passarmos um número entre aspas, ele é armazenado como string\n",
        "dolar = '4.77'\n",
        "type(dolar)"
      ]
    },
    {
      "cell_type": "code",
      "execution_count": null,
      "metadata": {
        "colab": {
          "base_uri": "https://localhost:8080/",
          "height": 200
        },
        "id": "sjbBdJn0tPvN",
        "outputId": "3a41600d-1e56-4674-a2aa-84160d7ba062"
      },
      "outputs": [
        {
          "ename": "NameError",
          "evalue": "ignored",
          "output_type": "error",
          "traceback": [
            "\u001b[0;31m---------------------------------------------------------------------------\u001b[0m",
            "\u001b[0;31mNameError\u001b[0m                                 Traceback (most recent call last)",
            "\u001b[0;32m<ipython-input-26-e527e613c3a1>\u001b[0m in \u001b[0;36m<cell line: 10>\u001b[0;34m()\u001b[0m\n\u001b[1;32m      8\u001b[0m \u001b[0;31m# Atenção\u001b[0m\u001b[0;34m\u001b[0m\u001b[0;34m\u001b[0m\u001b[0m\n\u001b[1;32m      9\u001b[0m \u001b[0;31m# variáveis do tipo bool recebem True ou False, com letra maiúsula\u001b[0m\u001b[0;34m\u001b[0m\u001b[0;34m\u001b[0m\u001b[0m\n\u001b[0;32m---> 10\u001b[0;31m \u001b[0mcertificado\u001b[0m \u001b[0;34m=\u001b[0m \u001b[0mfalse\u001b[0m\u001b[0;34m\u001b[0m\u001b[0;34m\u001b[0m\u001b[0m\n\u001b[0m",
            "\u001b[0;31mNameError\u001b[0m: name 'false' is not defined"
          ]
        }
      ],
      "source": [
        "# Variáveis booleanas recebem True ou False como valores\n",
        "certificado = True\n",
        "type(certificado)\n",
        "\n",
        "certificado = False\n",
        "type(certificado)\n",
        "\n",
        "# Atenção\n",
        "# variáveis do tipo bool recebem True ou False, com letra maiúscula"
      ]
    },
    {
      "attachments": {},
      "cell_type": "markdown",
      "metadata": {
        "id": "UjO97O35tPvN"
      },
      "source": [
        "## Entradas\n",
        "\n",
        "Para solicitarmos entradas de informações a serem fornecidas pelo usuário podemos utilizar a função input. Com ela você poderá (opcionalmente) passar uma mensagem instrutiva ao usuário do que deseja que ele insira.  "
      ]
    },
    {
      "cell_type": "code",
      "execution_count": null,
      "metadata": {
        "colab": {
          "base_uri": "https://localhost:8080/",
          "height": 53
        },
        "id": "OAIIAjqQtPvO",
        "outputId": "bb33bfff-2e54-4df8-d32f-882d504d6138"
      },
      "outputs": [
        {
          "name": "stdout",
          "output_type": "stream",
          "text": [
            "qualquer coisa\n"
          ]
        },
        {
          "data": {
            "application/vnd.google.colaboratory.intrinsic+json": {
              "type": "string"
            },
            "text/plain": [
              "'qualquer coisa'"
            ]
          },
          "execution_count": 27,
          "metadata": {},
          "output_type": "execute_result"
        }
      ],
      "source": [
        "input()"
      ]
    },
    {
      "attachments": {},
      "cell_type": "markdown",
      "metadata": {
        "id": "CuTUKRxxtPvP"
      },
      "source": [
        "Veja que ele funciona, porém sem uma mensagem de qual informação é solicitada não é possível identificar o que se deve passar ao programa?"
      ]
    },
    {
      "cell_type": "code",
      "execution_count": null,
      "metadata": {
        "colab": {
          "base_uri": "https://localhost:8080/",
          "height": 53
        },
        "id": "AgBo_-Y3tPvP",
        "outputId": "d7cff2f8-3d80-423d-deea-e1d0057ecbeb"
      },
      "outputs": [
        {
          "name": "stdout",
          "output_type": "stream",
          "text": [
            "Insira aqui a sua idade:35\n"
          ]
        },
        {
          "data": {
            "application/vnd.google.colaboratory.intrinsic+json": {
              "type": "string"
            },
            "text/plain": [
              "'35'"
            ]
          },
          "execution_count": 28,
          "metadata": {},
          "output_type": "execute_result"
        }
      ],
      "source": [
        "input('Insira aqui a sua idade:')"
      ]
    },
    {
      "attachments": {},
      "cell_type": "markdown",
      "metadata": {
        "id": "Nv5IZDostPvQ"
      },
      "source": [
        "**Variável**  \n",
        "Podemos guardar o valor passado pelo usuário numa variável"
      ]
    },
    {
      "cell_type": "code",
      "execution_count": null,
      "metadata": {
        "colab": {
          "base_uri": "https://localhost:8080/"
        },
        "id": "x7S5D0_OtPvQ",
        "outputId": "84c61957-3c6f-4f86-bde7-909b53f4bb3c"
      },
      "outputs": [
        {
          "name": "stdout",
          "output_type": "stream",
          "text": [
            "Insira aqui a sua idade:35\n"
          ]
        }
      ],
      "source": [
        "idade = input('Insira aqui a sua idade:')"
      ]
    },
    {
      "attachments": {},
      "cell_type": "markdown",
      "metadata": {
        "id": "x5JgqlyWtPvR"
      },
      "source": [
        "Reparem nas aspas que saem quando utilizamos apenas a função input. Isso quer dizer que este valor capturado pelo programa é uma string, independente do que o usuário insira."
      ]
    },
    {
      "cell_type": "code",
      "execution_count": null,
      "metadata": {
        "colab": {
          "base_uri": "https://localhost:8080/",
          "height": 36
        },
        "id": "UqS7_NhXtPvS",
        "outputId": "3b698a09-4d2b-4250-adaf-2ef063a70eb9"
      },
      "outputs": [
        {
          "data": {
            "application/vnd.google.colaboratory.intrinsic+json": {
              "type": "string"
            },
            "text/plain": [
              "'35'"
            ]
          },
          "execution_count": 32,
          "metadata": {},
          "output_type": "execute_result"
        }
      ],
      "source": [
        "# Valor\n",
        "idade"
      ]
    },
    {
      "cell_type": "code",
      "execution_count": null,
      "metadata": {
        "colab": {
          "base_uri": "https://localhost:8080/"
        },
        "id": "R4-08-jStPvS",
        "outputId": "4b96f0d1-3fbe-455d-efc6-589a60502587"
      },
      "outputs": [
        {
          "data": {
            "text/plain": [
              "str"
            ]
          },
          "execution_count": 33,
          "metadata": {},
          "output_type": "execute_result"
        }
      ],
      "source": [
        "# Tipo\n",
        "type(idade)"
      ]
    },
    {
      "cell_type": "code",
      "execution_count": null,
      "metadata": {
        "id": "FpaugPYxAGq8"
      },
      "outputs": [],
      "source": [
        "# Informação adicional sobre nomes de variáveis e padrões do python\n",
        "CONSTANTE = 'valor constante'\n",
        "\n",
        "novaVariavelIdade = 35 # Camel Case\n",
        "print(novaVariavelIdade)\n",
        "NovaVariavelIdade = 36 # Pascal Case\n",
        "print(NovaVariavelIdade)\n",
        "nova_variavel_idade = 37 # Snake Case\n",
        "print(nova_variavel_idade)\n",
        "\n",
        "# Python, por padrão, as variáveis seguem Snake Case\n",
        "# Python, em orientação a objetos, a classe segue o Pascal Case\n",
        "# Constantes normalmente são declaradas tudo em maiúscula: CONSTANTE = xxx\n",
        "\n",
        "# padrões do python para nomes\n",
        "# https://peps.python.org/pep-0008/#naming-conventions"
      ]
    },
    {
      "attachments": {},
      "cell_type": "markdown",
      "metadata": {
        "id": "g9DhNzyVtPvT"
      },
      "source": [
        "**Convertendo o tipo de dado**  \n",
        "Neste caso é interessante que a idade seja um número, visto que em geral o utilizamos para realizar contas, por exemplo."
      ]
    },
    {
      "cell_type": "code",
      "execution_count": null,
      "metadata": {
        "colab": {
          "base_uri": "https://localhost:8080/"
        },
        "id": "yjIR-adTtPvT",
        "outputId": "efef3acb-acda-4cfc-eb62-eb2cf730524b"
      },
      "outputs": [
        {
          "data": {
            "text/plain": [
              "35"
            ]
          },
          "execution_count": 36,
          "metadata": {},
          "output_type": "execute_result"
        }
      ],
      "source": [
        "int(idade)"
      ]
    },
    {
      "cell_type": "code",
      "execution_count": null,
      "metadata": {
        "colab": {
          "base_uri": "https://localhost:8080/"
        },
        "id": "RMA_v8zY9Ty9",
        "outputId": "fa160117-3786-4964-aac6-3ec548b07171"
      },
      "outputs": [
        {
          "data": {
            "text/plain": [
              "35"
            ]
          },
          "execution_count": 39,
          "metadata": {},
          "output_type": "execute_result"
        }
      ],
      "source": [
        "# o procedimento acima não altera o tipo da variável idade, a não ser que seja declarado novamente para uma nova variável\n",
        "nova_variavel_idade = int(idade)\n",
        "type(nova_variavel_idade)\n",
        "nova_variavel_idade"
      ]
    },
    {
      "cell_type": "code",
      "execution_count": null,
      "metadata": {
        "colab": {
          "base_uri": "https://localhost:8080/"
        },
        "id": "einCq2_b9oAz",
        "outputId": "6401ef60-628a-460d-81f6-f97747bae004"
      },
      "outputs": [
        {
          "data": {
            "text/plain": [
              "35"
            ]
          },
          "execution_count": 41,
          "metadata": {},
          "output_type": "execute_result"
        }
      ],
      "source": [
        "# Declarar para a mesma variável MODIFICA a variável original\n",
        "idade = int(idade)\n",
        "type(idade)\n",
        "idade"
      ]
    },
    {
      "cell_type": "code",
      "execution_count": null,
      "metadata": {
        "colab": {
          "base_uri": "https://localhost:8080/"
        },
        "id": "4e3SsZVltPvT",
        "outputId": "a257360f-b72c-401d-bac5-754024771b7b"
      },
      "outputs": [
        {
          "data": {
            "text/plain": [
              "35.0"
            ]
          },
          "execution_count": 44,
          "metadata": {},
          "output_type": "execute_result"
        }
      ],
      "source": [
        "float(idade)"
      ]
    },
    {
      "cell_type": "code",
      "execution_count": null,
      "metadata": {
        "id": "wpHgsZMrtPvU"
      },
      "outputs": [],
      "source": [
        "# Podemos, inclusive, encadear conversões."
      ]
    },
    {
      "cell_type": "code",
      "execution_count": null,
      "metadata": {
        "colab": {
          "base_uri": "https://localhost:8080/",
          "height": 36
        },
        "id": "WXVuHhsdtPvU",
        "outputId": "0c111175-ae6a-4ec9-f974-f8b4e3ee5b89"
      },
      "outputs": [
        {
          "data": {
            "application/vnd.google.colaboratory.intrinsic+json": {
              "type": "string"
            },
            "text/plain": [
              "'35.0'"
            ]
          },
          "execution_count": 45,
          "metadata": {},
          "output_type": "execute_result"
        }
      ],
      "source": [
        "str(float(idade))"
      ]
    },
    {
      "cell_type": "code",
      "execution_count": null,
      "metadata": {
        "colab": {
          "base_uri": "https://localhost:8080/"
        },
        "id": "cOyuCT8dArBq",
        "outputId": "534f52d2-8645-4a08-ccd6-2089170b7aca"
      },
      "outputs": [
        {
          "data": {
            "text/plain": [
              "35.0"
            ]
          },
          "execution_count": 46,
          "metadata": {},
          "output_type": "execute_result"
        }
      ],
      "source": [
        "# eu tenho uma string e quero em float\n",
        "float('35')"
      ]
    },
    {
      "cell_type": "code",
      "execution_count": null,
      "metadata": {
        "colab": {
          "base_uri": "https://localhost:8080/",
          "height": 36
        },
        "id": "e89z-WW1A5M0",
        "outputId": "8837dbef-7aee-482a-ce54-a0e73d6afb7e"
      },
      "outputs": [
        {
          "data": {
            "application/vnd.google.colaboratory.intrinsic+json": {
              "type": "string"
            },
            "text/plain": [
              "'4'"
            ]
          },
          "execution_count": 48,
          "metadata": {},
          "output_type": "execute_result"
        }
      ],
      "source": [
        "# A operação abaixo perde a informação do decimal, portanto deve-se ter cuidado com as conversões\n",
        "dolar = 4.77\n",
        "dolar = int(dolar)\n",
        "str(dolar)"
      ]
    },
    {
      "cell_type": "code",
      "execution_count": null,
      "metadata": {
        "colab": {
          "base_uri": "https://localhost:8080/"
        },
        "id": "SjgKijk1Bb9A",
        "outputId": "b1b6fb77-fa3c-4ed4-f676-c430fbd8d189"
      },
      "outputs": [
        {
          "data": {
            "text/plain": [
              "4.77"
            ]
          },
          "execution_count": 52,
          "metadata": {},
          "output_type": "execute_result"
        }
      ],
      "source": [
        "# Substituir a vírgula por ponto, para poder converter\n",
        "variavel = '4,77'\n",
        "variavel = variavel.replace(',', '.')\n",
        "float(variavel)"
      ]
    },
    {
      "cell_type": "code",
      "execution_count": null,
      "metadata": {
        "colab": {
          "base_uri": "https://localhost:8080/"
        },
        "id": "oP1wgn4JtPvV",
        "outputId": "23f633e2-1b49-434e-be4f-1d469cc3a95a"
      },
      "outputs": [
        {
          "data": {
            "text/plain": [
              "35"
            ]
          },
          "execution_count": 53,
          "metadata": {},
          "output_type": "execute_result"
        }
      ],
      "source": [
        "# Outro exemplo encadeando conversões\n",
        "int(float('35'))"
      ]
    },
    {
      "cell_type": "code",
      "execution_count": null,
      "metadata": {
        "colab": {
          "base_uri": "https://localhost:8080/",
          "height": 200
        },
        "id": "kPMQ5hnbtPvV",
        "outputId": "565e6c6e-0012-4304-9691-ba40fed04a8e"
      },
      "outputs": [
        {
          "ename": "ValueError",
          "evalue": "ignored",
          "output_type": "error",
          "traceback": [
            "\u001b[0;31m---------------------------------------------------------------------------\u001b[0m",
            "\u001b[0;31mValueError\u001b[0m                                Traceback (most recent call last)",
            "\u001b[0;32m<ipython-input-56-33a39a9c9bdf>\u001b[0m in \u001b[0;36m<cell line: 3>\u001b[0;34m()\u001b[0m\n\u001b[1;32m      1\u001b[0m \u001b[0;31m# E se eu tentar um texto em float, o que acontece?\u001b[0m\u001b[0;34m\u001b[0m\u001b[0;34m\u001b[0m\u001b[0m\n\u001b[1;32m      2\u001b[0m \u001b[0;31m# float('a') # da erro\u001b[0m\u001b[0;34m\u001b[0m\u001b[0;34m\u001b[0m\u001b[0m\n\u001b[0;32m----> 3\u001b[0;31m \u001b[0mfloat\u001b[0m\u001b[0;34m(\u001b[0m\u001b[0;34m'4,77'\u001b[0m\u001b[0;34m)\u001b[0m\u001b[0;34m\u001b[0m\u001b[0;34m\u001b[0m\u001b[0m\n\u001b[0m",
            "\u001b[0;31mValueError\u001b[0m: could not convert string to float: '4,77'"
          ]
        }
      ],
      "source": [
        "# E se eu tentar um texto em float, o que acontece?\n",
        "# float('a') # da erro\n",
        "float('4,77')"
      ]
    },
    {
      "attachments": {},
      "cell_type": "markdown",
      "metadata": {
        "id": "l7Fob31ytPvV"
      },
      "source": [
        "Podemos realizar a conversão no input, para simplificar"
      ]
    },
    {
      "cell_type": "code",
      "execution_count": null,
      "metadata": {
        "id": "8s9mRdANtPvW"
      },
      "outputs": [],
      "source": [
        "# Para valores do tipo ponto flutuante, ou seja, numéricos com valores decimais, utilizamos o float\n",
        "dolar = float(input('Insira a cotação do dólar hoje: '))\n",
        "type(dolar)"
      ]
    },
    {
      "cell_type": "code",
      "execution_count": null,
      "metadata": {
        "colab": {
          "base_uri": "https://localhost:8080/"
        },
        "id": "1K6Xpg1ttPvW",
        "outputId": "3d145eb7-4689-484c-ca1a-138a227e190f"
      },
      "outputs": [
        {
          "name": "stdout",
          "output_type": "stream",
          "text": [
            "Insira aqui sua idade35\n"
          ]
        },
        {
          "data": {
            "text/plain": [
              "float"
            ]
          },
          "execution_count": 58,
          "metadata": {},
          "output_type": "execute_result"
        }
      ],
      "source": [
        "idade = int(input('Insira aqui sua idade:'))\n",
        "type(idade)"
      ]
    },
    {
      "attachments": {},
      "cell_type": "markdown",
      "metadata": {
        "id": "UyHXXlI1tPvX"
      },
      "source": [
        "## Saídas\n",
        "\n",
        "Em diversas situações desejamos imprimir na tela o resultado de alguma operação que realizamos ou simplesmente emitirmos uma mensagem, para estas situações utilizamos a função print."
      ]
    },
    {
      "cell_type": "code",
      "execution_count": null,
      "metadata": {
        "colab": {
          "base_uri": "https://localhost:8080/"
        },
        "id": "GJN1P6_itPvX",
        "outputId": "fd437926-44cf-42cd-9c1c-d8ffedc659f8"
      },
      "outputs": [
        {
          "name": "stdout",
          "output_type": "stream",
          "text": [
            "\n"
          ]
        }
      ],
      "source": [
        "print()"
      ]
    },
    {
      "cell_type": "code",
      "execution_count": null,
      "metadata": {
        "colab": {
          "base_uri": "https://localhost:8080/"
        },
        "id": "DqZWyRQ_tPvX",
        "outputId": "0601db82-4eba-4dba-ab96-31e5ae2b2140"
      },
      "outputs": [
        {
          "name": "stdout",
          "output_type": "stream",
          "text": [
            "Colocando o texto entre aspas na função print\n"
          ]
        }
      ],
      "source": [
        "print('Colocando o texto entre aspas na função print')"
      ]
    },
    {
      "cell_type": "code",
      "execution_count": null,
      "metadata": {
        "colab": {
          "base_uri": "https://localhost:8080/"
        },
        "id": "LpNFTVJXKFZH",
        "outputId": "061353b3-5f23-4a84-a794-872f999b3e19"
      },
      "outputs": [
        {
          "name": "stdout",
          "output_type": "stream",
          "text": [
            "Funciona também com aspas duplas\n"
          ]
        }
      ],
      "source": [
        "print(\"Funciona também com aspas duplas\")"
      ]
    },
    {
      "cell_type": "code",
      "execution_count": null,
      "metadata": {
        "colab": {
          "base_uri": "https://localhost:8080/"
        },
        "id": "_Z4k9yRHKIqH",
        "outputId": "be4ef5a6-ed52-447f-e15c-256036c9b376"
      },
      "outputs": [
        {
          "name": "stdout",
          "output_type": "stream",
          "text": [
            "5\n"
          ]
        }
      ],
      "source": [
        "print(5)"
      ]
    },
    {
      "cell_type": "code",
      "execution_count": null,
      "metadata": {
        "colab": {
          "base_uri": "https://localhost:8080/"
        },
        "id": "Vj57qw2tKLOa",
        "outputId": "ade731f5-6efd-4ea5-c24c-1b36935ca0fc"
      },
      "outputs": [
        {
          "name": "stdout",
          "output_type": "stream",
          "text": [
            "True\n"
          ]
        }
      ],
      "source": [
        "print(True)"
      ]
    },
    {
      "cell_type": "code",
      "execution_count": null,
      "metadata": {
        "colab": {
          "base_uri": "https://localhost:8080/"
        },
        "id": "mbPvpt3ZtPvY",
        "outputId": "23141ad5-fef5-48e3-a06c-e580f1979f03"
      },
      "outputs": [
        {
          "name": "stdout",
          "output_type": "stream",
          "text": [
            "Print com comentário\n"
          ]
        }
      ],
      "source": [
        "print('Print com comentário') # comentário no código, ou seja, ele não executa o que está depois do #"
      ]
    },
    {
      "cell_type": "code",
      "execution_count": null,
      "metadata": {
        "colab": {
          "base_uri": "https://localhost:8080/"
        },
        "id": "9uTjQfWPtPvY",
        "outputId": "8bb9003a-ac79-4303-e5ae-43dfd86b83cb"
      },
      "outputs": [
        {
          "name": "stdout",
          "output_type": "stream",
          "text": [
            "Print com \n",
            "quebra de linha\n",
            "Comentário de bloco no google colab é pressionando as teclas Ctrl + '/'\n"
          ]
        }
      ],
      "source": [
        "# Quebrar linha\n",
        "print('Print com \\nquebra de linha') # \\n\n",
        "\n",
        "print('Comentário de bloco no google colab é pressionando as teclas Ctrl + \\'/\\'')\n",
        "# A contrabarra \\ , nesse caso, funciona como caractere de escape para que seja entendido como texto e não como sua função original.\n",
        "# Neste caso, o fechamento da string"
      ]
    },
    {
      "cell_type": "code",
      "execution_count": null,
      "metadata": {
        "colab": {
          "base_uri": "https://localhost:8080/"
        },
        "id": "lKgq1h4htPvZ",
        "outputId": "e4db439b-d316-4ae3-cbea-a469dc252de3"
      },
      "outputs": [
        {
          "name": "stdout",
          "output_type": "stream",
          "text": [
            "Print \tcom tabulação\n",
            "Print \t\tcom tabulação\n",
            "\n",
            "\n"
          ]
        }
      ],
      "source": [
        "# Tabulação\n",
        "print('Print \\tcom tabulação')\n",
        "print('Print \\t\\tcom tabulação\\n\\n')"
      ]
    },
    {
      "cell_type": "code",
      "execution_count": null,
      "metadata": {
        "colab": {
          "base_uri": "https://localhost:8080/"
        },
        "id": "2WR1xY6itPva",
        "outputId": "03cac3f4-46cd-4022-d890-5333677f4fca"
      },
      "outputs": [
        {
          "name": "stdout",
          "output_type": "stream",
          "text": [
            "Inicio do programa x\n",
            "Digite a opção do menu:\n",
            "\t1) Entrar no cadastro de clientes\n",
            "\t2) Entrar no cadastro de empresas\n"
          ]
        }
      ],
      "source": [
        "# Múltiplos prints\n",
        "print('Inicio do programa x')\n",
        "print('Digite a opção do menu:')\n",
        "print('\\t1) Entrar no cadastro de clientes')\n",
        "print('\\t2) Entrar no cadastro de empresas')"
      ]
    },
    {
      "attachments": {},
      "cell_type": "markdown",
      "metadata": {
        "id": "1A3-Iif5tPvx"
      },
      "source": [
        "**Mais de um argumento**  \n",
        "Para imprimir mais de uma informação, o print permite inserir quantos argumentos forem necessários, desde que separados por vírgula. Veja o exemplo:"
      ]
    },
    {
      "cell_type": "code",
      "execution_count": null,
      "metadata": {
        "colab": {
          "base_uri": "https://localhost:8080/"
        },
        "id": "zvCarRomtPvx",
        "outputId": "8230125e-52e4-401e-87da-6311012287b2"
      },
      "outputs": [
        {
          "name": "stdout",
          "output_type": "stream",
          "text": [
            "Entrar no  cadastro de  clientes 123\n"
          ]
        }
      ],
      "source": [
        "print('Entrar no', 'cadastro de', 'clientes', 123)"
      ]
    },
    {
      "attachments": {},
      "cell_type": "markdown",
      "metadata": {
        "id": "B8fCmVfKtPvy"
      },
      "source": [
        "**Parâmetros para o print**\n",
        "Passando mais de um argumento para o print, podemos modificar o separador passando o parâmetro _sep_ para o print"
      ]
    },
    {
      "cell_type": "code",
      "execution_count": null,
      "metadata": {
        "colab": {
          "base_uri": "https://localhost:8080/"
        },
        "id": "T9zjJG8wtPvy",
        "outputId": "3ddf14db-edd1-4258-a284-fd8527274d16"
      },
      "outputs": [
        {
          "name": "stdout",
          "output_type": "stream",
          "text": [
            "Entrar_cadastro_clientes_123\n",
            "Entrar|cadastro|clientes|123\n",
            "Entrar99999cadastro99999clientes99999123\n"
          ]
        }
      ],
      "source": [
        "print('Entrar', 'cadastro', 'clientes', 123, sep='_')\n",
        "print('Entrar', 'cadastro', 'clientes', 123, sep='|')\n",
        "print('Entrar', 'cadastro', 'clientes', 123, sep='99999')"
      ]
    },
    {
      "attachments": {},
      "cell_type": "markdown",
      "metadata": {
        "id": "fseZU3FAtPvz"
      },
      "source": [
        "Também podemos modificar o fim do print, passando o parâmetro _end_ para ele"
      ]
    },
    {
      "cell_type": "code",
      "execution_count": null,
      "metadata": {
        "colab": {
          "base_uri": "https://localhost:8080/"
        },
        "id": "UEDlTaUttPvz",
        "outputId": "a778b310-213d-4662-aeb1-1d7b6390ac4d"
      },
      "outputs": [
        {
          "name": "stdout",
          "output_type": "stream",
          "text": [
            "Print com duas quebras de linha no final\n",
            "\n",
            "Print sem o separador de quebra de linha.Entrar_cadastro_clientes_123\n",
            "$ Print qualquer padrão\n",
            "Ok\n"
          ]
        }
      ],
      "source": [
        "print('Print com duas quebras de linha no final', end='\\n\\n')\n",
        "print('Print sem o separador de quebra de linha.', end='')\n",
        "print('Entrar', 'cadastro', 'clientes', 123, sep='_', end='\\n$ ') # Posso usar o sep e o end juntos\n",
        "print('Print qualquer padrão')\n",
        "print('Ok')"
      ]
    },
    {
      "attachments": {},
      "cell_type": "markdown",
      "metadata": {
        "id": "_iel0-WMtPv0"
      },
      "source": [
        "**Print de variáveis**  \n",
        "Também é possível imprimir variáveis de forma simples, basta passar o nome dado para a variável dentro dos parênteses."
      ]
    },
    {
      "cell_type": "code",
      "execution_count": null,
      "metadata": {
        "colab": {
          "base_uri": "https://localhost:8080/"
        },
        "id": "qg5oAQsQtPv0",
        "outputId": "588853e9-0f44-43a7-d8d2-47b12a80c5d9"
      },
      "outputs": [
        {
          "name": "stdout",
          "output_type": "stream",
          "text": [
            "35$Bruno Bragança\n"
          ]
        }
      ],
      "source": [
        "idade = 35\n",
        "nome = 'Bruno Bragança'\n",
        "print(idade, nome, sep='$')"
      ]
    },
    {
      "attachments": {},
      "cell_type": "markdown",
      "metadata": {
        "id": "FSzvmBVktPv1"
      },
      "source": [
        "E se for necessário imprimir a mensagem 'Olá, eu sou Bruno Bragança e tenho 35 anos.\", de forma que o nome e o sobrenome sejam provenientes de variáveis nome, sobrenome e idade."
      ]
    },
    {
      "cell_type": "code",
      "execution_count": null,
      "metadata": {
        "colab": {
          "base_uri": "https://localhost:8080/"
        },
        "id": "LgdJTC3VtPv1",
        "outputId": "4e43c111-971d-4fe5-b90b-2ee1d90deffb"
      },
      "outputs": [
        {
          "name": "stdout",
          "output_type": "stream",
          "text": [
            "Olá, eu sou o Bruno Bragança e tenho 35 anos.\n"
          ]
        }
      ],
      "source": [
        "nome = 'Bruno'\n",
        "sobrenome = 'Bragança'\n",
        "idade = 35\n",
        "print('Olá, eu sou o', nome, sobrenome, 'e tenho', idade, 'anos.')"
      ]
    },
    {
      "cell_type": "code",
      "execution_count": null,
      "metadata": {
        "id": "K_zpJtsxtPv1"
      },
      "outputs": [],
      "source": []
    },
    {
      "cell_type": "code",
      "execution_count": null,
      "metadata": {
        "colab": {
          "base_uri": "https://localhost:8080/"
        },
        "id": "wUyYHtJttPv2",
        "outputId": "7499b163-e9c1-4510-860f-17025c0ff1e8"
      },
      "outputs": [
        {
          "name": "stdout",
          "output_type": "stream",
          "text": [
            "Olá, eu sou o Bruno Bragança e tenho 35 anos.\n"
          ]
        }
      ],
      "source": [
        "# outra forma de usar o print, formatando a saída\n",
        "print('Olá, eu sou o {} {} e tenho {} anos.'.format(nome, sobrenome, idade))\n",
        "\n",
        "#\n",
        "# print('Olá, eu sou o {} {} e tenho {}, {}, {} anos., {}'.format(nome, sobrenome, idade))"
      ]
    },
    {
      "attachments": {},
      "cell_type": "markdown",
      "metadata": {
        "id": "uLhMh9L1tPv2"
      },
      "source": [
        "**Print com f string**  \n",
        "Outra forma de utilizarmos o print com variáveis é por meio do que chamamos de f string (ou interpolação de strings).\n",
        "\n",
        "Para utilizar o f string, adicionamos o _f_ na frente de uma string, e as variáveis dentro de chaves {}"
      ]
    },
    {
      "cell_type": "code",
      "execution_count": null,
      "metadata": {
        "colab": {
          "base_uri": "https://localhost:8080/"
        },
        "id": "Nf5C9f6stPv3",
        "outputId": "d42935ab-b983-4cc0-8560-49e1a43beee9"
      },
      "outputs": [
        {
          "name": "stdout",
          "output_type": "stream",
          "text": [
            "Olá, eu sou o Bruno Bragança e tenho 35 anos.\n"
          ]
        }
      ],
      "source": [
        "print(f'Olá, eu sou o {nome} {sobrenome} e tenho {idade} anos.')"
      ]
    },
    {
      "attachments": {},
      "cell_type": "markdown",
      "metadata": {
        "id": "wifqcQTDtPv3"
      },
      "source": [
        "A vantagem de usar f strings é que o código fica mais legível em comparado com o format."
      ]
    },
    {
      "attachments": {},
      "cell_type": "markdown",
      "metadata": {
        "id": "aYVPZYrFtPv3"
      },
      "source": [
        "Escrevam a frase abaixo, substituindo o nome/sobrenome/idade, endereço, complemento do endereço, cep, cidade, estado, pais pelo de vocês, usando o print com *format*.\n",
        "\n",
        "*Meu nome é aaa, tenho bbb anos, ccc na ddd, eee, fff, ggg, hhh, iii*\n",
        "\n",
        "Onde cada um dos valores (aaa, bbb, etc) será uma variável"
      ]
    },
    {
      "cell_type": "code",
      "execution_count": null,
      "metadata": {
        "id": "VPcjSTPXUOw9"
      },
      "outputs": [],
      "source": [
        "endereco = 'Avenida Itaborai, 25'\n",
        "complemento = 'Apto. 123'\n",
        "cep = 90000100\n",
        "cidade = 'Porto Alegre'\n",
        "estado = 'RS'\n",
        "pais = 'Brasil'\n",
        "\n",
        "print('Meu nome é {} {}, tenho {} anos, moro na {}, {}, {}, {}, {}, {}'.format(nome, sobrenome, idade, endereco, complemento, cep, cidade, estado, pais))"
      ]
    },
    {
      "attachments": {},
      "cell_type": "markdown",
      "metadata": {
        "id": "cuRz2VgyUfPN"
      },
      "source": [
        "Agora escreva o mesmo print com f-string"
      ]
    },
    {
      "cell_type": "code",
      "execution_count": null,
      "metadata": {
        "id": "cqfGHo8HUXUX"
      },
      "outputs": [],
      "source": [
        "print(f'Meu nome é {nome} {sobrenome}, tenho {idade} anos, moro na {endereco}, {complemento}, {cep}, {cidade}, {estado}, {pais}')"
      ]
    },
    {
      "attachments": {},
      "cell_type": "markdown",
      "metadata": {
        "id": "a7vQvXgfTQ1Z"
      },
      "source": [
        "Caso onde o format pode ser mais útil que a f-string\n",
        "\n",
        "Podemos utilizar o format para reduzir o tamanho de um float, por exemplo se a minha variavel retorna 3.14159 e eu quero só o 3.14, o format dá para fazer de forma mais natural\n",
        "\n",
        "\n",
        "numero = 3.14159\n",
        "\n",
        "numero_formatado = \"{:.3f}\".format(numero)\n",
        "\n",
        "print(numero_formatado)"
      ]
    },
    {
      "cell_type": "code",
      "execution_count": null,
      "metadata": {
        "colab": {
          "base_uri": "https://localhost:8080/"
        },
        "id": "_xkcB1saTZlQ",
        "outputId": "aec14b31-984f-44de-aaea-e78d73f3b5ac"
      },
      "outputs": [
        {
          "name": "stdout",
          "output_type": "stream",
          "text": [
            "Numero formatado 3.142\n"
          ]
        }
      ],
      "source": [
        "numero = 3.14159\n",
        "numero_formatado = \"{:.3f}\".format(numero)\n",
        "print(f'Numero formatado {numero_formatado}')"
      ]
    },
    {
      "attachments": {},
      "cell_type": "markdown",
      "metadata": {
        "id": "5HivDwyttPv6"
      },
      "source": [
        "**Vamos praticar (2)**  \n",
        "Escreva um programa que receba seu nome, sua idade e hobby e escreva uma única sentença que seja, por exemplo, \"Meu nome é x, tenho y anos e meu hobby é z\""
      ]
    },
    {
      "cell_type": "code",
      "execution_count": null,
      "metadata": {
        "id": "eeWFzI9nWF_K"
      },
      "outputs": [],
      "source": []
    },
    {
      "attachments": {},
      "cell_type": "markdown",
      "metadata": {
        "id": "PVoLUDgptPv7"
      },
      "source": [
        "## Operadores Algébricos\n",
        "\n",
        "Rotineiramente nos deparamos com a necessidade de realizarmos cálculos, para isso podemos utilizar os operadores algébricos como conhecemos na matemática tradicional."
      ]
    },
    {
      "attachments": {},
      "cell_type": "markdown",
      "metadata": {
        "id": "fO1ox5zOtPv8"
      },
      "source": [
        "**Adição**"
      ]
    },
    {
      "cell_type": "code",
      "execution_count": null,
      "metadata": {
        "colab": {
          "base_uri": "https://localhost:8080/"
        },
        "id": "aWxpm8WmtPv8",
        "outputId": "b75180ae-367f-4464-912a-8629d4e078af"
      },
      "outputs": [
        {
          "data": {
            "text/plain": [
              "5"
            ]
          },
          "execution_count": 2,
          "metadata": {},
          "output_type": "execute_result"
        }
      ],
      "source": [
        "2 + 3"
      ]
    },
    {
      "attachments": {},
      "cell_type": "markdown",
      "metadata": {
        "id": "wt_Vz2WXtPv9"
      },
      "source": [
        "**Subtração**"
      ]
    },
    {
      "cell_type": "code",
      "execution_count": null,
      "metadata": {
        "colab": {
          "base_uri": "https://localhost:8080/"
        },
        "id": "CBVI9fm4tPv-",
        "outputId": "6406e91a-626b-40cc-e2e8-dddc619d88f9"
      },
      "outputs": [
        {
          "data": {
            "text/plain": [
              "5"
            ]
          },
          "execution_count": 1,
          "metadata": {},
          "output_type": "execute_result"
        }
      ],
      "source": [
        "8 - 3"
      ]
    },
    {
      "attachments": {},
      "cell_type": "markdown",
      "metadata": {
        "id": "gbXf9e2RtPv-"
      },
      "source": [
        "**Multiplicação**"
      ]
    },
    {
      "cell_type": "code",
      "execution_count": null,
      "metadata": {
        "colab": {
          "base_uri": "https://localhost:8080/"
        },
        "id": "PtutuygUtPv_",
        "outputId": "47bc69f1-a85a-4116-8778-4ed9d995efa1"
      },
      "outputs": [
        {
          "data": {
            "text/plain": [
              "32"
            ]
          },
          "execution_count": 111,
          "metadata": {},
          "output_type": "execute_result"
        }
      ],
      "source": [
        "8 * 4"
      ]
    },
    {
      "attachments": {},
      "cell_type": "markdown",
      "metadata": {
        "id": "eVYJqMJktPv_"
      },
      "source": [
        "**Divisão**"
      ]
    },
    {
      "cell_type": "code",
      "execution_count": null,
      "metadata": {
        "colab": {
          "base_uri": "https://localhost:8080/"
        },
        "id": "9fpBG8PItPwA",
        "outputId": "f04ea0b8-070a-4314-a06f-816c94e9e04b"
      },
      "outputs": [
        {
          "data": {
            "text/plain": [
              "5.0"
            ]
          },
          "execution_count": 3,
          "metadata": {},
          "output_type": "execute_result"
        }
      ],
      "source": [
        "10/2"
      ]
    },
    {
      "attachments": {},
      "cell_type": "markdown",
      "metadata": {
        "id": "ewMKGEpv5bHe"
      },
      "source": [
        "**Precedência**"
      ]
    },
    {
      "cell_type": "code",
      "execution_count": null,
      "metadata": {
        "colab": {
          "base_uri": "https://localhost:8080/"
        },
        "id": "UlRicAkm5aj6",
        "outputId": "e15668a4-9550-4a59-e240-e306853d6d5e"
      },
      "outputs": [
        {
          "data": {
            "text/plain": [
              "56"
            ]
          },
          "execution_count": 7,
          "metadata": {},
          "output_type": "execute_result"
        }
      ],
      "source": [
        "(2 * (2 + 5)) * 4"
      ]
    },
    {
      "attachments": {},
      "cell_type": "markdown",
      "metadata": {
        "id": "mvJbD8rItPwB"
      },
      "source": [
        "Resumindo:\n",
        "\n",
        "| Símbolo | Operação        |\n",
        "|---------|-----------------|\n",
        "|    +    | soma            |\n",
        "|    -    | subtração       |\n",
        "|    *    | multiplicação   |\n",
        "|    /    | divisão         |\n",
        "|    //   | divisão inteira |\n",
        "|    %    | resto           |\n",
        "|    **   | potência        |"
      ]
    },
    {
      "attachments": {},
      "cell_type": "markdown",
      "metadata": {
        "id": "Kq0l3IvFtPwB"
      },
      "source": [
        "**Divisão não inteira**"
      ]
    },
    {
      "cell_type": "code",
      "execution_count": null,
      "metadata": {
        "colab": {
          "base_uri": "https://localhost:8080/"
        },
        "id": "841W2zuwtPwC",
        "outputId": "b96a1bf2-163d-4aad-9e29-ba3a4bfba068"
      },
      "outputs": [
        {
          "data": {
            "text/plain": [
              "1.3333333333333333"
            ]
          },
          "execution_count": 8,
          "metadata": {},
          "output_type": "execute_result"
        }
      ],
      "source": [
        "4/3"
      ]
    },
    {
      "attachments": {},
      "cell_type": "markdown",
      "metadata": {
        "id": "85pIK91EtPwD"
      },
      "source": [
        "**Divisão inteira**"
      ]
    },
    {
      "cell_type": "code",
      "execution_count": null,
      "metadata": {
        "colab": {
          "base_uri": "https://localhost:8080/"
        },
        "id": "YlaYGEcgtPwD",
        "outputId": "ac87da3b-f062-4bd5-d432-91550b9072c7"
      },
      "outputs": [
        {
          "data": {
            "text/plain": [
              "1"
            ]
          },
          "execution_count": 9,
          "metadata": {},
          "output_type": "execute_result"
        }
      ],
      "source": [
        "4//3"
      ]
    },
    {
      "attachments": {},
      "cell_type": "markdown",
      "metadata": {
        "id": "YrCsae37tPwE"
      },
      "source": [
        "**Resto**"
      ]
    },
    {
      "cell_type": "code",
      "execution_count": null,
      "metadata": {
        "colab": {
          "base_uri": "https://localhost:8080/"
        },
        "id": "QWYy1yV_tPwE",
        "outputId": "32548bf8-7136-4dc3-a50d-b606e4160119"
      },
      "outputs": [
        {
          "data": {
            "text/plain": [
              "1"
            ]
          },
          "execution_count": 10,
          "metadata": {},
          "output_type": "execute_result"
        }
      ],
      "source": [
        "4%3"
      ]
    },
    {
      "attachments": {},
      "cell_type": "markdown",
      "metadata": {
        "id": "LHTGxdY6tPwG"
      },
      "source": [
        "**Potência**"
      ]
    },
    {
      "cell_type": "code",
      "execution_count": null,
      "metadata": {
        "colab": {
          "base_uri": "https://localhost:8080/"
        },
        "id": "p6TG5HNXtPwG",
        "outputId": "0e70bf54-e2f8-43a1-8557-ae9bb31a2b29"
      },
      "outputs": [
        {
          "data": {
            "text/plain": [
              "32"
            ]
          },
          "execution_count": 11,
          "metadata": {},
          "output_type": "execute_result"
        }
      ],
      "source": [
        "2**5"
      ]
    },
    {
      "attachments": {},
      "cell_type": "markdown",
      "metadata": {
        "id": "lxNJwMg6tPwH"
      },
      "source": [
        "**Utilizando variáveis**"
      ]
    },
    {
      "cell_type": "code",
      "execution_count": null,
      "metadata": {
        "colab": {
          "base_uri": "https://localhost:8080/"
        },
        "id": "B0J8GmgHtPwH",
        "outputId": "743451fa-6ddf-4e71-c5f9-30d3f6c90bc8"
      },
      "outputs": [
        {
          "name": "stdout",
          "output_type": "stream",
          "text": [
            "5.5\n"
          ]
        }
      ],
      "source": [
        "var_1 = 2\n",
        "var_2 = 3.5\n",
        "\n",
        "print(var_1 + var_2)"
      ]
    },
    {
      "attachments": {},
      "cell_type": "markdown",
      "metadata": {
        "id": "i-qQNUWdtPwI"
      },
      "source": [
        "**Vamos praticar (1)**  \n",
        "Com tudo que vimos até o momento faça um programa que solicite ao usuário que insira seu ano de nascimento. Desconsiderando o mês do ano de nascimento, emita uma mensagem dizendo quantos anos ele possui."
      ]
    },
    {
      "cell_type": "code",
      "execution_count": null,
      "metadata": {
        "colab": {
          "base_uri": "https://localhost:8080/"
        },
        "id": "kqBDKNd4tPwJ",
        "outputId": "7960e463-c60a-4a16-e2a5-01452c327748"
      },
      "outputs": [
        {
          "name": "stdout",
          "output_type": "stream",
          "text": [
            "digite sua data de nascimento: 28/05/1990\n",
            "28051990\n",
            "5\n"
          ]
        }
      ],
      "source": [
        "# Solução do Clério\n",
        "data = input('digite sua data de nascimento: ').replace('/','')\n",
        "print(data)\n",
        "mes = int(data[3:4])\n",
        "ano = int(data[4:8])\n",
        "\n",
        "\n",
        "if mes > 6:\n",
        "  mes = ((mes - 6) - 12)*-1\n",
        "  idade =- 1\n",
        "  idade = (2023 - ano)-1\n",
        "if mes == 6:\n",
        "  mes = 0\n",
        "  idade = (2023 - ano)\n",
        "else:\n",
        "  mes =- 6\n",
        "  idade = 2023 - ano\n",
        "\n",
        "print(f'Sua idade é {idade} anos e {mes} meses')"
      ]
    },
    {
      "cell_type": "code",
      "execution_count": null,
      "metadata": {
        "id": "CapzKNzX7D79"
      },
      "outputs": [],
      "source": [
        "# Solução da Mohara\n",
        "nascimento = int(input('Digite seu ano de nascimento: '))\n",
        "idade = 2023 - nascimento\n",
        "print(f'Você possui {idade} anos \\n')"
      ]
    },
    {
      "cell_type": "code",
      "execution_count": null,
      "metadata": {
        "id": "9kc0LC8N7R1p"
      },
      "outputs": [],
      "source": [
        "# Solução do Thiago Michaelsen\n",
        "import datetime\n",
        "ano_atual = datetime.date.today().year\n",
        "\n",
        "ano_de_nascimento = int(input('Insira aqui o seu ano de nascimento: '))\n",
        "idade = ano_atual - ano_de_nascimento\n",
        "\n",
        "print(f'Você possui {idade} anos!')"
      ]
    },
    {
      "cell_type": "code",
      "execution_count": null,
      "metadata": {
        "colab": {
          "base_uri": "https://localhost:8080/"
        },
        "id": "LtrU5acK7UVp",
        "outputId": "5ece7a8a-20f2-41ad-fbf5-c2410d3ef728"
      },
      "outputs": [
        {
          "name": "stdout",
          "output_type": "stream",
          "text": [
            "Digite (apenas os números) o ano que vc nasceu: s\n",
            "Digite apenas os números!! Digite o ano que vc nasceu: s\n",
            "Digite apenas os números!! Digite o ano que vc nasceu: d\n",
            "Digite apenas os números!! Digite o ano que vc nasceu: q\n",
            "Digite apenas os números!! Digite o ano que vc nasceu: 8\n",
            "8\n"
          ]
        }
      ],
      "source": [
        "# Solução da Rhayza\n",
        "def get_year ():\n",
        "  year = input('Digite (apenas os números) o ano que vc nasceu: ')\n",
        "  while year.isnumeric() != True:\n",
        "    year = input('Digite apenas os números!! Digite o ano que vc nasceu: ')\n",
        "  return int(year)\n",
        "\n",
        "def age (year):\n",
        "  return print(f\"Você tem {2023 - year} anos de idade\")\n",
        "\n",
        "print(get_year())"
      ]
    },
    {
      "attachments": {},
      "cell_type": "markdown",
      "metadata": {
        "id": "8eMBY62qtPwJ"
      },
      "source": [
        "## Operadores de Comparação  \n",
        "Os operadores de comparação são aqueles que possuem o objetivo de analisar os valores de uma expressão e retornar um valor booleano, ou seja, verdadeiro (1) ou falso (0)."
      ]
    },
    {
      "attachments": {},
      "cell_type": "markdown",
      "metadata": {
        "id": "kHSG7_qJtPwJ"
      },
      "source": [
        "**Maior que**"
      ]
    },
    {
      "cell_type": "code",
      "execution_count": null,
      "metadata": {
        "colab": {
          "base_uri": "https://localhost:8080/"
        },
        "id": "ISR_AQHetPwK",
        "outputId": "cab1e0a8-1267-43bb-9dd3-fa7d591acfe0"
      },
      "outputs": [
        {
          "data": {
            "text/plain": [
              "False"
            ]
          },
          "execution_count": 112,
          "metadata": {},
          "output_type": "execute_result"
        }
      ],
      "source": [
        "2 > 3"
      ]
    },
    {
      "attachments": {},
      "cell_type": "markdown",
      "metadata": {
        "id": "Y6uLZ4xttPwK"
      },
      "source": [
        "**Menor que**"
      ]
    },
    {
      "cell_type": "code",
      "execution_count": null,
      "metadata": {
        "colab": {
          "base_uri": "https://localhost:8080/"
        },
        "id": "gKRKqbC7tPwK",
        "outputId": "75f37980-b640-4390-bf7e-591edbb67f80"
      },
      "outputs": [
        {
          "data": {
            "text/plain": [
              "True"
            ]
          },
          "execution_count": 113,
          "metadata": {},
          "output_type": "execute_result"
        }
      ],
      "source": [
        "2 < 3"
      ]
    },
    {
      "attachments": {},
      "cell_type": "markdown",
      "metadata": {
        "id": "xwB4zgJJtPwL"
      },
      "source": [
        "**Igualdade**"
      ]
    },
    {
      "cell_type": "code",
      "execution_count": null,
      "metadata": {
        "colab": {
          "base_uri": "https://localhost:8080/",
          "height": 131
        },
        "id": "vnrg9gdMtPwL",
        "outputId": "39198439-a289-4a30-df28-7a6f115ce60a"
      },
      "outputs": [
        {
          "ename": "SyntaxError",
          "evalue": "ignored",
          "output_type": "error",
          "traceback": [
            "\u001b[0;36m  File \u001b[0;32m\"<ipython-input-21-6be0cde847f2>\"\u001b[0;36m, line \u001b[0;32m2\u001b[0m\n\u001b[0;31m    2 = 4\u001b[0m\n\u001b[0m    ^\u001b[0m\n\u001b[0;31mSyntaxError\u001b[0m\u001b[0;31m:\u001b[0m cannot assign to literal here. Maybe you meant '==' instead of '='?\n"
          ]
        }
      ],
      "source": [
        "2 == 3  # var_1 = 4 é uma atribuição, e não comparação"
      ]
    },
    {
      "attachments": {},
      "cell_type": "markdown",
      "metadata": {
        "id": "K8pvynBHtPwM"
      },
      "source": [
        "**Diferença**"
      ]
    },
    {
      "cell_type": "code",
      "execution_count": null,
      "metadata": {
        "colab": {
          "base_uri": "https://localhost:8080/"
        },
        "id": "s6r1wKLxtPwM",
        "outputId": "13eea273-0a58-47d8-aa50-46088a955fd7"
      },
      "outputs": [
        {
          "data": {
            "text/plain": [
              "True"
            ]
          },
          "execution_count": 20,
          "metadata": {},
          "output_type": "execute_result"
        }
      ],
      "source": [
        "2 != 5"
      ]
    },
    {
      "attachments": {},
      "cell_type": "markdown",
      "metadata": {
        "id": "wEyKt7_ntPwO"
      },
      "source": [
        "**Maior ou igual**"
      ]
    },
    {
      "cell_type": "code",
      "execution_count": null,
      "metadata": {
        "colab": {
          "base_uri": "https://localhost:8080/"
        },
        "id": "nq_PWSz_tPwP",
        "outputId": "13ca14a1-dfec-4be2-c24c-76ef547764f1"
      },
      "outputs": [
        {
          "data": {
            "text/plain": [
              "True"
            ]
          },
          "execution_count": 22,
          "metadata": {},
          "output_type": "execute_result"
        }
      ],
      "source": [
        "3 >= 2"
      ]
    },
    {
      "attachments": {},
      "cell_type": "markdown",
      "metadata": {
        "id": "1jw95Wk2tPwP"
      },
      "source": [
        "**Menor ou igual**"
      ]
    },
    {
      "cell_type": "code",
      "execution_count": null,
      "metadata": {
        "colab": {
          "base_uri": "https://localhost:8080/"
        },
        "id": "EsZgRwkTtPwQ",
        "outputId": "59b6bb8b-59c9-473a-eb8a-2c2806597210"
      },
      "outputs": [
        {
          "data": {
            "text/plain": [
              "False"
            ]
          },
          "execution_count": 23,
          "metadata": {},
          "output_type": "execute_result"
        }
      ],
      "source": [
        "3 <= 2"
      ]
    },
    {
      "attachments": {},
      "cell_type": "markdown",
      "metadata": {
        "id": "96238HnfWQtG"
      },
      "source": [
        "Resumindo:\n",
        "\n",
        "| Símbolo | Operação        |\n",
        "|---------|-----------------|\n",
        "|    >    | Maior           |\n",
        "|    <    | Menor           |\n",
        "|    ==   | Igualdade       |\n",
        "|    !=   | Diferença       |\n",
        "|    >=   | Maior ou igual  |\n",
        "|    <=   | Menor ou igual  |"
      ]
    },
    {
      "attachments": {},
      "cell_type": "markdown",
      "metadata": {
        "id": "ubap-uNotPwQ"
      },
      "source": [
        "**Vamos praticar (3)**  \n",
        "Imagine que você está implementando um sistema para verificar se os alunos de uma turma estudantil passaram na disciplina ou não. Para isso solicite que o usuário insira as notas das 4 provas realizadas por um estudante e calcule a média. Após isso, emita uma resposta booleana (True ou False) se o estudante passou na disciplina pensando que a média mínima para aprovação é que seja pelo menos 5."
      ]
    },
    {
      "cell_type": "code",
      "execution_count": null,
      "metadata": {
        "id": "KkoQkwlu-CMw"
      },
      "outputs": [],
      "source": [
        "# Solução do Thiago Caveglion\n",
        "lista = []\n",
        "soma = 0\n",
        "quantidade_de_provas = 4\n",
        "for i in range(quantidade_de_provas):\n",
        "    lista.append(float(input(f\"digite a nota {i + 1}: \")))\n",
        "for nota in lista: soma += nota\n",
        "media = soma/quantidade_de_provas\n",
        "if media >= 5: print(True)\n",
        "else: print(False)"
      ]
    },
    {
      "cell_type": "code",
      "execution_count": null,
      "metadata": {
        "id": "Lj0Xl8MstPwR"
      },
      "outputs": [],
      "source": [
        "# Solução do Gabriel Miranda\n",
        "import numpy as np\n",
        "notas = []\n",
        "for i in range(4):\n",
        "    notas.append(float(input(\"Nota \"+str(i+1)+\":\")))\n",
        "notas = np.array(notas)\n",
        "print(notas.mean() >= 5)"
      ]
    },
    {
      "cell_type": "code",
      "execution_count": null,
      "metadata": {
        "id": "73qGWhAv-PzB"
      },
      "outputs": [],
      "source": [
        "# Solução do Lucas Lima\n",
        "nota_1 = int(input(\"Insira a nota da 1ª prova\"))\n",
        "nota_2 = int(input(\"Insira a nota da 2ª prova\"))\n",
        "nota_3 = int(input(\"Insira a nota da 3ª prova\"))\n",
        "nota_4 = int(input(\"Insira a nota da 4ª prova\"))\n",
        "\n",
        "media = (nota_1 + nota_2 + nota_3 + nota_4)/4;\n",
        "\n",
        "if media >= 5:\n",
        "    print(True)\n",
        "else:\n",
        "    print(False)"
      ]
    },
    {
      "cell_type": "code",
      "execution_count": null,
      "metadata": {
        "id": "9sAJDgfL-T68"
      },
      "outputs": [],
      "source": [
        "# Solução da Fernanda Dallaqua\n",
        "notas = input('Insira as notas das 4 provas, com ponto para decimal e separadas por vírgula: ')\n",
        "notas = notas.split(',')\n",
        "notas = [float(x) for x in notas]\n",
        "media = float(sum(notas))/4.0\n",
        "print('Média = {}'.format(media))\n",
        "if media >= 5.0:\n",
        "  print('Estudante aprovado')\n",
        "else:\n",
        "  print('Estudante reprovado')"
      ]
    },
    {
      "cell_type": "code",
      "execution_count": null,
      "metadata": {
        "id": "zxzxlTX_-Z2U"
      },
      "outputs": [],
      "source": [
        "# Solução da Mohara\n",
        "n1 = float(input('Digite sua primeira nota: '))\n",
        "n2 = float(input('Digite sua segunda nota: '))\n",
        "n3 = float(input('Digite sua terceira nota: '))\n",
        "n4 = float(input('Digite sua quarta nota: '))\n",
        "media = (n1+n2+n3+n4)/4\n",
        "print(media>=5)"
      ]
    },
    {
      "attachments": {},
      "cell_type": "markdown",
      "metadata": {
        "id": "-sToJD_jtPwR"
      },
      "source": [
        "Crie um algoritmo que calcule o IMC (índice de massa corporal). O IMC é calculado com a formula PESO/(ALTURA ^ 2). Para isso, coloque as informações nas variáveis e ao final apresente o resultado como no exemplo: \"O IMC é 18\""
      ]
    },
    {
      "cell_type": "code",
      "execution_count": null,
      "metadata": {
        "id": "8s8Xn2GktPwS"
      },
      "outputs": [],
      "source": [
        "# Solução do Lucas Lima\n",
        "peso = float(input(\"Insira aqui o seu peso: \").replace(',', '.')) # Estratégia usado pelo Rodrigo Carvalho para evitar erros ao informar número com vírgula ao invés de ponto\n",
        "altura = float(input(\"Insira aqui a sua altura: \"))\n",
        "\n",
        "imc = peso / (altura**2)\n",
        "\n",
        "print(f\"O IMC é {round(imc, 2)}\")"
      ]
    },
    {
      "attachments": {},
      "cell_type": "markdown",
      "metadata": {
        "id": "B6r3yssZtPwS"
      },
      "source": [
        "Escreva um algoritmo que calcule (x + y) * (x + y). Os valores de x e y devem ser inseridos pelo usuário"
      ]
    },
    {
      "cell_type": "code",
      "execution_count": null,
      "metadata": {
        "id": "LWkmaWfbtPwS"
      },
      "outputs": [],
      "source": [
        "# Solução da Manusa\n",
        "x=float(input('Insira o valor de x(valor inteiro ou decimal):'))\n",
        "y=float(input('Insira o valor de y (valor inteiro ou decimal):'))\n",
        "calc=(x+y)*(x+y)\n",
        "print(f'O resultado do cálculo ({x} + {y}) * ({x} + {y}) = {calc}')"
      ]
    },
    {
      "cell_type": "code",
      "execution_count": null,
      "metadata": {},
      "outputs": [],
      "source": []
    }
  ],
  "metadata": {
    "colab": {
      "provenance": []
    },
    "kernelspec": {
      "display_name": "Python 3",
      "name": "python3"
    },
    "language_info": {
      "codemirror_mode": {
        "name": "ipython",
        "version": 3
      },
      "file_extension": ".py",
      "mimetype": "text/x-python",
      "name": "python",
      "nbconvert_exporter": "python",
      "pygments_lexer": "ipython3",
      "version": "3.11.0"
    }
  },
  "nbformat": 4,
  "nbformat_minor": 0
}
