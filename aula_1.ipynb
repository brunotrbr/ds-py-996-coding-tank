{
  "cells": [
    {
      "cell_type": "markdown",
      "metadata": {
        "id": "LRF0e8mftPu-"
      },
      "source": [
        "# Coding Tank Santander Coders 2023 - Turma 996"
      ]
    },
    {
      "cell_type": "markdown",
      "metadata": {
        "id": "OHc-DC0QtPvD"
      },
      "source": [
        "## Alguns recados\n",
        "- Horários\n",
        "  - Início: 19:00\n",
        "  - Intervalo: aprox. 20:30 - 20:45\n",
        "  - Fim: 22:00\n",
        "- Presença\n",
        "  - Obrigatória\n",
        "  - 2 faltas consecutivas é eliminado do processo\n",
        "  - Mais de 2 faltas não recebem o certificado de participação\n",
        "- Câmera\n",
        "  - Opcional durante as aulas, mas sugerimos que abram ao perguntar ou interagir\n",
        "  - **Obrigatório** durante a prova\n",
        "- Certificado\n",
        "  - Certificado se presença >= 5\n",
        "- Acesso ao conteúdo didático\n",
        "  - https://lms.ada.tech/\n",
        "  -**Acessar com o email cadastrado no sistema**"
      ]
    },
    {
      "cell_type": "markdown",
      "metadata": {
        "id": "vAEDPUAytPvE"
      },
      "source": [
        "## Cronograma de aulas\n",
        "\n",
        "- Aula 1\n",
        "    - Variáveis\n",
        "    - Tipos básicos\n",
        "    - Entradas/Saídas\n",
        "    - Operadores Algébricos\n",
        "    - Operadores de comparação\n",
        "\n",
        "- Aula 2\n",
        "    - Estrutura condicional e controle de fluxo\n",
        "    - Comando if\n",
        "    - Comando else\n",
        "    - Comando Elif\n",
        "\n",
        "- Aula 3\n",
        "    - Estruturas de repetição\n",
        "    - Looping while\n",
        "\n",
        "- Aula 4\n",
        "    - Listas\n",
        "    - Funções, parâmetros e retorno\n",
        "\n",
        "- Aula 5\n",
        "    - Prova\n"
      ]
    },
    {
      "cell_type": "markdown",
      "metadata": {
        "id": "jTLnOXa8tPvF"
      },
      "source": [
        "------------------------"
      ]
    },
    {
      "cell_type": "markdown",
      "metadata": {
        "id": "OCBDEQEYtPvG"
      },
      "source": [
        "## Variáveis\n",
        "Variável é o nome dado ao tipo de conteúdo que pode apresentar diferentes valores enquanto o sistema está em execução. Tudo dependerá do comando do usuário e o tipo de operação que é realizado.  \n",
        "\n",
        "```\n",
        "nome = \"Bruno\"\n",
        "```"
      ]
    },
    {
      "cell_type": "markdown",
      "metadata": {
        "id": "c7A2WNfitPvG"
      },
      "source": [
        "## Tipos básicos\n",
        "\n",
        "Podemos ter informações relacionadas às outras pessoas como nome, idade e salário. Cada uma delas possui o que chamamos de tipos de variável. Os tipos de dados são os seguintes:"
      ]
    },
    {
      "cell_type": "code",
      "execution_count": 8,
      "metadata": {
        "colab": {
          "base_uri": "https://localhost:8080/"
        },
        "id": "41rOwliStPvH",
        "outputId": "fa6b6b87-bdf4-47ef-b55d-7ce4696eacd4"
      },
      "outputs": [
        {
          "output_type": "execute_result",
          "data": {
            "text/plain": [
              "int"
            ]
          },
          "metadata": {},
          "execution_count": 8
        }
      ],
      "source": [
        "# Esta é uma forma de comentar o código. Toda esta informação não será processada\n",
        "# nome = 'Bruno'\n",
        "# Podemos passar variáveis de texto (str) com aspas duplas\n",
        "nome_do_instrutor = \"Bruno\"\n",
        "type(nome_do_instrutor)\n",
        "\n",
        "nome_do_instrutor = 1\n",
        "type(nome_do_instrutor)"
      ]
    },
    {
      "cell_type": "code",
      "execution_count": 14,
      "metadata": {
        "colab": {
          "base_uri": "https://localhost:8080/"
        },
        "id": "71xdifaotPvK",
        "outputId": "f98f84ce-02b6-4dce-d381-907d147179fd"
      },
      "outputs": [
        {
          "output_type": "execute_result",
          "data": {
            "text/plain": [
              "str"
            ]
          },
          "metadata": {},
          "execution_count": 14
        }
      ],
      "source": [
        "# Ou aspas simples\n",
        "nome_do_instrutor = 'Bruno'\n",
        "type(nome_do_instrutor)"
      ]
    },
    {
      "cell_type": "code",
      "source": [
        "nome_do_instrutor"
      ],
      "metadata": {
        "colab": {
          "base_uri": "https://localhost:8080/"
        },
        "id": "aC6Muhnx3xZO",
        "outputId": "3a34669a-93fb-445a-95b2-59c983923958"
      },
      "execution_count": 9,
      "outputs": [
        {
          "output_type": "execute_result",
          "data": {
            "text/plain": [
              "1"
            ]
          },
          "metadata": {},
          "execution_count": 9
        }
      ]
    },
    {
      "cell_type": "code",
      "execution_count": 17,
      "metadata": {
        "colab": {
          "base_uri": "https://localhost:8080/"
        },
        "id": "NOXXOWTgtPvK",
        "outputId": "59e9f4b0-5b48-48c7-f6c6-dd802f16cd58"
      },
      "outputs": [
        {
          "output_type": "execute_result",
          "data": {
            "text/plain": [
              "int"
            ]
          },
          "metadata": {},
          "execution_count": 17
        }
      ],
      "source": [
        "# Números inteiros são passados diretamente para a variável\n",
        "idade = 35\n",
        "idade\n",
        "type(idade)"
      ]
    },
    {
      "cell_type": "code",
      "execution_count": 22,
      "metadata": {
        "colab": {
          "base_uri": "https://localhost:8080/"
        },
        "id": "WrZhv9t0tPvL",
        "outputId": "5139d3dd-138a-411a-d256-f9cbaae2d150"
      },
      "outputs": [
        {
          "output_type": "execute_result",
          "data": {
            "text/plain": [
              "float"
            ]
          },
          "metadata": {},
          "execution_count": 22
        }
      ],
      "source": [
        "# Números decimais (float) possuem o ponto (.) comos separador das casas decimais\n",
        "dolar = 4.77\n",
        "type(dolar)"
      ]
    },
    {
      "cell_type": "code",
      "execution_count": 23,
      "metadata": {
        "colab": {
          "base_uri": "https://localhost:8080/"
        },
        "id": "Y6c9CtgytPvM",
        "outputId": "c12c2e94-ac0d-4505-82ed-5acd56159ac7"
      },
      "outputs": [
        {
          "output_type": "execute_result",
          "data": {
            "text/plain": [
              "str"
            ]
          },
          "metadata": {},
          "execution_count": 23
        }
      ],
      "source": [
        "# Se passarmos um número entre aspas, ele é armazenado como string\n",
        "dolar = '4.77'\n",
        "type(dolar)"
      ]
    },
    {
      "cell_type": "code",
      "execution_count": 26,
      "metadata": {
        "colab": {
          "base_uri": "https://localhost:8080/",
          "height": 200
        },
        "id": "sjbBdJn0tPvN",
        "outputId": "3a41600d-1e56-4674-a2aa-84160d7ba062"
      },
      "outputs": [
        {
          "output_type": "error",
          "ename": "NameError",
          "evalue": "ignored",
          "traceback": [
            "\u001b[0;31m---------------------------------------------------------------------------\u001b[0m",
            "\u001b[0;31mNameError\u001b[0m                                 Traceback (most recent call last)",
            "\u001b[0;32m<ipython-input-26-e527e613c3a1>\u001b[0m in \u001b[0;36m<cell line: 10>\u001b[0;34m()\u001b[0m\n\u001b[1;32m      8\u001b[0m \u001b[0;31m# Atenção\u001b[0m\u001b[0;34m\u001b[0m\u001b[0;34m\u001b[0m\u001b[0m\n\u001b[1;32m      9\u001b[0m \u001b[0;31m# variáveis do tipo bool recebem True ou False, com letra maiúsula\u001b[0m\u001b[0;34m\u001b[0m\u001b[0;34m\u001b[0m\u001b[0m\n\u001b[0;32m---> 10\u001b[0;31m \u001b[0mcertificado\u001b[0m \u001b[0;34m=\u001b[0m \u001b[0mfalse\u001b[0m\u001b[0;34m\u001b[0m\u001b[0;34m\u001b[0m\u001b[0m\n\u001b[0m",
            "\u001b[0;31mNameError\u001b[0m: name 'false' is not defined"
          ]
        }
      ],
      "source": [
        "# Variáveis booleanas recebem True ou False como valores\n",
        "certificado = True\n",
        "type(certificado)\n",
        "\n",
        "certificado = False\n",
        "type(certificado)\n",
        "\n",
        "# Atenção\n",
        "# variáveis do tipo bool recebem True ou False, com letra maiúsula"
      ]
    },
    {
      "cell_type": "markdown",
      "metadata": {
        "id": "UjO97O35tPvN"
      },
      "source": [
        "## Entradas\n",
        "\n",
        "Para solicitarmos entradas de informações a serem fornecidas pelo usuário podemos utilizar a função input. Com ela você poderá (opcionalmente) passar uma mensagem instrutiva ao usuário do que deseja que ele insira.  "
      ]
    },
    {
      "cell_type": "code",
      "execution_count": 27,
      "metadata": {
        "colab": {
          "base_uri": "https://localhost:8080/",
          "height": 53
        },
        "id": "OAIIAjqQtPvO",
        "outputId": "bb33bfff-2e54-4df8-d32f-882d504d6138"
      },
      "outputs": [
        {
          "name": "stdout",
          "output_type": "stream",
          "text": [
            "qualquer coisa\n"
          ]
        },
        {
          "output_type": "execute_result",
          "data": {
            "text/plain": [
              "'qualquer coisa'"
            ],
            "application/vnd.google.colaboratory.intrinsic+json": {
              "type": "string"
            }
          },
          "metadata": {},
          "execution_count": 27
        }
      ],
      "source": [
        "input()"
      ]
    },
    {
      "cell_type": "markdown",
      "metadata": {
        "id": "CuTUKRxxtPvP"
      },
      "source": [
        "Veja que ele funciona, porém sem uma mensagem de qual informação é solicitada não é possível identificar o que se deve passar ao programa?"
      ]
    },
    {
      "cell_type": "code",
      "execution_count": 28,
      "metadata": {
        "colab": {
          "base_uri": "https://localhost:8080/",
          "height": 53
        },
        "id": "AgBo_-Y3tPvP",
        "outputId": "d7cff2f8-3d80-423d-deea-e1d0057ecbeb"
      },
      "outputs": [
        {
          "name": "stdout",
          "output_type": "stream",
          "text": [
            "Insira aqui a sua idade:35\n"
          ]
        },
        {
          "output_type": "execute_result",
          "data": {
            "text/plain": [
              "'35'"
            ],
            "application/vnd.google.colaboratory.intrinsic+json": {
              "type": "string"
            }
          },
          "metadata": {},
          "execution_count": 28
        }
      ],
      "source": [
        "input('Insira aqui a sua idade:')"
      ]
    },
    {
      "cell_type": "markdown",
      "metadata": {
        "id": "Nv5IZDostPvQ"
      },
      "source": [
        "**Variável**  \n",
        "Podemos guardar o valor passado pelo usuário numa variável"
      ]
    },
    {
      "cell_type": "code",
      "execution_count": 29,
      "metadata": {
        "colab": {
          "base_uri": "https://localhost:8080/"
        },
        "id": "x7S5D0_OtPvQ",
        "outputId": "84c61957-3c6f-4f86-bde7-909b53f4bb3c"
      },
      "outputs": [
        {
          "name": "stdout",
          "output_type": "stream",
          "text": [
            "Insira aqui a sua idade:35\n"
          ]
        }
      ],
      "source": [
        "idade = input('Insira aqui a sua idade:')"
      ]
    },
    {
      "cell_type": "markdown",
      "metadata": {
        "id": "x5JgqlyWtPvR"
      },
      "source": [
        "Reparem nas aspas que saem quando utilizamos apenas a função input. Isso quer dizer que este valor capturado pelo programa é uma string, independente do que o usuário insira."
      ]
    },
    {
      "cell_type": "code",
      "execution_count": 32,
      "metadata": {
        "colab": {
          "base_uri": "https://localhost:8080/",
          "height": 36
        },
        "id": "UqS7_NhXtPvS",
        "outputId": "3b698a09-4d2b-4250-adaf-2ef063a70eb9"
      },
      "outputs": [
        {
          "output_type": "execute_result",
          "data": {
            "text/plain": [
              "'35'"
            ],
            "application/vnd.google.colaboratory.intrinsic+json": {
              "type": "string"
            }
          },
          "metadata": {},
          "execution_count": 32
        }
      ],
      "source": [
        "# Valor\n",
        "idade"
      ]
    },
    {
      "cell_type": "code",
      "execution_count": 33,
      "metadata": {
        "colab": {
          "base_uri": "https://localhost:8080/"
        },
        "id": "R4-08-jStPvS",
        "outputId": "4b96f0d1-3fbe-455d-efc6-589a60502587"
      },
      "outputs": [
        {
          "output_type": "execute_result",
          "data": {
            "text/plain": [
              "str"
            ]
          },
          "metadata": {},
          "execution_count": 33
        }
      ],
      "source": [
        "# Tipo\n",
        "type(idade)"
      ]
    },
    {
      "cell_type": "code",
      "source": [
        "# Informação adicional sobre nomes de variáveis e padrões do python\n",
        "CONSTANTE = 'valor constante'\n",
        "\n",
        "novaVariavelIdade = 35 # Camel Case\n",
        "print(novaVariavelIdade)\n",
        "NovaVariavelIdade = 36 # Pascal Case\n",
        "print(NovaVariavelIdade)\n",
        "nova_variavel_idade = 37 # Snake Case\n",
        "print(nova_variavel_idade)\n",
        "\n",
        "# Python, por padrão, as variáveis seguem Snake Case\n",
        "# Python, em orientação a objetos, a classe segue o Pascal Case\n",
        "# Constantes normalmente são declaradas tudo em maiúscula: CONSTANTE = xxx\n",
        "\n",
        "# padrões do python para nomes\n",
        "# https://peps.python.org/pep-0008/#naming-conventions"
      ],
      "metadata": {
        "id": "FpaugPYxAGq8"
      },
      "execution_count": null,
      "outputs": []
    },
    {
      "cell_type": "markdown",
      "metadata": {
        "id": "g9DhNzyVtPvT"
      },
      "source": [
        "**Convertendo o tipo de dado**  \n",
        "Neste caso é interessante que a idade seja um número, visto que em geral o utilizamos para realizar contas, por exemplo."
      ]
    },
    {
      "cell_type": "code",
      "execution_count": 36,
      "metadata": {
        "colab": {
          "base_uri": "https://localhost:8080/"
        },
        "id": "yjIR-adTtPvT",
        "outputId": "efef3acb-acda-4cfc-eb62-eb2cf730524b"
      },
      "outputs": [
        {
          "output_type": "execute_result",
          "data": {
            "text/plain": [
              "35"
            ]
          },
          "metadata": {},
          "execution_count": 36
        }
      ],
      "source": [
        "int(idade)"
      ]
    },
    {
      "cell_type": "code",
      "source": [
        "# o procedimento acima não altera o tipo da variável idade, a não ser que seja declarado novamente para uma nova variável\n",
        "nova_variavel_idade = int(idade)\n",
        "type(nova_variavel_idade)\n",
        "nova_variavel_idade"
      ],
      "metadata": {
        "colab": {
          "base_uri": "https://localhost:8080/"
        },
        "id": "RMA_v8zY9Ty9",
        "outputId": "fa160117-3786-4964-aac6-3ec548b07171"
      },
      "execution_count": 39,
      "outputs": [
        {
          "output_type": "execute_result",
          "data": {
            "text/plain": [
              "35"
            ]
          },
          "metadata": {},
          "execution_count": 39
        }
      ]
    },
    {
      "cell_type": "code",
      "source": [
        "# Declarar para a mesma variável MODIFICA a variável original\n",
        "idade = int(idade)\n",
        "type(idade)\n",
        "idade"
      ],
      "metadata": {
        "colab": {
          "base_uri": "https://localhost:8080/"
        },
        "id": "einCq2_b9oAz",
        "outputId": "6401ef60-628a-460d-81f6-f97747bae004"
      },
      "execution_count": 41,
      "outputs": [
        {
          "output_type": "execute_result",
          "data": {
            "text/plain": [
              "35"
            ]
          },
          "metadata": {},
          "execution_count": 41
        }
      ]
    },
    {
      "cell_type": "code",
      "execution_count": 44,
      "metadata": {
        "colab": {
          "base_uri": "https://localhost:8080/"
        },
        "id": "4e3SsZVltPvT",
        "outputId": "a257360f-b72c-401d-bac5-754024771b7b"
      },
      "outputs": [
        {
          "output_type": "execute_result",
          "data": {
            "text/plain": [
              "35.0"
            ]
          },
          "metadata": {},
          "execution_count": 44
        }
      ],
      "source": [
        "float(idade)"
      ]
    },
    {
      "cell_type": "code",
      "execution_count": null,
      "metadata": {
        "id": "wpHgsZMrtPvU"
      },
      "outputs": [],
      "source": [
        "# Podemos, inclusive, encadear conversões."
      ]
    },
    {
      "cell_type": "code",
      "execution_count": 45,
      "metadata": {
        "colab": {
          "base_uri": "https://localhost:8080/",
          "height": 36
        },
        "id": "WXVuHhsdtPvU",
        "outputId": "0c111175-ae6a-4ec9-f974-f8b4e3ee5b89"
      },
      "outputs": [
        {
          "output_type": "execute_result",
          "data": {
            "text/plain": [
              "'35.0'"
            ],
            "application/vnd.google.colaboratory.intrinsic+json": {
              "type": "string"
            }
          },
          "metadata": {},
          "execution_count": 45
        }
      ],
      "source": [
        "str(float(idade))"
      ]
    },
    {
      "cell_type": "code",
      "source": [
        "# eu tenho uma string e quero em float\n",
        "float('35')"
      ],
      "metadata": {
        "colab": {
          "base_uri": "https://localhost:8080/"
        },
        "id": "cOyuCT8dArBq",
        "outputId": "534f52d2-8645-4a08-ccd6-2089170b7aca"
      },
      "execution_count": 46,
      "outputs": [
        {
          "output_type": "execute_result",
          "data": {
            "text/plain": [
              "35.0"
            ]
          },
          "metadata": {},
          "execution_count": 46
        }
      ]
    },
    {
      "cell_type": "code",
      "source": [
        "# A operação abaixo perde a informação do decimal, portanto deve-se ter cuidado com as conversões\n",
        "dolar = 4.77\n",
        "dolar = int(dolar)\n",
        "str(dolar)"
      ],
      "metadata": {
        "colab": {
          "base_uri": "https://localhost:8080/",
          "height": 36
        },
        "id": "e89z-WW1A5M0",
        "outputId": "8837dbef-7aee-482a-ce54-a0e73d6afb7e"
      },
      "execution_count": 48,
      "outputs": [
        {
          "output_type": "execute_result",
          "data": {
            "text/plain": [
              "'4'"
            ],
            "application/vnd.google.colaboratory.intrinsic+json": {
              "type": "string"
            }
          },
          "metadata": {},
          "execution_count": 48
        }
      ]
    },
    {
      "cell_type": "code",
      "source": [
        "# Substituir a vírgula por ponto, para poder converter\n",
        "variavel = '4,77'\n",
        "variavel = variavel.replace(',', '.')\n",
        "float(variavel)"
      ],
      "metadata": {
        "colab": {
          "base_uri": "https://localhost:8080/"
        },
        "id": "SjgKijk1Bb9A",
        "outputId": "b1b6fb77-fa3c-4ed4-f676-c430fbd8d189"
      },
      "execution_count": 52,
      "outputs": [
        {
          "output_type": "execute_result",
          "data": {
            "text/plain": [
              "4.77"
            ]
          },
          "metadata": {},
          "execution_count": 52
        }
      ]
    },
    {
      "cell_type": "code",
      "execution_count": 53,
      "metadata": {
        "colab": {
          "base_uri": "https://localhost:8080/"
        },
        "id": "oP1wgn4JtPvV",
        "outputId": "23f633e2-1b49-434e-be4f-1d469cc3a95a"
      },
      "outputs": [
        {
          "output_type": "execute_result",
          "data": {
            "text/plain": [
              "35"
            ]
          },
          "metadata": {},
          "execution_count": 53
        }
      ],
      "source": [
        "# Outro exemplo encadeando conversões\n",
        "int(float('35'))"
      ]
    },
    {
      "cell_type": "code",
      "execution_count": 56,
      "metadata": {
        "colab": {
          "base_uri": "https://localhost:8080/",
          "height": 200
        },
        "id": "kPMQ5hnbtPvV",
        "outputId": "565e6c6e-0012-4304-9691-ba40fed04a8e"
      },
      "outputs": [
        {
          "output_type": "error",
          "ename": "ValueError",
          "evalue": "ignored",
          "traceback": [
            "\u001b[0;31m---------------------------------------------------------------------------\u001b[0m",
            "\u001b[0;31mValueError\u001b[0m                                Traceback (most recent call last)",
            "\u001b[0;32m<ipython-input-56-33a39a9c9bdf>\u001b[0m in \u001b[0;36m<cell line: 3>\u001b[0;34m()\u001b[0m\n\u001b[1;32m      1\u001b[0m \u001b[0;31m# E se eu tentar um texto em float, o que acontece?\u001b[0m\u001b[0;34m\u001b[0m\u001b[0;34m\u001b[0m\u001b[0m\n\u001b[1;32m      2\u001b[0m \u001b[0;31m# float('a') # da erro\u001b[0m\u001b[0;34m\u001b[0m\u001b[0;34m\u001b[0m\u001b[0m\n\u001b[0;32m----> 3\u001b[0;31m \u001b[0mfloat\u001b[0m\u001b[0;34m(\u001b[0m\u001b[0;34m'4,77'\u001b[0m\u001b[0;34m)\u001b[0m\u001b[0;34m\u001b[0m\u001b[0;34m\u001b[0m\u001b[0m\n\u001b[0m",
            "\u001b[0;31mValueError\u001b[0m: could not convert string to float: '4,77'"
          ]
        }
      ],
      "source": [
        "# E se eu tentar um texto em float, o que acontece?\n",
        "# float('a') # da erro\n",
        "float('4,77')"
      ]
    },
    {
      "cell_type": "markdown",
      "metadata": {
        "id": "l7Fob31ytPvV"
      },
      "source": [
        "Podemos realizar a conversão no input, para simplificar"
      ]
    },
    {
      "cell_type": "code",
      "execution_count": null,
      "metadata": {
        "id": "8s9mRdANtPvW"
      },
      "outputs": [],
      "source": [
        "# Para valores do tipo ponto flutuante, ou seja, numéricos com valores decimais, utilizamos o float\n",
        "dolar = float(input('Insira a cotação do dólar hoje: '))\n",
        "type(dolar)"
      ]
    },
    {
      "cell_type": "code",
      "execution_count": 58,
      "metadata": {
        "colab": {
          "base_uri": "https://localhost:8080/"
        },
        "id": "1K6Xpg1ttPvW",
        "outputId": "3d145eb7-4689-484c-ca1a-138a227e190f"
      },
      "outputs": [
        {
          "name": "stdout",
          "output_type": "stream",
          "text": [
            "Insira aqui sua idade35\n"
          ]
        },
        {
          "output_type": "execute_result",
          "data": {
            "text/plain": [
              "float"
            ]
          },
          "metadata": {},
          "execution_count": 58
        }
      ],
      "source": [
        "idade = int(input('Insira aqui sua idade:'))\n",
        "type(idade)"
      ]
    },
    {
      "cell_type": "markdown",
      "metadata": {
        "id": "UyHXXlI1tPvX"
      },
      "source": [
        "## Saídas\n",
        "\n",
        "Em diversas situações desejamos imprimir na tela o resultado de alguma operação que realizamos ou simplesmente emitirmos uma mensagem, para estas situações utilizamos a função print."
      ]
    },
    {
      "cell_type": "code",
      "execution_count": 59,
      "metadata": {
        "colab": {
          "base_uri": "https://localhost:8080/"
        },
        "id": "GJN1P6_itPvX",
        "outputId": "fd437926-44cf-42cd-9c1c-d8ffedc659f8"
      },
      "outputs": [
        {
          "output_type": "stream",
          "name": "stdout",
          "text": [
            "\n"
          ]
        }
      ],
      "source": [
        "print()"
      ]
    },
    {
      "cell_type": "code",
      "execution_count": 60,
      "metadata": {
        "colab": {
          "base_uri": "https://localhost:8080/"
        },
        "id": "DqZWyRQ_tPvX",
        "outputId": "0601db82-4eba-4dba-ab96-31e5ae2b2140"
      },
      "outputs": [
        {
          "output_type": "stream",
          "name": "stdout",
          "text": [
            "Colocando o texto entre aspas na função print\n"
          ]
        }
      ],
      "source": [
        "print('Colocando o texto entre aspas na função print')"
      ]
    },
    {
      "cell_type": "code",
      "source": [
        "print(\"Funciona também com aspas duplas\")"
      ],
      "metadata": {
        "colab": {
          "base_uri": "https://localhost:8080/"
        },
        "id": "LpNFTVJXKFZH",
        "outputId": "061353b3-5f23-4a84-a794-872f999b3e19"
      },
      "execution_count": 61,
      "outputs": [
        {
          "output_type": "stream",
          "name": "stdout",
          "text": [
            "Funciona também com aspas duplas\n"
          ]
        }
      ]
    },
    {
      "cell_type": "code",
      "source": [
        "print(5)"
      ],
      "metadata": {
        "colab": {
          "base_uri": "https://localhost:8080/"
        },
        "id": "_Z4k9yRHKIqH",
        "outputId": "be4ef5a6-ed52-447f-e15c-256036c9b376"
      },
      "execution_count": 62,
      "outputs": [
        {
          "output_type": "stream",
          "name": "stdout",
          "text": [
            "5\n"
          ]
        }
      ]
    },
    {
      "cell_type": "code",
      "source": [
        "print(True)"
      ],
      "metadata": {
        "colab": {
          "base_uri": "https://localhost:8080/"
        },
        "id": "Vj57qw2tKLOa",
        "outputId": "ade731f5-6efd-4ea5-c24c-1b36935ca0fc"
      },
      "execution_count": 69,
      "outputs": [
        {
          "output_type": "stream",
          "name": "stdout",
          "text": [
            "True\n"
          ]
        }
      ]
    },
    {
      "cell_type": "code",
      "execution_count": 64,
      "metadata": {
        "colab": {
          "base_uri": "https://localhost:8080/"
        },
        "id": "mbPvpt3ZtPvY",
        "outputId": "23141ad5-fef5-48e3-a06c-e580f1979f03"
      },
      "outputs": [
        {
          "output_type": "stream",
          "name": "stdout",
          "text": [
            "Print com comentário\n"
          ]
        }
      ],
      "source": [
        "print('Print com comentário') # comentário no código, ou seja, ele não executa o que está depois do #"
      ]
    },
    {
      "cell_type": "code",
      "execution_count": 74,
      "metadata": {
        "colab": {
          "base_uri": "https://localhost:8080/"
        },
        "id": "9uTjQfWPtPvY",
        "outputId": "8bb9003a-ac79-4303-e5ae-43dfd86b83cb"
      },
      "outputs": [
        {
          "output_type": "stream",
          "name": "stdout",
          "text": [
            "Print com \n",
            "quebra de linha\n",
            "Comentário de bloco no google colab é pressionando as teclas Ctrl + '/'\n"
          ]
        }
      ],
      "source": [
        "# Quebrar linha\n",
        "print('Print com \\nquebra de linha') # \\n\n",
        "\n",
        "print('Comentário de bloco no google colab é pressionando as teclas Ctrl + \\'/\\'')\n",
        "# A contrabarra \\ , nesse caso, funciona como caractere de escape para que seja entendido como texto e não como sua função original.\n",
        "# Neste caso, o fechamento da string"
      ]
    },
    {
      "cell_type": "code",
      "execution_count": 79,
      "metadata": {
        "colab": {
          "base_uri": "https://localhost:8080/"
        },
        "id": "lKgq1h4htPvZ",
        "outputId": "e4db439b-d316-4ae3-cbea-a469dc252de3"
      },
      "outputs": [
        {
          "output_type": "stream",
          "name": "stdout",
          "text": [
            "Print \tcom tabulação\n",
            "Print \t\tcom tabulação\n",
            "\n",
            "\n"
          ]
        }
      ],
      "source": [
        "# Tabulação\n",
        "print('Print \\tcom tabulação')\n",
        "print('Print \\t\\tcom tabulação\\n\\n')"
      ]
    },
    {
      "cell_type": "code",
      "execution_count": 80,
      "metadata": {
        "colab": {
          "base_uri": "https://localhost:8080/"
        },
        "id": "2WR1xY6itPva",
        "outputId": "03cac3f4-46cd-4022-d890-5333677f4fca"
      },
      "outputs": [
        {
          "output_type": "stream",
          "name": "stdout",
          "text": [
            "Inicio do programa x\n",
            "Digite a opção do menu:\n",
            "\t1) Entrar no cadastro de clientes\n",
            "\t2) Entrar no cadastro de empresas\n"
          ]
        }
      ],
      "source": [
        "# Múltiplos prints\n",
        "print('Inicio do programa x')\n",
        "print('Digite a opção do menu:')\n",
        "print('\\t1) Entrar no cadastro de clientes')\n",
        "print('\\t2) Entrar no cadastro de empresas')"
      ]
    },
    {
      "cell_type": "markdown",
      "metadata": {
        "id": "1A3-Iif5tPvx"
      },
      "source": [
        "**Mais de um argumento**  \n",
        "Para imprimir mais de uma informação, o print permite inserir quantos argumentos forem necessários, desde que separados por vírgula. Veja o exemplo:"
      ]
    },
    {
      "cell_type": "code",
      "execution_count": 83,
      "metadata": {
        "colab": {
          "base_uri": "https://localhost:8080/"
        },
        "id": "zvCarRomtPvx",
        "outputId": "8230125e-52e4-401e-87da-6311012287b2"
      },
      "outputs": [
        {
          "output_type": "stream",
          "name": "stdout",
          "text": [
            "Entrar no  cadastro de  clientes 123\n"
          ]
        }
      ],
      "source": [
        "print('Entrar no', 'cadastro de', 'clientes', 123)"
      ]
    },
    {
      "cell_type": "markdown",
      "metadata": {
        "id": "B8fCmVfKtPvy"
      },
      "source": [
        "**Parâmetros para o print**\n",
        "Passando mais de um argumento para o print, podemos modificar o separador passando o parâmetro _sep_ para o print"
      ]
    },
    {
      "cell_type": "code",
      "execution_count": 86,
      "metadata": {
        "colab": {
          "base_uri": "https://localhost:8080/"
        },
        "id": "T9zjJG8wtPvy",
        "outputId": "3ddf14db-edd1-4258-a284-fd8527274d16"
      },
      "outputs": [
        {
          "output_type": "stream",
          "name": "stdout",
          "text": [
            "Entrar_cadastro_clientes_123\n",
            "Entrar|cadastro|clientes|123\n",
            "Entrar99999cadastro99999clientes99999123\n"
          ]
        }
      ],
      "source": [
        "print('Entrar', 'cadastro', 'clientes', 123, sep='_')\n",
        "print('Entrar', 'cadastro', 'clientes', 123, sep='|')\n",
        "print('Entrar', 'cadastro', 'clientes', 123, sep='99999')"
      ]
    },
    {
      "cell_type": "markdown",
      "metadata": {
        "id": "fseZU3FAtPvz"
      },
      "source": [
        "Também podemos modificar o fim do print, passando o parâmetro _end_ para ele"
      ]
    },
    {
      "cell_type": "code",
      "execution_count": 90,
      "metadata": {
        "colab": {
          "base_uri": "https://localhost:8080/"
        },
        "id": "UEDlTaUttPvz",
        "outputId": "a778b310-213d-4662-aeb1-1d7b6390ac4d"
      },
      "outputs": [
        {
          "output_type": "stream",
          "name": "stdout",
          "text": [
            "Print com duas quebras de linha no final\n",
            "\n",
            "Print sem o separador de quebra de linha.Entrar_cadastro_clientes_123\n",
            "$ Print qualquer padrão\n",
            "Ok\n"
          ]
        }
      ],
      "source": [
        "print('Print com duas quebras de linha no final', end='\\n\\n')\n",
        "print('Print sem o separador de quebra de linha.', end='')\n",
        "print('Entrar', 'cadastro', 'clientes', 123, sep='_', end='\\n$ ') # Posso usar o sep e o end juntos\n",
        "print('Print qualquer padrão')\n",
        "print('Ok')"
      ]
    },
    {
      "cell_type": "markdown",
      "metadata": {
        "id": "_iel0-WMtPv0"
      },
      "source": [
        "**Print de variáveis**  \n",
        "Também é possível imprimir variáveis de forma simples, basta passar o nome dado para a variável dentro dos parênteses."
      ]
    },
    {
      "cell_type": "code",
      "execution_count": 93,
      "metadata": {
        "colab": {
          "base_uri": "https://localhost:8080/"
        },
        "id": "qg5oAQsQtPv0",
        "outputId": "588853e9-0f44-43a7-d8d2-47b12a80c5d9"
      },
      "outputs": [
        {
          "output_type": "stream",
          "name": "stdout",
          "text": [
            "35$Bruno Bragança\n"
          ]
        }
      ],
      "source": [
        "idade = 35\n",
        "nome = 'Bruno Bragança'\n",
        "print(idade, nome, sep='$')"
      ]
    },
    {
      "cell_type": "markdown",
      "metadata": {
        "id": "FSzvmBVktPv1"
      },
      "source": [
        "E se for necessário imprimir a mensagem 'Olá, eu sou Bruno Bragança e tenho 35 anos.\", de forma que o nome e o sobrenome sejam provenientes de variáveis nome, sobrenome e idade."
      ]
    },
    {
      "cell_type": "code",
      "execution_count": 94,
      "metadata": {
        "colab": {
          "base_uri": "https://localhost:8080/"
        },
        "id": "LgdJTC3VtPv1",
        "outputId": "4e43c111-971d-4fe5-b90b-2ee1d90deffb"
      },
      "outputs": [
        {
          "output_type": "stream",
          "name": "stdout",
          "text": [
            "Olá, eu sou o Bruno Bragança e tenho 35 anos.\n"
          ]
        }
      ],
      "source": [
        "nome = 'Bruno'\n",
        "sobrenome = 'Bragança'\n",
        "idade = 35\n",
        "print('Olá, eu sou o', nome, sobrenome, 'e tenho', idade, 'anos.')"
      ]
    },
    {
      "cell_type": "code",
      "execution_count": null,
      "metadata": {
        "id": "K_zpJtsxtPv1"
      },
      "outputs": [],
      "source": [
        "# Reparem que não colocamos o espaço entre as strings e as variáveis, pois o python insere automaticamente.\n"
      ]
    },
    {
      "cell_type": "code",
      "execution_count": 95,
      "metadata": {
        "colab": {
          "base_uri": "https://localhost:8080/"
        },
        "id": "wUyYHtJttPv2",
        "outputId": "7499b163-e9c1-4510-860f-17025c0ff1e8"
      },
      "outputs": [
        {
          "output_type": "stream",
          "name": "stdout",
          "text": [
            "Olá, eu sou o Bruno Bragança e tenho 35 anos.\n"
          ]
        }
      ],
      "source": [
        "# outra forma de usar o print, formatando a saída\n",
        "print('Olá, eu sou o {} {} e tenho {} anos.'.format(nome, sobrenome, idade))\n",
        "\n",
        "#\n",
        "# print('Olá, eu sou o {} {} e tenho {}, {}, {} anos., {}'.format(nome, sobrenome, idade))"
      ]
    },
    {
      "cell_type": "markdown",
      "metadata": {
        "id": "uLhMh9L1tPv2"
      },
      "source": [
        "**Print com f string**  \n",
        "Outra forma de utilizarmos o print com variáveis é por meio do que chamamos de f string (ou interpolação de strings).\n",
        "\n",
        "Para utilizar o f string, adicionamos o _f_ na frente de uma string, e as variáveis dentro de chaves {}"
      ]
    },
    {
      "cell_type": "code",
      "execution_count": 98,
      "metadata": {
        "colab": {
          "base_uri": "https://localhost:8080/"
        },
        "id": "Nf5C9f6stPv3",
        "outputId": "d42935ab-b983-4cc0-8560-49e1a43beee9"
      },
      "outputs": [
        {
          "output_type": "stream",
          "name": "stdout",
          "text": [
            "Olá, eu sou o Bruno Bragança e tenho 35 anos.\n"
          ]
        }
      ],
      "source": [
        "print(f'Olá, eu sou o {nome} {sobrenome} e tenho {idade} anos.')"
      ]
    },
    {
      "cell_type": "markdown",
      "metadata": {
        "id": "wifqcQTDtPv3"
      },
      "source": [
        "A vantagem de usar f strings é que o código fica mais legível em comparado com o format."
      ]
    },
    {
      "cell_type": "markdown",
      "metadata": {
        "id": "aYVPZYrFtPv3"
      },
      "source": [
        "Escrevam a frase abaixo, substituindo o nome/sobrenome/idade, endereço, complemento do endereço, cep, cidade, estado, pais pelo de vocês, usando o print com *format*.\n",
        "\n",
        "*Meu nome é aaa, tenho bbb anos, ccc na ddd, eee, fff, ggg, hhh, iii*\n",
        "\n",
        "Onde cada um dos valores (aaa, bbb, etc) será uma variável"
      ]
    },
    {
      "cell_type": "code",
      "source": [
        "endereco = 'Avenida Itaborai, 25'\n",
        "complemento = 'Apto. 123'\n",
        "cep = 90000100\n",
        "cidade = 'Porto Alegre'\n",
        "estado = 'RS'\n",
        "pais = 'Brasil'\n",
        "\n",
        "print('Meu nome é {} {}, tenho {} anos, moro na {}, {}, {}, {}, {}, {}'.format(nome, sobrenome, idade, endereco, complemento, cep, cidade, estado, pais))"
      ],
      "metadata": {
        "id": "VPcjSTPXUOw9"
      },
      "execution_count": null,
      "outputs": []
    },
    {
      "cell_type": "markdown",
      "source": [
        "Agora escreva o mesmo print com f-string"
      ],
      "metadata": {
        "id": "cuRz2VgyUfPN"
      }
    },
    {
      "cell_type": "code",
      "source": [
        "print(f'Meu nome é {nome} {sobrenome}, tenho {idade} anos, moro na {endereco}, {complemento}, {cep}, {cidade}, {estado}, {pais}')"
      ],
      "metadata": {
        "id": "cqfGHo8HUXUX"
      },
      "execution_count": null,
      "outputs": []
    },
    {
      "cell_type": "markdown",
      "source": [
        "Caso onde o format pode ser mais útil que a f-string\n",
        "\n",
        "Podemos utilizar o format para reduzir o tamanho de um float, por exemplo se a minha variavel retorna 3.14159 e eu quero só o 3.14, o format dá para fazer de forma mais natural\n",
        "\n",
        "\n",
        "numero = 3.14159\n",
        "\n",
        "numero_formatado = \"{:.3f}\".format(numero)\n",
        "\n",
        "print(numero_formatado)"
      ],
      "metadata": {
        "id": "a7vQvXgfTQ1Z"
      }
    },
    {
      "cell_type": "code",
      "source": [
        "numero = 3.14159\n",
        "numero_formatado = \"{:.3f}\".format(numero)\n",
        "print(f'Numero formatado {numero_formatado}')"
      ],
      "metadata": {
        "colab": {
          "base_uri": "https://localhost:8080/"
        },
        "id": "_xkcB1saTZlQ",
        "outputId": "aec14b31-984f-44de-aaea-e78d73f3b5ac"
      },
      "execution_count": 100,
      "outputs": [
        {
          "output_type": "stream",
          "name": "stdout",
          "text": [
            "Numero formatado 3.142\n"
          ]
        }
      ]
    },
    {
      "cell_type": "markdown",
      "metadata": {
        "id": "5HivDwyttPv6"
      },
      "source": [
        "**Vamos praticar (2)**  \n",
        "Escreva um programa que receba seu nome, sua idade e hobby e escreva uma única sentença que seja, por exemplo, \"Meu nome é x, tenho y anos e meu hobby é z\""
      ]
    },
    {
      "cell_type": "code",
      "source": [],
      "metadata": {
        "id": "eeWFzI9nWF_K"
      },
      "execution_count": null,
      "outputs": []
    },
    {
      "cell_type": "markdown",
      "metadata": {
        "id": "PVoLUDgptPv7"
      },
      "source": [
        "## Operadores Algébricos\n",
        "\n",
        "Rotineiramente nos deparamos com a necessidade de realizarmos cálculos, para isso podemos utilizar os operadores algébricos como conhecemos na matemática tradicional."
      ]
    },
    {
      "cell_type": "markdown",
      "metadata": {
        "id": "fO1ox5zOtPv8"
      },
      "source": [
        "**Adição**"
      ]
    },
    {
      "cell_type": "code",
      "execution_count": 110,
      "metadata": {
        "colab": {
          "base_uri": "https://localhost:8080/"
        },
        "id": "aWxpm8WmtPv8",
        "outputId": "3d219307-c621-4fab-faac-67a9e735f887"
      },
      "outputs": [
        {
          "output_type": "execute_result",
          "data": {
            "text/plain": [
              "5"
            ]
          },
          "metadata": {},
          "execution_count": 110
        }
      ],
      "source": [
        "2 + 3"
      ]
    },
    {
      "cell_type": "markdown",
      "metadata": {
        "id": "wt_Vz2WXtPv9"
      },
      "source": [
        "**Subtração**"
      ]
    },
    {
      "cell_type": "code",
      "execution_count": null,
      "metadata": {
        "id": "CBVI9fm4tPv-"
      },
      "outputs": [],
      "source": []
    },
    {
      "cell_type": "markdown",
      "metadata": {
        "id": "gbXf9e2RtPv-"
      },
      "source": [
        "**Multiplicação**"
      ]
    },
    {
      "cell_type": "code",
      "execution_count": 111,
      "metadata": {
        "colab": {
          "base_uri": "https://localhost:8080/"
        },
        "id": "PtutuygUtPv_",
        "outputId": "47bc69f1-a85a-4116-8778-4ed9d995efa1"
      },
      "outputs": [
        {
          "output_type": "execute_result",
          "data": {
            "text/plain": [
              "32"
            ]
          },
          "metadata": {},
          "execution_count": 111
        }
      ],
      "source": [
        "8 * 4"
      ]
    },
    {
      "cell_type": "markdown",
      "metadata": {
        "id": "eVYJqMJktPv_"
      },
      "source": [
        "**Divisão**"
      ]
    },
    {
      "cell_type": "code",
      "execution_count": null,
      "metadata": {
        "id": "9fpBG8PItPwA"
      },
      "outputs": [],
      "source": []
    },
    {
      "cell_type": "markdown",
      "metadata": {
        "id": "mvJbD8rItPwB"
      },
      "source": [
        "Resumindo:\n",
        "\n",
        "| Símbolo | Operação        |\n",
        "|---------|-----------------|\n",
        "|    +    | soma            |\n",
        "|    -    | subtração       |\n",
        "|    *    | multiplicação   |\n",
        "|    /    | divisão         |\n",
        "|    //   | divisão inteira |\n",
        "|    %    | resto           |\n",
        "|    **   | potência        |"
      ]
    },
    {
      "cell_type": "markdown",
      "metadata": {
        "id": "Kq0l3IvFtPwB"
      },
      "source": [
        "**Divisão não inteira**"
      ]
    },
    {
      "cell_type": "code",
      "execution_count": null,
      "metadata": {
        "id": "841W2zuwtPwC"
      },
      "outputs": [],
      "source": []
    },
    {
      "cell_type": "markdown",
      "metadata": {
        "id": "85pIK91EtPwD"
      },
      "source": [
        "**Divisão inteira**"
      ]
    },
    {
      "cell_type": "code",
      "execution_count": null,
      "metadata": {
        "id": "YlaYGEcgtPwD"
      },
      "outputs": [],
      "source": []
    },
    {
      "cell_type": "markdown",
      "metadata": {
        "id": "YrCsae37tPwE"
      },
      "source": [
        "**Resto**"
      ]
    },
    {
      "cell_type": "code",
      "execution_count": null,
      "metadata": {
        "id": "QWYy1yV_tPwE"
      },
      "outputs": [],
      "source": []
    },
    {
      "cell_type": "code",
      "execution_count": null,
      "metadata": {
        "id": "qWzUpas3tPwF"
      },
      "outputs": [],
      "source": []
    },
    {
      "cell_type": "markdown",
      "metadata": {
        "id": "LHTGxdY6tPwG"
      },
      "source": [
        "**Potência**"
      ]
    },
    {
      "cell_type": "code",
      "execution_count": null,
      "metadata": {
        "id": "p6TG5HNXtPwG"
      },
      "outputs": [],
      "source": []
    },
    {
      "cell_type": "markdown",
      "metadata": {
        "id": "lxNJwMg6tPwH"
      },
      "source": [
        "**Utilizando variáveis**"
      ]
    },
    {
      "cell_type": "code",
      "execution_count": null,
      "metadata": {
        "id": "B0J8GmgHtPwH"
      },
      "outputs": [],
      "source": []
    },
    {
      "cell_type": "markdown",
      "metadata": {
        "id": "i-qQNUWdtPwI"
      },
      "source": [
        "**Vamos praticar (1)**  \n",
        "Com tudo que vimos até o momento faça um programa que solicite ao usuário que insira seu ano de nascimento. Desconsiderando o mês do ano de nascimento, emita uma mensagem dizendo quantos anos ele possui."
      ]
    },
    {
      "cell_type": "code",
      "execution_count": null,
      "metadata": {
        "id": "kqBDKNd4tPwJ"
      },
      "outputs": [],
      "source": []
    },
    {
      "cell_type": "markdown",
      "metadata": {
        "id": "8eMBY62qtPwJ"
      },
      "source": [
        "## Operadores de Comparação  \n",
        "Os operadores de comparação são aqueles que possuem o objetivo de analisar os valores de uma expressão e retornar um valor booleano, ou seja, verdadeiro (1) ou falso (0)."
      ]
    },
    {
      "cell_type": "markdown",
      "metadata": {
        "id": "kHSG7_qJtPwJ"
      },
      "source": [
        "**Maior que**"
      ]
    },
    {
      "cell_type": "code",
      "execution_count": 112,
      "metadata": {
        "colab": {
          "base_uri": "https://localhost:8080/"
        },
        "id": "ISR_AQHetPwK",
        "outputId": "cab1e0a8-1267-43bb-9dd3-fa7d591acfe0"
      },
      "outputs": [
        {
          "output_type": "execute_result",
          "data": {
            "text/plain": [
              "False"
            ]
          },
          "metadata": {},
          "execution_count": 112
        }
      ],
      "source": [
        "2 > 3"
      ]
    },
    {
      "cell_type": "markdown",
      "metadata": {
        "id": "Y6uLZ4xttPwK"
      },
      "source": [
        "**Menor que**"
      ]
    },
    {
      "cell_type": "code",
      "execution_count": 113,
      "metadata": {
        "colab": {
          "base_uri": "https://localhost:8080/"
        },
        "id": "gKRKqbC7tPwK",
        "outputId": "75f37980-b640-4390-bf7e-591edbb67f80"
      },
      "outputs": [
        {
          "output_type": "execute_result",
          "data": {
            "text/plain": [
              "True"
            ]
          },
          "metadata": {},
          "execution_count": 113
        }
      ],
      "source": [
        "2 < 3"
      ]
    },
    {
      "cell_type": "markdown",
      "metadata": {
        "id": "xwB4zgJJtPwL"
      },
      "source": [
        "**Igualdade**"
      ]
    },
    {
      "cell_type": "code",
      "execution_count": null,
      "metadata": {
        "id": "vnrg9gdMtPwL"
      },
      "outputs": [],
      "source": []
    },
    {
      "cell_type": "markdown",
      "metadata": {
        "id": "K8pvynBHtPwM"
      },
      "source": [
        "**Diferença**"
      ]
    },
    {
      "cell_type": "code",
      "execution_count": null,
      "metadata": {
        "id": "s6r1wKLxtPwM"
      },
      "outputs": [],
      "source": []
    },
    {
      "cell_type": "code",
      "execution_count": null,
      "metadata": {
        "id": "KdaH6jGqtPwN"
      },
      "outputs": [],
      "source": []
    },
    {
      "cell_type": "markdown",
      "metadata": {
        "id": "wEyKt7_ntPwO"
      },
      "source": [
        "**Maior ou igual**"
      ]
    },
    {
      "cell_type": "code",
      "execution_count": null,
      "metadata": {
        "id": "nq_PWSz_tPwP"
      },
      "outputs": [],
      "source": []
    },
    {
      "cell_type": "markdown",
      "metadata": {
        "id": "1jw95Wk2tPwP"
      },
      "source": [
        "**Menor ou igual**"
      ]
    },
    {
      "cell_type": "code",
      "execution_count": null,
      "metadata": {
        "id": "EsZgRwkTtPwQ"
      },
      "outputs": [],
      "source": []
    },
    {
      "cell_type": "markdown",
      "source": [
        "Resumindo:\n",
        "\n",
        "| Símbolo | Operação        |\n",
        "|---------|-----------------|\n",
        "|    >    | Maior           |\n",
        "|    <    | Menor           |\n",
        "|    ==   | Igualdade       |\n",
        "|    !=   | Diferença       |\n",
        "|    >=   | Maior ou igual  |\n",
        "|    <=   | Menor ou igual  |"
      ],
      "metadata": {
        "id": "96238HnfWQtG"
      }
    },
    {
      "cell_type": "markdown",
      "metadata": {
        "id": "ubap-uNotPwQ"
      },
      "source": [
        "**Vamos praticar (3)**  \n",
        "Imagine que você está implementando um sistema para verificar se os alunos de uma turma estudantil passaram na disciplina ou não. Para isso solicite que o usuário insira as notas das 4 provas realizadas por um estudante e calcule a média. Após isso, emita uma resposta booleana (True ou False) se o estudante passou na disciplina pensando que a média mínima para aprovação é que seja pelo menos 5."
      ]
    },
    {
      "cell_type": "code",
      "execution_count": null,
      "metadata": {
        "id": "Lj0Xl8MstPwR"
      },
      "outputs": [],
      "source": []
    },
    {
      "cell_type": "markdown",
      "metadata": {
        "id": "-sToJD_jtPwR"
      },
      "source": [
        "Crie um algoritmo que calcule o IMC (índice de massa corporal). O IMC é calculado com a formula PESO/(ALTURA ^ 2). Para isso, coloque as informações nas variáveis e ao final apresente o resultado como no exemplo: \"O IMC é 18\""
      ]
    },
    {
      "cell_type": "code",
      "execution_count": null,
      "metadata": {
        "id": "8s8Xn2GktPwS"
      },
      "outputs": [],
      "source": []
    },
    {
      "cell_type": "markdown",
      "metadata": {
        "id": "B6r3yssZtPwS"
      },
      "source": [
        "Escreva um algoritmo que calcule (x + y) * (x + y). Os valores de x e y devem ser inseridos pelo usuário"
      ]
    },
    {
      "cell_type": "code",
      "execution_count": null,
      "metadata": {
        "id": "LWkmaWfbtPwS"
      },
      "outputs": [],
      "source": []
    }
  ],
  "metadata": {
    "colab": {
      "provenance": []
    },
    "kernelspec": {
      "display_name": "Python 3",
      "name": "python3"
    },
    "language_info": {
      "codemirror_mode": {
        "name": "ipython",
        "version": 3
      },
      "file_extension": ".py",
      "mimetype": "text/x-python",
      "name": "python",
      "nbconvert_exporter": "python",
      "pygments_lexer": "ipython3",
      "version": "3.11.0"
    }
  },
  "nbformat": 4,
  "nbformat_minor": 0
}