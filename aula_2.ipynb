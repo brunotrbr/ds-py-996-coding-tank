{
  "cells": [
    {
      "attachments": {},
      "cell_type": "markdown",
      "metadata": {
        "id": "9I_wwwx1wYst"
      },
      "source": [
        "# Coding Tank Santander Coders 2023 - Turma 996"
      ]
    },
    {
      "attachments": {},
      "cell_type": "markdown",
      "metadata": {
        "id": "WIcqwMGHwYsw"
      },
      "source": [
        "## Cronograma de aulas\n",
        "\n",
        "- Aula 1\n",
        "    - Variáveis\n",
        "    - Tipos básicos\n",
        "    - Entradas/Saídas\n",
        "    - Operadores Algébricos\n",
        "    - Operadores de comparação\n",
        "\n",
        "- Aula 2\n",
        "    - Estrutura condicional e controle de fluxo\n",
        "    - Comando if\n",
        "    - Comando else\n",
        "    - Comando Elif\n",
        "\n",
        "- Aula 3\n",
        "    - Estruturas de repetição\n",
        "    - Looping while\n",
        "\n",
        "- Aula 4\n",
        "    - Listas\n",
        "    - Funções, parâmetros e retorno\n",
        "\n",
        "- Aula 5\n",
        "    - Prova"
      ]
    },
    {
      "attachments": {},
      "cell_type": "markdown",
      "metadata": {
        "id": "THWszclewYsx"
      },
      "source": [
        "-------------------"
      ]
    },
    {
      "attachments": {},
      "cell_type": "markdown",
      "metadata": {
        "id": "7xf8-uC2wYsx"
      },
      "source": [
        "# Aula 2"
      ]
    },
    {
      "attachments": {},
      "cell_type": "markdown",
      "metadata": {
        "id": "9UVybw0AwYsx"
      },
      "source": [
        "### Notebook da aula\n",
        "\n",
        "Dentro do LMS, no diretório da aula 2 do drive compartilhado.\n"
      ]
    },
    {
      "attachments": {},
      "cell_type": "markdown",
      "metadata": {
        "id": "3AEqN0cUwYsx"
      },
      "source": [
        "Imaginem que vocês estão programando um sistema escolar, e o critério de aprovação da escola seja que a média das notas deve ser superior a 7.0 e presença deve ser superior a 75%.\n",
        "\n",
        "Caso o aluno tenha entre 40% e 75% de presença, e a nota esteja entre 4.0 e 7.0, o aluno entra em recuperação.\n",
        "\n",
        "Por fim, caso o aluno tenha menos que 40% de presença ou nota inferior a 4.0, ele é reprovado automaticamente.\n",
        "\n",
        "Como nós escreveríamos esse programa?"
      ]
    },
    {
      "attachments": {},
      "cell_type": "markdown",
      "metadata": {
        "id": "B9XlHvRxwYsy"
      },
      "source": [
        "Pra responder esse problema, o conteúdo que vimos até o momento na aula 1 é insuficiente. Vai ser necessário aprender um pouco sobre lógica booleana e, especificamente, álgebra booleana.\n",
        "\n",
        "Como nós vimos na aula 1, uma variável booleana é uma variável que pode assumir somente 2 valores, *True* ou *False*.\n",
        "\n",
        "Com base nisso, podemos fazer algumas operações lógicas para definir qual seria o resultado da operação entre 2 ou mais variáveis booleanos.\n",
        "\n",
        "&nbsp;\n",
        "\n",
        "Por exemplo:\n",
        "\n",
        "- Se a variável A for verdadeira, e a variável B for falsa, o resultado vai ser verdadeiro ou falso?\n",
        "- E se eu negar o resultado, qual será o resultado?\n",
        "\n",
        "&nbsp;\n",
        "\n",
        "As operações acima são exemplos de operações que escrevemos em código com muita frequência. Portanto, é fundamental entender tais operações. A tabela abaixo contém um resumo das duas principais operações lógicas, **and** e **or**."
      ]
    },
    {
      "attachments": {},
      "cell_type": "markdown",
      "metadata": {
        "id": "Yhiz6C9ywYsy"
      },
      "source": [
        "**AND** é uma conjunção lógica e o **OR** é uma disjunção lógica. O **not** é a negação lógica.\n",
        "\n",
        "| *A*   | *B*   | *A and B* | *A or B* | *not A* |\n",
        "|-------|-------|-----------|----------|---------|\n",
        "| False | False | False     | False    | True    |\n",
        "| False | True  | False     | True     | True    |\n",
        "| True  | False | False     | True     | False   |\n",
        "| True  | True  | True      | True     | False   |\n",
        "\n"
      ]
    },
    {
      "attachments": {},
      "cell_type": "markdown",
      "metadata": {
        "id": "0vg6c9WKwYsz"
      },
      "source": [
        "## Estrutura condicional\n",
        "\n",
        "- if"
      ]
    },
    {
      "cell_type": "code",
      "execution_count": null,
      "metadata": {
        "colab": {
          "base_uri": "https://localhost:8080/"
        },
        "id": "9ZkltJNTwYsz",
        "outputId": "b1ff593b-35c4-4add-ddc7-87f119ebaaad"
      },
      "outputs": [
        {
          "name": "stdout",
          "output_type": "stream",
          "text": [
            "Digite a nota 1: 5.7\n",
            "Digite a nota 2: 6.7\n",
            "Média: 6.2\n"
          ]
        }
      ],
      "source": [
        "nota_1 = float(input('Digite a nota 1: '))\n",
        "nota_2 = float(input('Digite a nota 2: '))\n",
        "\n",
        "media = (nota_1 + nota_2) / 2\n",
        "\n",
        "if media >= 7.0:\n",
        "  print('Aprovado')\n",
        "\n",
        "print('Média:', media)\n"
      ]
    },
    {
      "attachments": {},
      "cell_type": "markdown",
      "metadata": {
        "id": "jU5ka1BrwYs0"
      },
      "source": [
        "Está faltando alguma coisa?"
      ]
    },
    {
      "cell_type": "code",
      "execution_count": null,
      "metadata": {
        "colab": {
          "base_uri": "https://localhost:8080/"
        },
        "id": "CgtvHjL4wYs1",
        "outputId": "406c05b4-1ac0-4aef-b893-934746aa1793"
      },
      "outputs": [
        {
          "name": "stdout",
          "output_type": "stream",
          "text": [
            "Digite a nota 1: 5.7\n",
            "Digite a nota 2: 6.7\n",
            "Recuperação\n",
            "Média: 6.2\n"
          ]
        }
      ],
      "source": [
        "nota_1 = float(input('Digite a nota 1: '))\n",
        "nota_2 = float(input('Digite a nota 2: '))\n",
        "\n",
        "media = (nota_1 + nota_2) / 2\n",
        "\n",
        "if media >= 7.0:\n",
        "  print('Aprovado')\n",
        "\n",
        "if media >= 4.0 and media < 7.0:\n",
        "  print('Recuperação')\n",
        "\n",
        "if media < 4.0:\n",
        "  print('Reprovado')\n",
        "\n",
        "print('Média:', media)"
      ]
    },
    {
      "attachments": {},
      "cell_type": "markdown",
      "metadata": {
        "id": "1PVZ2kOUwYs1"
      },
      "source": [
        "Podemos otimizar o código? Com certeza."
      ]
    },
    {
      "attachments": {},
      "cell_type": "markdown",
      "metadata": {
        "id": "Y6CRV2RmwYs1"
      },
      "source": [
        "- else"
      ]
    },
    {
      "cell_type": "code",
      "execution_count": null,
      "metadata": {
        "id": "TirvjZFZwYs1"
      },
      "outputs": [],
      "source": [
        "nota_1 = float(input('Digite a nota 1: '))\n",
        "nota_2 = float(input('Digite a nota 2: '))\n",
        "\n",
        "media = (nota_1 + nota_2) / 2\n",
        "\n",
        "if media >= 7.0:\n",
        "  print('Aprovado')\n",
        "elif media >= 4.0 and media < 7.0:\n",
        "  print('Recuperação')\n",
        "else:\n",
        "  print('Reprovado')\n",
        "\n",
        "print('Média:', media)"
      ]
    },
    {
      "cell_type": "code",
      "execution_count": null,
      "metadata": {
        "colab": {
          "base_uri": "https://localhost:8080/"
        },
        "id": "StrjHL2JFHI-",
        "outputId": "2ce9f831-b3ad-449b-e36c-763bcbf00c28"
      },
      "outputs": [
        {
          "name": "stdout",
          "output_type": "stream",
          "text": [
            "Digite a nota 1: 9.5\n",
            "Digite a nota 2: 10\n",
            "Aprovado\n",
            "Reprovado\n",
            "Média: 9.75\n"
          ]
        }
      ],
      "source": [
        "nota_1 = float(input('Digite a nota 1: '))\n",
        "nota_2 = float(input('Digite a nota 2: '))\n",
        "\n",
        "media = (nota_1 + nota_2) / 2\n",
        "\n",
        "if media >= 7.0:\n",
        "  print('Aprovado')\n",
        "elif media >= 4.0 and media < 7.0:\n",
        "  print('Recuperação')\n",
        "else:\n",
        "  print('Reprovado')\n",
        "\n",
        "print('Média:', media)"
      ]
    },
    {
      "cell_type": "code",
      "execution_count": null,
      "metadata": {
        "colab": {
          "base_uri": "https://localhost:8080/"
        },
        "id": "-A3O2cJ8F68E",
        "outputId": "f129d8ae-028e-4d87-fa93-09cde66ec5ae"
      },
      "outputs": [
        {
          "name": "stdout",
          "output_type": "stream",
          "text": [
            "Digite a nota 1: 9\n",
            "Digite a nota 2: 7\n",
            "8.0\n",
            "Aprovado\n"
          ]
        }
      ],
      "source": [
        "# Exemplo com funções\n",
        "def calcula_media(media: float) -> str:\n",
        "  if media >= 7.0: # 8.5\n",
        "    return 'Aprovado'\n",
        "  elif media >= 4.0:\n",
        "    return 'Recuperação'\n",
        "  return 'Reprovado'\n",
        "\n",
        "nota_1 = float(input('Digite a nota 1: '))\n",
        "nota_2 = float(input('Digite a nota 2: '))\n",
        "\n",
        "media = (nota_1 + nota_2) / 2\n",
        "print(media)\n",
        "\n",
        "print(calcula_media(media))\n"
      ]
    },
    {
      "attachments": {},
      "cell_type": "markdown",
      "metadata": {
        "id": "pz6ON08lwYs1"
      },
      "source": [
        "Continua faltando a condição intermediária, a recuperação"
      ]
    },
    {
      "attachments": {},
      "cell_type": "markdown",
      "metadata": {
        "id": "RPanI-jmwYs2"
      },
      "source": [
        "- else if, ou elif"
      ]
    },
    {
      "cell_type": "code",
      "execution_count": null,
      "metadata": {
        "id": "tvAU1gxJwYs2"
      },
      "outputs": [],
      "source": [
        "nota_1 = float(input('Digite a nota 1: '))\n",
        "nota_2 = float(input('Digite a nota 2: '))\n",
        "\n",
        "media = (nota_1 + nota_2) / 2\n",
        "\n",
        "if media >= 7.0:\n",
        "  print('Aprovado')\n",
        "elif media >= 4.0 and media < 7.0:\n",
        "  print('Recuperação')\n",
        "else:\n",
        "  print('Reprovado')\n",
        "\n",
        "print('Média:', media)"
      ]
    },
    {
      "attachments": {},
      "cell_type": "markdown",
      "metadata": {
        "id": "ADOMXC5TNnvq"
      },
      "source": [
        "Podemos trocar o elif e o else de lugar, para uma sintaxe mais clara"
      ]
    },
    {
      "cell_type": "code",
      "execution_count": null,
      "metadata": {
        "id": "k8YfJshRLPK0"
      },
      "outputs": [],
      "source": [
        "nota_1 = float(input('Digite a nota 1: '))\n",
        "nota_2 = float(input('Digite a nota 2: '))\n",
        "\n",
        "media = (nota_1 + nota_2) / 2\n",
        "\n",
        "if media >= 7.0:\n",
        "  print('Aprovado')\n",
        "elif media < 4.0:\n",
        "  print('Reprovado')\n",
        "else:\n",
        "  print('Recuperação')\n",
        "\n",
        "print('Média:', media)"
      ]
    },
    {
      "attachments": {},
      "cell_type": "markdown",
      "metadata": {
        "id": "rEOGUa-BwYs2"
      },
      "source": [
        "Agora vamos adicionar as presenças para avaliar o aluno"
      ]
    },
    {
      "cell_type": "code",
      "execution_count": null,
      "metadata": {
        "colab": {
          "base_uri": "https://localhost:8080/"
        },
        "id": "r8dhdxdXwYs2",
        "outputId": "762736ca-7b8f-49d2-87fc-17e1dc7f4e20"
      },
      "outputs": [
        {
          "name": "stdout",
          "output_type": "stream",
          "text": [
            "Digite a nota 1: 10\n",
            "Digite a nota 2: 10\n",
            "Informe a presença com 2 casas decimais. Ex: 75% é 0.75:0.4\n",
            "Recuperação\n",
            "Média: 10.0\n"
          ]
        }
      ],
      "source": [
        "nota_1 = float(input('Digite a nota 1: '))\n",
        "nota_2 = float(input('Digite a nota 2: '))\n",
        "presenca = float(input('Informe a presença com 2 casas decimais. Ex: 75% é 0.75:'))\n",
        "\n",
        "media = (nota_1 + nota_2) / 2\n",
        "\n",
        "if media >= 7.0 and presenca >= 0.75:\n",
        "  print('Aprovado')\n",
        "elif media < 4.0 or presenca < 0.4:\n",
        "  print('Reprovado')\n",
        "else:\n",
        "  print('Recuperação')\n",
        "\n",
        "print('Média:', media)"
      ]
    },
    {
      "attachments": {},
      "cell_type": "markdown",
      "metadata": {
        "id": "GEs8m8yKwYs4"
      },
      "source": [
        "**Vamos praticar (1)**"
      ]
    },
    {
      "attachments": {},
      "cell_type": "markdown",
      "metadata": {
        "id": "fMDAe0ovwYs4"
      },
      "source": [
        "1) Imagine que você está implementando um sistema para verificar se os alunos de uma turma estudantil passaram na disciplina ou não. Para isso solicite que o usuário insira as notas das 4 provas realizadas por um estudante e calcule a média. Após isso, emita uma resposta booleana (True ou False) se o estudante passou na disciplina pensando que a média mínima para aprovação é que seja pelo menos 5."
      ]
    },
    {
      "cell_type": "code",
      "execution_count": null,
      "metadata": {
        "id": "REz8DUExwYs4"
      },
      "outputs": [],
      "source": [
        "# Igual ao exercício da aula 1\n",
        "# Solução do professor\n",
        "nota_1 = float(input('Informe a nota da primeira prova: '))\n",
        "nota_2 = float(input('Informe a nota da segunda prova: '))\n",
        "nota_3 = float(input('Informe a nota da terceira prova: '))\n",
        "nota_4 = float(input('Informe a nota da quarta prova: '))\n",
        "\n",
        "nota_final = (nota_1 + nota_2 + nota_3 + nota_4) / 4\n",
        "\n",
        "if nota >= 5:\n",
        "    print(True)\n",
        "else:\n",
        "    Print(False)"
      ]
    },
    {
      "attachments": {},
      "cell_type": "markdown",
      "metadata": {
        "id": "xlimez2JwYs4"
      },
      "source": [
        "2) Faça um programa que peça a idade do usuário e imprima se ele é maior ou menor de 18 anos."
      ]
    },
    {
      "cell_type": "code",
      "execution_count": null,
      "metadata": {
        "colab": {
          "base_uri": "https://localhost:8080/"
        },
        "id": "7852j9rSwYs5",
        "outputId": "a9e56e09-3e45-4909-82c0-e8e40955621b"
      },
      "outputs": [
        {
          "name": "stdout",
          "output_type": "stream",
          "text": [
            "digite a nota 1: 5\n",
            "digite a nota 2: 8\n",
            "digite a nota 3: 2\n",
            "digite a nota 4: 0\n",
            "3.75\n"
          ]
        }
      ],
      "source": [
        "# Solução do professor\n",
        "idade = int(input('Digite sua idade: '))\n",
        "\n",
        "if idade >= 18:\n",
        "  print('Maior de 18 anos')\n",
        "else:\n",
        "  print('Menor de 18 anos')"
      ]
    },
    {
      "cell_type": "code",
      "execution_count": null,
      "metadata": {
        "colab": {
          "base_uri": "https://localhost:8080/"
        },
        "id": "FM1ZqWyswYs5",
        "outputId": "06ac188b-1e9b-4041-dd85-fae8263baf5f"
      },
      "outputs": [
        {
          "name": "stdout",
          "output_type": "stream",
          "text": [
            "Digite a idade: 18\n",
            "maior de 18 anos\n",
            "maior de 18 anos\n"
          ]
        }
      ],
      "source": [
        "# Solução do professor\n",
        "idade = int(input('Digite a idade: '))\n",
        "\n",
        "resultado = 'maior de 18 anos' if idade >= 18 else 'menor de 18 anos'\n",
        "print(resultado)\n",
        "\n",
        "print('maior de 18 anos' if idade >= 18 else 'menor de 18 anos')"
      ]
    },
    {
      "attachments": {},
      "cell_type": "markdown",
      "metadata": {
        "id": "pGZXsPURwYs5"
      },
      "source": [
        "3) Faça um programa que peça um número e mostre se ele é positivo ou negativo. Alternativa: acrescentar nulo caso seja 0"
      ]
    },
    {
      "cell_type": "code",
      "execution_count": null,
      "metadata": {
        "id": "xSSm768EwYs5"
      },
      "outputs": [],
      "source": [
        "# Solução do professor\n",
        "num = float(input('Digite um número'))\n",
        "\n",
        "if num > 0:\n",
        "  print('Positivo')\n",
        "elif num == 0:\n",
        "  print('Nulo')\n",
        "else:\n",
        "  print('Negativo')"
      ]
    },
    {
      "cell_type": "code",
      "execution_count": null,
      "metadata": {
        "id": "GrhtR4nIZhXU"
      },
      "outputs": [],
      "source": [
        "# Solução do professor\n",
        "num = float(input('Digite um número'))\n",
        "\n",
        "if num > 0:\n",
        "  print('Positivo')\n",
        "elif num < 0:\n",
        "  print('Negativo')\n",
        "else:\n",
        "  print('Nulo')"
      ]
    },
    {
      "cell_type": "code",
      "execution_count": null,
      "metadata": {
        "id": "NbB-jTFHeIlv"
      },
      "outputs": [],
      "source": [
        "# Solução do Gabriel Miranda\n",
        "num = float(input(\"Numero:\"))\n",
        "print(\"Positivo\" if num > 0 else (\"Nulo\" if num == 0 else \"Negativo\"))"
      ]
    },
    {
      "attachments": {},
      "cell_type": "markdown",
      "metadata": {
        "id": "IpL1cmGTwYs5"
      },
      "source": [
        "4) Faça um programa que peça dois números e mostre o maior deles."
      ]
    },
    {
      "cell_type": "code",
      "execution_count": null,
      "metadata": {
        "colab": {
          "base_uri": "https://localhost:8080/"
        },
        "id": "i9YEA7D-wYs6",
        "outputId": "40cbd131-51ea-4d6f-ebb0-018abbb01454"
      },
      "outputs": [
        {
          "name": "stdout",
          "output_type": "stream",
          "text": [
            "Digite o número 1: 8\n",
            "Digite o número 2: 8\n",
            "Número 8.0 é igual ao o número 8.0\n"
          ]
        }
      ],
      "source": [
        "# Solução do professor\n",
        "num_1 = float(input('Digite o número 1: '))\n",
        "num_2 = float(input('Digite o número 2: '))\n",
        "\n",
        "if num_1 > num_2:\n",
        "  print(f'Número {num_1} é maior que o número {num_2}')\n",
        "elif num_1 < num_2:\n",
        "  print(f'Número {num_1} é menor que o número {num_2}')\n",
        "else:\n",
        "  print(f'Número {num_1} é igual ao o número 8{num_2}')"
      ]
    },
    {
      "cell_type": "code",
      "execution_count": null,
      "metadata": {
        "colab": {
          "base_uri": "https://localhost:8080/"
        },
        "id": "zrYCG65zcbLA",
        "outputId": "f3229440-60c9-4d70-f0f0-fd1b9e836f28"
      },
      "outputs": [
        {
          "name": "stdout",
          "output_type": "stream",
          "text": [
            "21065\n"
          ]
        }
      ],
      "source": [
        "# Bonus com geração de número randômico\n",
        "import random\n",
        "\n",
        "numero_randomico = random.randint(0, 101)\n",
        "# Se o segundo parâmetro for 100, o número gerado será entre 0 e 99.\n",
        "# O segundo parâmetro é exclusivo, ou seja, não inclui o valor informado.\n",
        "# Para gerar até x, deve se incluir o valor x+1\n",
        "print(numero_randomico)"
      ]
    },
    {
      "attachments": {},
      "cell_type": "markdown",
      "metadata": {
        "id": "lZ5X8OchwYs6"
      },
      "source": [
        "5) Faça um programa que leia a validade das informações:\n",
        "\n",
        "a. Idade: entre 0 e 150;\n",
        "\n",
        "b. Salário: maior que 0;\n",
        "\n",
        "c. Sexo: M, F ou Outro;\n",
        "\n",
        "O programa deve imprimir uma mensagem de erro para cada informação inválida."
      ]
    },
    {
      "cell_type": "code",
      "execution_count": 44,
      "metadata": {
        "colab": {
          "base_uri": "https://localhost:8080/"
        },
        "id": "8jvYoN-dwYs6",
        "outputId": "7ed15f5c-648a-4d4f-f5fb-b36e625b6455"
      },
      "outputs": [
        {
          "name": "stdout",
          "output_type": "stream",
          "text": [
            "qual a sua idade18\n",
            "qual o seu salario2000\n",
            "qual o seu sexo?E\n",
            "Sexo inválido. Por favor, digite M, F ou Outro.\n"
          ]
        }
      ],
      "source": [
        "# Solução da Luana Ferraz\n",
        "idade = int(input('qual a sua idade'))\n",
        "salario = float(input('qual o seu salario'))\n",
        "sexo = input('qual o seu sexo?')\n",
        "\n",
        "if idade < 0 or idade > 150:\n",
        "    print('por favor digite uma idade valida')\n",
        "if salario <= 0:\n",
        "    print('por favor digite um salario positivo')\n",
        "if sexo != 'M' and sexo != \"F\" and sexo != 'outro':\n",
        "    print(\"Sexo inválido. Por favor, digite M, F ou Outro.\")"
      ]
    },
    {
      "cell_type": "code",
      "execution_count": null,
      "metadata": {
        "colab": {
          "base_uri": "https://localhost:8080/"
        },
        "id": "CutqSR6YfkX0",
        "outputId": "438ec151-1da2-4d4d-f99b-4819c062f3f5"
      },
      "outputs": [
        {
          "name": "stdout",
          "output_type": "stream",
          "text": [
            "Insira uma idade: 18\n",
            "Insira o salario: 2000\n",
            "Insira o sexo: M\n",
            "Idade válida\n",
            "Sexo válido\n"
          ]
        }
      ],
      "source": [
        "# Solução do Rafael Pereira\n",
        "idade = float(input(\"Insira uma idade: \"))\n",
        "salario = float(input(\"Insira o salario: \"))\n",
        "sexo = input(\"Insira o sexo: \")\n",
        "\n",
        "if idade < 0 or idade > 150:\n",
        "    print(\"Idade inválida\")\n",
        "else: print(\"Idade válida\")\n",
        "if salario <= 0:\n",
        "    print(\"Salário inválido\")\n",
        "else: print(\"Salário válido\")\n",
        "if sexo not in ['M','F','Outro']:\n",
        "    print(\"Sexo inválido\")\n",
        "else: print(\"Sexo válido\")"
      ]
    },
    {
      "cell_type": "code",
      "execution_count": null,
      "metadata": {
        "id": "wbvtBrVlgXf7"
      },
      "outputs": [],
      "source": [
        "# Solução da Débora Melo\n",
        "idade = int(input(\"Digite sua idade: \"))\n",
        "if idade < 0 or idade > 150:\n",
        "    print(\"Idade inválida. Por favor, digite uma idade entre 0 e 150.\")\n",
        "\n",
        "salario = float(input(\"Digite seu salário: \"))\n",
        "if salario <= 0:\n",
        "    print(\"Salário inválido. Por favor, digite um valor maior que 0.\")\n",
        "\n",
        "sexo = input(\"Digite seu sexo (M/F/Outro): \")\n",
        "if sexo not in [\"M\", \"F\", \"Outro\"]:\n",
        "    print(\"Sexo inválido. Por favor, digite M, F ou Outro.\")"
      ]
    },
    {
      "cell_type": "code",
      "execution_count": null,
      "metadata": {},
      "outputs": [],
      "source": [
        "# Solução do professor\n",
        "idade = int(input(\"Digite a idade: \"))\n",
        "salario = float(input(\"Digite o salário: \"))\n",
        "sexo = input(\"Digite o sexo (M, F ou Outro): \")\n",
        "\n",
        "if idade < 0 or idade > 150:\n",
        "    print (\"\\nA idade digitada deve ser entre 0 e 150\")\n",
        "if salario <= 0:\n",
        "    print (\"\\nO salário digitado deve ser maior que 0\")\n",
        "if sexo != \"F\" and sexo != \"M\" and sexo != \"Outro\":\n",
        "    print (\"\\nO sexo deve ser M, F ou Outro!\")\n"
      ]
    },
    {
      "attachments": {},
      "cell_type": "markdown",
      "metadata": {
        "id": "jxUmxM9KwYs6"
      },
      "source": [
        "6) Faça um programa que mostre uma questão de múltipla escolha com 5 opções (letras a, b, c, d, e).\n",
        "Sabendo a resposta certa, o programa deve receber a opção do usuário e informar a letra que o usuário marcou e se a resposta está certa ou errada."
      ]
    },
    {
      "cell_type": "code",
      "execution_count": null,
      "metadata": {
        "id": "6-gi3z0-wYs6"
      },
      "outputs": [],
      "source": [
        "# Solução do professor\n",
        "print('Entre as opções abaixo, selecione a que corresponde ao dia de hoje')\n",
        "print('a) Segunda')\n",
        "print('b) terça')\n",
        "print('c) Quarta')\n",
        "print('d) Quinta')\n",
        "print('e) Sexta')\n",
        "\n",
        "opcao = input('Informe a opção: ')\n",
        "print()\n",
        "if opcao == 'b':\n",
        "    print('Certa resposta!')\n",
        "else:\n",
        "    print('Que pena, você errou!')"
      ]
    },
    {
      "attachments": {},
      "cell_type": "markdown",
      "metadata": {
        "id": "yBu3_M1ZwYs6"
      },
      "source": [
        "7) Vamos fazer um programa para verificar quem é o assassino de um crime. Para descobrir o assassino,\n",
        "a polícia faz um pequeno questionário com 5 perguntas\n",
        "onde a resposta só pode ser sim ou não:\n",
        "\n",
        "a. Mora perto da vítima?\n",
        "\n",
        "b. Já trabalhou com a vítima?\n",
        "\n",
        "c. Telefonou para a vítima?\n",
        "\n",
        "d. Esteve no local do crime?\n",
        "\n",
        "e. Devia para a vítima?\n",
        "\n",
        "Cada resposta sim dá um ponto para o suspeito. A polícia considera que os suspeitos com 5 pontos são os assassinos, com 4 a 3 pontos\n",
        "são cúmplices e 2 pontos são apenas suspeitos, necessitando outras investigações. Valores iguais ou abaixo de 1 são liberados.'''"
      ]
    },
    {
      "cell_type": "code",
      "execution_count": null,
      "metadata": {
        "id": "ZtDI6sHuwYs7"
      },
      "outputs": [],
      "source": [
        "# Solução da Mohara\n",
        "\n",
        "pontos = 0\n",
        "mora_perto = 'não'\n",
        "trabalhou = 'não'\n",
        "telefonou = 'não'\n",
        "esteve = 'não'\n",
        "devia_vitima = 'não'\n",
        "\n",
        "if(mora_perto == 'sim'):\n",
        "    pontos += 1\n",
        "if(trabalhou == 'sim'):\n",
        "    pontos += 1\n",
        "if(telefonou == 'sim'):\n",
        "    pontos += 1\n",
        "if(esteve == 'sim'):\n",
        "    pontos += 1\n",
        "if(devia_vitima == 'sim'):\n",
        "    pontos += 1\n",
        "\n",
        "if(pontos <= 1):\n",
        "    print('Liberado')\n",
        "elif(pontos == 2):\n",
        "    print('Suspeito')\n",
        "elif(pontos == 5):\n",
        "    print('Assassino')\n",
        "else:\n",
        "    print('Cúmplice')\n",
        "\n",
        "print(pontos)"
      ]
    },
    {
      "cell_type": "code",
      "execution_count": null,
      "metadata": {
        "id": "1TkFcK1_e0wJ"
      },
      "outputs": [],
      "source": [
        "# Solução do Bruno Henrique\n",
        "a = input('Mora perto da vítima?')\n",
        "b = input('Já trabalhou com a vítima?')\n",
        "c = input('Telefonou para a vítima?')\n",
        "d = input('Esteve no local do crime?')\n",
        "e = input('Devia para a vítima?')\n",
        "\n",
        "respostas = [a,b,c,d,e]\n",
        "\n",
        "for i in range(len(respostas)):\n",
        "    respostas[i] = 1 if respostas[i] == 's' else 0\n",
        "\n",
        "resposta = respostas.count(1)\n",
        "\n",
        "if resposta == 5:\n",
        "    r = 'Assassino'\n",
        "elif resposta >=3 and resposta < 5:\n",
        "    r = 'Cumplice'\n",
        "elif resposta >= 2:\n",
        "    r = 'Suspeito'\n",
        "else:\n",
        "    r = 'Liberado'\n",
        "\n",
        "print(r)"
      ]
    },
    {
      "cell_type": "code",
      "execution_count": null,
      "metadata": {
        "id": "pI3LFIv7f49H"
      },
      "outputs": [],
      "source": [
        "# Solução do Rafael Pereira\n",
        "quest1 = input(\"Mora perto da vítima?\").lower()\n",
        "quest2 = input(\"Já trabalhou com a vítima?\").lower()\n",
        "quest3 = input(\"Telefonou para a vítima?\").lower()\n",
        "quest4 = input(\"Esteve no local do crime?\").lower()\n",
        "quest5 = input(\"Devia para a vítima?\").lower()\n",
        "\n",
        "questions = [quest1,quest2,quest3,quest4,quest5]\n",
        "question_sim= questions.count('sim')\n",
        "\n",
        "if question_sim == 5:\n",
        "    print(\"Esse questionado é o assassino\")\n",
        "elif question_sim >= 3 and question_sim <= 4:\n",
        "    print(\"Esse questionado é considerado cúmplice\")"
      ]
    },
    {
      "cell_type": "code",
      "execution_count": null,
      "metadata": {
        "id": "iqrmOVfUjGCw"
      },
      "outputs": [],
      "source": [
        "# Solução da Fernanda Dallaqua\n",
        "\n",
        "perguntas = ['a. Mora perto da vítima? ', 'b. Já trabalhou com a vítima? ', 'c. Telefonou para a vítima? ', 'd. Esteve no local do crime? ', 'e. Devia para a vítima? ']\n",
        "respostas = []\n",
        "for p in perguntas:\n",
        "    resposta = 'nao'\n",
        "    while resposta != 'sim' and resposta != 'não':\n",
        "        resposta = input(p)\n",
        "    if resposta == 'sim':\n",
        "      respostas.append(1)\n",
        "    elif resposta == 'não':\n",
        "      respostas.append(0)\n",
        "numero_sim = sum(respostas)\n",
        "if numero_sim == 5:\n",
        "  print('Suspeito é o assassino')\n",
        "elif numero_sim >= 3:\n",
        "  print('Suspeito é o cúmplice')\n",
        "elif numero_sim == 2:\n",
        "  print('Apenas suspeito, necessário mais investigações')\n",
        "else:\n",
        "  print('Suspeito liberado')"
      ]
    },
    {
      "cell_type": "code",
      "execution_count": null,
      "metadata": {},
      "outputs": [],
      "source": [
        "# Solução do professor\n",
        "print('Questionário de suspeitos')\n",
        "print('**Importante**: Responda as opções com \"True\" ou \"False\", sem as aspas.')\n",
        "mora_perto = int(bool(input('Você mora perto da vítima? ')))\n",
        "trabalhou_com_vitima = int(bool(input('Você já trabalhou com a vítima? ')))\n",
        "telefonou_para_vitima = int(bool(input('Você telefonou para a vítima? ')))\n",
        "presenca_local_crime = int(bool(input('Você esteve no local do crime? ')))\n",
        "devia_para_vitima = int(bool(input('Você devia algo para a vítima? ')))\n",
        "\n",
        "pontuacao = mora_perto + trabalhou_com_vitima + telefonou_para_vitima + presenca_local_crime + devia_para_vitima\n",
        "\n",
        "if pontuacao == 5:\n",
        "    print('Você está preso, assassino.')\n",
        "elif pontuacao == 4 or pontuacao == 3:\n",
        "    print('Você está preso, cúmplice.')\n",
        "elif pontuacao == 2:\n",
        "    print('Você está liberado, mas continua como um suspeito. Não saia da cidade.')\n",
        "else:\n",
        "    print('Você está liberado.')"
      ]
    },
    {
      "attachments": {},
      "cell_type": "markdown",
      "metadata": {
        "id": "pwkS2F65wYs7"
      },
      "source": [
        "8) Um produto vai sofrer aumento de acordo com a Tabela 1 abaixo. Faça um programa que peça para o usuário digitar o valor do produto de acordo\n",
        "com o preço antigo e escreva uma das mensagens da Tabela 2, de acordo com o preço reajustado:\n",
        "\n",
        "Tabela 1\n",
        "\n",
        "| Preço Antigo         | % de aumento |\n",
        "|----------------------|--------------|\n",
        "| Até 50 reais         | 5%           |\n",
        "| Entre 50 e 100 reais | 10%          |\n",
        "| De 100 a 150 reais   | 13%          |\n",
        "| Acima de 150 reais   | 15%          |\n",
        "\n",
        "Tabela 2\n",
        "\n",
        "| Preço Novo            | Mensagem   |\n",
        "|-----------------------|------------|\n",
        "| Até 80 reais          | Barato     |\n",
        "| Entre 80 e 115 reais  | Razoável   |\n",
        "| Entre 115 e 150 reais | Normal     |\n",
        "| Entre 150 e 170 reais | Caro       |\n",
        "| Acima de 170 reais    | Muito Caro |"
      ]
    },
    {
      "cell_type": "code",
      "execution_count": null,
      "metadata": {
        "id": "rFfKPZpOwub1"
      },
      "outputs": [],
      "source": [
        "# Solução do Carlos Miguel\n",
        "preco = float(input(\"Digite o preço do seu produto:\"))\n",
        "if(preco <50):\n",
        "    print(\"Aumento de 5%\")\n",
        "    preco = 1.05*preco\n",
        "elif(100 >preco >= 50):\n",
        "    print(\"Aumento de 10%\")\n",
        "    preco = 1.1*preco\n",
        "elif(150 >preco >= 100):\n",
        "    print(\"Aumento de 13%\")\n",
        "    preco = 1.13*preco\n",
        "else:\n",
        "    print(\"Aumento de 15%\")\n",
        "if(preco <80):\n",
        "    print(\"Barato\")\n",
        "elif(115 >preco >= 80):\n",
        "    print(\"Razoável\")\n",
        "elif(150 >preco >= 115):\n",
        "    print(\"Normal!\")\n",
        "elif(170 >preco >= 150):\n",
        "    print(\"Caro!\")\n",
        "else:\n",
        "    print(\"Muito Caro\")"
      ]
    },
    {
      "cell_type": "code",
      "execution_count": null,
      "metadata": {},
      "outputs": [],
      "source": [
        "# Solução do professor\n",
        "valor_produto = float(input('Informe o valor do produto: '))\n",
        "\n",
        "if valor_produto < 50:\n",
        "    valor_reajustado = valor_produto * 1.05\n",
        "elif valor_produto >= 50 and valor_produto < 100:\n",
        "    valor_reajustado = valor_produto * 1.1\n",
        "elif valor_produto >= 100 and valor_produto < 150:\n",
        "    valor_reajustado = valor_produto * 1.13\n",
        "else:\n",
        "    valor_reajustado = valor_produto * 1.15\n",
        "\n",
        "if valor_reajustado < 80:\n",
        "    print('Barato')\n",
        "elif valor_reajustado >= 80 and valor_reajustado < 115:\n",
        "    print('Razoável')\n",
        "elif valor_reajustado >= 115 and valor_reajustado < 150:\n",
        "    print('Normal')\n",
        "elif valor_reajustado >= 150 and valor_reajustado < 170:\n",
        "    print('Caro')\n",
        "else:\n",
        "    print('Muito caro')"
      ]
    },
    {
      "attachments": {},
      "cell_type": "markdown",
      "metadata": {
        "id": "mGe4tzMDwYtE"
      },
      "source": [
        "9) Faça um programa que leia 3 números e informe o maior deles."
      ]
    },
    {
      "cell_type": "code",
      "execution_count": null,
      "metadata": {
        "id": "gQrpdXSDwYtF"
      },
      "outputs": [],
      "source": [
        "# Solução do Clério\n",
        "n1 = int(input('Digite o número 1 : '))\n",
        "n2 = int(input('Digite o número 2 : '))\n",
        "if n1 > n2:\n",
        "  n = n1\n",
        "else:\n",
        "  n = n2\n",
        "n3 = int(input('Digite o número 3 : '))\n",
        "if n < n3:\n",
        "  n = n3\n",
        "print(n)"
      ]
    },
    {
      "cell_type": "code",
      "execution_count": null,
      "metadata": {
        "id": "xKRGFLU7ejZY"
      },
      "outputs": [],
      "source": [
        "# Solução da Fernanda Dallaqua\n",
        "x = float(input('Digite um número: '))\n",
        "y = float(input('Digite outro número: '))\n",
        "z = float(input('Digite mais um número: '))\n",
        "\n",
        "resposta = 'Maior valor é'\n",
        "\n",
        "if x > y:\n",
        "  if x >= z:\n",
        "    print(resposta,x)\n",
        "  else:\n",
        "    print(resposta,z)\n",
        "elif y > x:\n",
        "  if y >= z:\n",
        "    print(resposta,y)\n",
        "  else:\n",
        "    print(resposta,z)\n",
        "elif y == x:\n",
        "  if x > z:\n",
        "    print(resposta,x)\n",
        "  else:\n",
        "    print(resposta,z)"
      ]
    },
    {
      "cell_type": "code",
      "execution_count": null,
      "metadata": {
        "id": "ddaE4v4YjOxX"
      },
      "outputs": [],
      "source": [
        "# Solução do Lucas Lima\n",
        "num_1 = float(input(\"Digite um número!\"))\n",
        "num_2 = float(input(\"Agora digite um outro número!\"))\n",
        "num_3 = float(input(\"Tá, agora juro que é o último!\"))\n",
        "\n",
        "lista = [num_1, num_2, num_3]\n",
        "\n",
        "maior_numero = lista[0]\n",
        "\n",
        "for num in lista:\n",
        "    if num > maior_numero:\n",
        "        maior_numero = num\n",
        "\n",
        "print(f\"O maior número é: {maior_numero}\")"
      ]
    },
    {
      "cell_type": "code",
      "execution_count": null,
      "metadata": {},
      "outputs": [],
      "source": [
        "# Solução do professor #1\n",
        "import math\n",
        "\n",
        "infinito_negativo = -math.inf\n",
        "\n",
        "numero_um = int(input('Informe o primeiro número'))\n",
        "numero_dois = int(input('Informe o segundo número'))\n",
        "numero_tres = int(input('Informe o terceiro número'))\n",
        "\n",
        "maior = infinito_negativo\n",
        "if numero_um >= maior:\n",
        "    maior = numero_um\n",
        "\n",
        "if numero_dois >= maior:\n",
        "    maior = numero_dois\n",
        "\n",
        "if numero_tres >= maior:\n",
        "    maior = numero_tres\n",
        "\n",
        "print(maior)"
      ]
    },
    {
      "cell_type": "code",
      "execution_count": null,
      "metadata": {},
      "outputs": [],
      "source": [
        "# Solução do professor #2\n",
        "import math\n",
        "\n",
        "infinito_negativo = -math.inf\n",
        "\n",
        "numero_um = int(input('Informe o primeiro número'))\n",
        "numero_dois = int(input('Informe o segundo número'))\n",
        "numero_tres = int(input('Informe o terceiro número'))\n",
        "\n",
        "maior = 2\n",
        "if numero_um >= numero_dois and numero_um >= numero_tres:\n",
        "    maior = numero_um\n",
        "elif numero_dois >= numero_tres and numero_dois >= numero_um:\n",
        "    maior = numero_dois\n",
        "elif numero_tres >= numero_um and numero_tres >= numero_dois:\n",
        "    maior = numero_tres\n",
        "\n",
        "print(maior)"
      ]
    }
  ],
  "metadata": {
    "colab": {
      "provenance": []
    },
    "kernelspec": {
      "display_name": "Python 3",
      "language": "python",
      "name": "python3"
    },
    "language_info": {
      "codemirror_mode": {
        "name": "ipython",
        "version": 3
      },
      "file_extension": ".py",
      "mimetype": "text/x-python",
      "name": "python",
      "nbconvert_exporter": "python",
      "pygments_lexer": "ipython3",
      "version": "3.10.5"
    },
    "orig_nbformat": 4,
    "vscode": {
      "interpreter": {
        "hash": "42478136ef40f8edd3f4cf991c33cffcfc620a666d0dc328e82cc0ef4d7b2c04"
      }
    }
  },
  "nbformat": 4,
  "nbformat_minor": 0
}
