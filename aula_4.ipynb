{
 "cells": [
  {
   "attachments": {},
   "cell_type": "markdown",
   "metadata": {},
   "source": [
    "# Coding Tank Santander Coders 2023 - Turma 996"
   ]
  },
  {
   "attachments": {},
   "cell_type": "markdown",
   "metadata": {},
   "source": [
    "## Cronograma de aulas\n",
    "\n",
    "- Aula 1\n",
    "    - Variáveis\n",
    "    - Tipos básicos\n",
    "    - Entradas/Saídas\n",
    "    - Operadores Algébricos\n",
    "    - Operadores de comparação\n",
    "\n",
    "- Aula 2\n",
    "    - Estrutura condicional e controle de fluxo\n",
    "    - Comando if\n",
    "    - Comando else\n",
    "    - Comando Elif\n",
    "\n",
    "- Aula 3\n",
    "    - Estruturas de repetição\n",
    "    - Looping while\n",
    "\n",
    "- Aula 4\n",
    "    - Listas\n",
    "    - Funções, parâmetros e retorno\n",
    "\n",
    "- Aula 5\n",
    "    - Prova"
   ]
  },
  {
   "attachments": {},
   "cell_type": "markdown",
   "metadata": {},
   "source": [
    "---------------------"
   ]
  },
  {
   "attachments": {},
   "cell_type": "markdown",
   "metadata": {},
   "source": [
    "# Listas, Índices, Iterações de listas, Métodos de listas\n",
    "\n",
    "E se quisermos fazer o programa que a pessoa digita 10 números e dizemos o maior, conseguimos?\n",
    "\n",
    "E se quisermos o 2° maior? E se quisermos o 5º? \n",
    "\n",
    "Podemos resolver com **listas**"
   ]
  },
  {
   "attachments": {},
   "cell_type": "markdown",
   "metadata": {},
   "source": [
    "- Listas\n",
    "\n",
    "Listas são coleções de objetos em Python e é expressada em `[]`"
   ]
  },
  {
   "cell_type": "code",
   "execution_count": null,
   "metadata": {},
   "outputs": [],
   "source": []
  },
  {
   "cell_type": "code",
   "execution_count": null,
   "metadata": {},
   "outputs": [],
   "source": [
    "# Índices no python sempre começa no ZERO\n"
   ]
  },
  {
   "cell_type": "code",
   "execution_count": null,
   "metadata": {},
   "outputs": [],
   "source": [
    "# Em listas, a posição dos elementos é importante \n"
   ]
  },
  {
   "cell_type": "code",
   "execution_count": null,
   "metadata": {},
   "outputs": [],
   "source": [
    "# Podemos saber a quantidade de elementos da lista\n"
   ]
  },
  {
   "cell_type": "code",
   "execution_count": null,
   "metadata": {},
   "outputs": [],
   "source": [
    "# Podemos acessar os elementos da lista\n"
   ]
  },
  {
   "cell_type": "code",
   "execution_count": null,
   "metadata": {},
   "outputs": [],
   "source": [
    "# podemos quebrar as listas \n",
    "\n"
   ]
  },
  {
   "cell_type": "code",
   "execution_count": null,
   "metadata": {},
   "outputs": [],
   "source": [
    "# podemos substituir um valor da lista\n"
   ]
  },
  {
   "cell_type": "code",
   "execution_count": null,
   "metadata": {},
   "outputs": [],
   "source": [
    "# podemos acrescentar valores na lista --> usando a função append\n"
   ]
  },
  {
   "attachments": {},
   "cell_type": "markdown",
   "metadata": {},
   "source": [
    "Existem várias outras funções/métodos de listas que vocês irão ver nos próximos módulo, como:\n",
    "\n",
    "- insert\n",
    "- remove\n",
    "- pop\n",
    "- sorted\n",
    "- reverse\n",
    "- index\n",
    "- max, min, len\n",
    "    "
   ]
  },
  {
   "cell_type": "code",
   "execution_count": null,
   "metadata": {},
   "outputs": [],
   "source": [
    "# como adicionar vários elementos a uma lista enquanto o usuário fornece os valores? Se o usuário digitar o 0, finaliza o programa.\n"
   ]
  },
  {
   "attachments": {},
   "cell_type": "markdown",
   "metadata": {},
   "source": [
    "Vamos percorrer a lista"
   ]
  },
  {
   "cell_type": "code",
   "execution_count": null,
   "metadata": {},
   "outputs": [],
   "source": [
    "# Dada uma lista de números, somar os elementos dessa lista usando os índices\n"
   ]
  },
  {
   "cell_type": "code",
   "execution_count": null,
   "metadata": {},
   "outputs": [],
   "source": [
    "# outra forma de somar todos os elementos de uma lista"
   ]
  },
  {
   "cell_type": "code",
   "execution_count": null,
   "metadata": {},
   "outputs": [],
   "source": [
    "# Crie uma lista qualquer e imprima cada um dos elementos usando while\n"
   ]
  },
  {
   "cell_type": "code",
   "execution_count": null,
   "metadata": {},
   "outputs": [],
   "source": [
    "# Crie uma lista crescente (começando do 0) com a quantidade de elementos dada pelo usuário\n"
   ]
  },
  {
   "attachments": {},
   "cell_type": "markdown",
   "metadata": {},
   "source": [
    "Maneiras de percorrer uma lista\n",
    "\n",
    "numeros = [1, 3, 5, 7, 9]\n",
    "\n",
    "- Usando while\n",
    "\n",
    "Pros: Eu sei não só o elemento mas sei o indice também   \n",
    "Contra: Eu preciso controlar o indice\n",
    "\n",
    "```python\n",
    "contador = 0\n",
    "while (contador < len(numeros)):\n",
    "    print(numeros[contador])\n",
    "    contador = contador + 1  Se eu esquecer essa linha\n",
    "```\n",
    "\n",
    "\n",
    "- Jeito intermediario: for in range\n",
    "\n",
    "Pros: Sei o indice, não preciso controlar o loop  \n",
    "Contra: Precisa saber usar a função range  \n",
    "range(5) ->  [0, 1, 2, 3, 4]\n",
    "\n",
    "```python\n",
    "numeros = [1, 3, 5, 7, 9]\n",
    "for indice in range(len(numeros)):\n",
    "    print(numeros[indice])\n",
    "```\n",
    "\n",
    "\n",
    "- Usando só for\n",
    "\n",
    "Pros: não preciso me preocupar com o indice  \n",
    "Contra: não sei indice\n",
    "\n",
    "```python\n",
    "numeros = [1, 3, 5, 7, 9]\n",
    "\n",
    "for numero in numeros:  numero é uma especie de variavel temporaria\n",
    "    print(numero)\n",
    "```"
   ]
  },
  {
   "cell_type": "code",
   "execution_count": null,
   "metadata": {},
   "outputs": [],
   "source": [
    "\n",
    "    "
   ]
  },
  {
   "cell_type": "code",
   "execution_count": null,
   "metadata": {},
   "outputs": [],
   "source": []
  },
  {
   "cell_type": "code",
   "execution_count": null,
   "metadata": {},
   "outputs": [],
   "source": []
  },
  {
   "cell_type": "code",
   "execution_count": null,
   "metadata": {},
   "outputs": [],
   "source": []
  },
  {
   "attachments": {},
   "cell_type": "markdown",
   "metadata": {},
   "source": [
    "Outra forma de usar o for"
   ]
  },
  {
   "cell_type": "code",
   "execution_count": null,
   "metadata": {},
   "outputs": [],
   "source": []
  },
  {
   "attachments": {},
   "cell_type": "markdown",
   "metadata": {},
   "source": [
    "**Vamos praticar (1)**"
   ]
  },
  {
   "attachments": {},
   "cell_type": "markdown",
   "metadata": {},
   "source": [
    "1) Crie uma lista qualquer e faça um programa que imprima cada elemento da lista usando o for."
   ]
  },
  {
   "cell_type": "code",
   "execution_count": null,
   "metadata": {},
   "outputs": [],
   "source": []
  },
  {
   "attachments": {},
   "cell_type": "markdown",
   "metadata": {},
   "source": [
    "2) Faça um programa que imprima todos os itens de uma lista usando while e compare com o exercício 1."
   ]
  },
  {
   "cell_type": "code",
   "execution_count": null,
   "metadata": {},
   "outputs": [],
   "source": []
  },
  {
   "attachments": {},
   "cell_type": "markdown",
   "metadata": {},
   "source": [
    "3) Faça um programa que peça para o usuário digitar um número n e imprima uma lista com todos os números de 0 a n-1."
   ]
  },
  {
   "cell_type": "code",
   "execution_count": null,
   "metadata": {},
   "outputs": [],
   "source": []
  },
  {
   "attachments": {},
   "cell_type": "markdown",
   "metadata": {},
   "source": [
    "-----------------------------------------"
   ]
  },
  {
   "attachments": {},
   "cell_type": "markdown",
   "metadata": {},
   "source": [
    "# Funções\n",
    "\n",
    "Vamos calcular a área do trapézio dado os valores necessários.\n",
    "\n",
    "<img src='https://www.matematica.pt/images/faq/calcular-area-trapezio.png' width='300'>"
   ]
  },
  {
   "cell_type": "code",
   "execution_count": null,
   "metadata": {},
   "outputs": [],
   "source": []
  },
  {
   "attachments": {},
   "cell_type": "markdown",
   "metadata": {},
   "source": [
    "E se quisermos utilizar diversas vezes o mesmo programa?\n",
    "\n",
    "Para isso podemos usar as **funções**\n",
    "\n",
    "Para definir uma função utilizamos a palavra `def`"
   ]
  },
  {
   "cell_type": "code",
   "execution_count": null,
   "metadata": {},
   "outputs": [],
   "source": [
    "# def para definir uma função\n",
    "# o nome da função será imprime_linhas\n",
    "# () dentro destes parênteses estão os parâmetros que eu espero que sejam passados para a minha função\n",
    "# termina a linha com :\n"
   ]
  },
  {
   "attachments": {},
   "cell_type": "markdown",
   "metadata": {},
   "source": [
    "E como eu faço para chamar a função?"
   ]
  },
  {
   "cell_type": "code",
   "execution_count": null,
   "metadata": {},
   "outputs": [],
   "source": [
    "# chamar pelo nome da função -> para executar a função\n",
    "\n"
   ]
  },
  {
   "cell_type": "code",
   "execution_count": null,
   "metadata": {},
   "outputs": [],
   "source": [
    "# E no nosso exemplo da área do trapézio?\n",
    "\n",
    "\n"
   ]
  },
  {
   "cell_type": "code",
   "execution_count": null,
   "metadata": {},
   "outputs": [],
   "source": [
    "area_trapezio()"
   ]
  },
  {
   "attachments": {},
   "cell_type": "markdown",
   "metadata": {},
   "source": [
    "## Parâmetros da função\n",
    "\n",
    "Os parênteses servem para definirmos parâmetros da função\n",
    "\n",
    "Parâmetros são valores que a função pode querer utilizar\n",
    "\n",
    "Diz-se que o parâmetro é recebido pela função"
   ]
  },
  {
   "cell_type": "code",
   "execution_count": null,
   "metadata": {},
   "outputs": [],
   "source": []
  },
  {
   "cell_type": "code",
   "execution_count": null,
   "metadata": {},
   "outputs": [],
   "source": []
  },
  {
   "cell_type": "code",
   "execution_count": null,
   "metadata": {},
   "outputs": [],
   "source": []
  },
  {
   "attachments": {},
   "cell_type": "markdown",
   "metadata": {},
   "source": [
    "Podemos solicitar mais de um parâmetro"
   ]
  },
  {
   "cell_type": "code",
   "execution_count": null,
   "metadata": {},
   "outputs": [],
   "source": []
  },
  {
   "cell_type": "code",
   "execution_count": null,
   "metadata": {},
   "outputs": [],
   "source": []
  },
  {
   "cell_type": "code",
   "execution_count": null,
   "metadata": {},
   "outputs": [],
   "source": []
  },
  {
   "cell_type": "code",
   "execution_count": null,
   "metadata": {},
   "outputs": [],
   "source": [
    "# Podemos atribuir um valor padrão para os parâmetros\n",
    "\n"
   ]
  },
  {
   "cell_type": "code",
   "execution_count": null,
   "metadata": {},
   "outputs": [],
   "source": []
  },
  {
   "cell_type": "code",
   "execution_count": null,
   "metadata": {},
   "outputs": [],
   "source": [
    "# podemos utilizar listas como parâmetros\n",
    "\n"
   ]
  },
  {
   "cell_type": "code",
   "execution_count": null,
   "metadata": {},
   "outputs": [],
   "source": []
  },
  {
   "attachments": {},
   "cell_type": "markdown",
   "metadata": {},
   "source": [
    "## Retorno\n",
    "\n",
    "O retorno da função é o valor que quem chamou a função vai receber quando ela acabar de rodar"
   ]
  },
  {
   "cell_type": "code",
   "execution_count": null,
   "metadata": {},
   "outputs": [],
   "source": []
  },
  {
   "cell_type": "code",
   "execution_count": null,
   "metadata": {},
   "outputs": [],
   "source": []
  },
  {
   "cell_type": "code",
   "execution_count": null,
   "metadata": {},
   "outputs": [],
   "source": [
    "# Return possibilita armazenar numa variável\n"
   ]
  },
  {
   "cell_type": "code",
   "execution_count": null,
   "metadata": {},
   "outputs": [],
   "source": []
  },
  {
   "cell_type": "code",
   "execution_count": null,
   "metadata": {},
   "outputs": [],
   "source": []
  },
  {
   "cell_type": "code",
   "execution_count": null,
   "metadata": {},
   "outputs": [],
   "source": []
  },
  {
   "cell_type": "code",
   "execution_count": null,
   "metadata": {},
   "outputs": [],
   "source": []
  },
  {
   "cell_type": "code",
   "execution_count": null,
   "metadata": {},
   "outputs": [],
   "source": []
  },
  {
   "cell_type": "code",
   "execution_count": null,
   "metadata": {},
   "outputs": [],
   "source": []
  },
  {
   "attachments": {},
   "cell_type": "markdown",
   "metadata": {},
   "source": [
    "1. Escreva uma função que calcule e retorne o dobro de um número inserido. Teste este caso solicitando ao usuário que insira um número e após isso, retorne a resposta."
   ]
  },
  {
   "cell_type": "code",
   "execution_count": null,
   "metadata": {},
   "outputs": [],
   "source": []
  },
  {
   "cell_type": "code",
   "execution_count": null,
   "metadata": {},
   "outputs": [],
   "source": []
  },
  {
   "attachments": {},
   "cell_type": "markdown",
   "metadata": {},
   "source": [
    "2. Crie uma função para cálculo do comprimento da circunferência (C = 2 * 3.14 * R), sendo C o comprimento e R o raio da circunferência "
   ]
  },
  {
   "cell_type": "code",
   "execution_count": null,
   "metadata": {},
   "outputs": [],
   "source": []
  },
  {
   "attachments": {},
   "cell_type": "markdown",
   "metadata": {},
   "source": [
    "3. Faça uma função que emita uma saudação baseada no horário. A função deve receber o nome e o horário (apenas número inteiro) e emita a mensagem com as seguintes condições:\n",
    "- até meio dia (não incluso): \"Bom dia, (VARIAVEL_NOME)\"\n",
    "- entre meio dia (incluso) e 18h (não incluso): \"Boa tarde, (VARIAVEL_NOME)\"\n",
    "- após as 18h (incluso): \"Boa noite, (VARIAVEL_NOME)\""
   ]
  },
  {
   "cell_type": "code",
   "execution_count": null,
   "metadata": {},
   "outputs": [],
   "source": []
  }
 ],
 "metadata": {
  "kernelspec": {
   "display_name": "Python 3",
   "language": "python",
   "name": "python3"
  },
  "language_info": {
   "codemirror_mode": {
    "name": "ipython",
    "version": 3
   },
   "file_extension": ".py",
   "mimetype": "text/x-python",
   "name": "python",
   "nbconvert_exporter": "python",
   "pygments_lexer": "ipython3",
   "version": "3.10.5"
  },
  "orig_nbformat": 4
 },
 "nbformat": 4,
 "nbformat_minor": 2
}
