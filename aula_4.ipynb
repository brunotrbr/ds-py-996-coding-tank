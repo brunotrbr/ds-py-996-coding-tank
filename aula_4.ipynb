{
  "cells": [
    {
      "attachments": {},
      "cell_type": "markdown",
      "metadata": {
        "id": "vjYqS5ICSnI7"
      },
      "source": [
        "# Coding Tank Santander Coders 2023 - Turma 996"
      ]
    },
    {
      "attachments": {},
      "cell_type": "markdown",
      "metadata": {
        "id": "NDpUeG79SnI_"
      },
      "source": [
        "## Cronograma de aulas\n",
        "\n",
        "- Aula 1\n",
        "    - Variáveis\n",
        "    - Tipos básicos\n",
        "    - Entradas/Saídas\n",
        "    - Operadores Algébricos\n",
        "    - Operadores de comparação\n",
        "\n",
        "- Aula 2\n",
        "    - Estrutura condicional e controle de fluxo\n",
        "    - Comando if\n",
        "    - Comando else\n",
        "    - Comando Elif\n",
        "\n",
        "- Aula 3\n",
        "    - Estruturas de repetição\n",
        "    - Looping while\n",
        "\n",
        "- Aula 4\n",
        "    - Listas\n",
        "    - Funções, parâmetros e retorno\n",
        "\n",
        "- Aula 5\n",
        "    - Prova"
      ]
    },
    {
      "attachments": {},
      "cell_type": "markdown",
      "metadata": {
        "id": "nq9k5x2JSnJA"
      },
      "source": [
        "---------------------"
      ]
    },
    {
      "attachments": {},
      "cell_type": "markdown",
      "metadata": {
        "id": "H7KapSN7SnJB"
      },
      "source": [
        "# Listas, Índices, Iterações de listas, Métodos de listas\n",
        "\n",
        "E se quisermos fazer o programa que a pessoa digita 10 números e dizemos o maior, conseguimos?\n",
        "\n",
        "E se quisermos o 2° maior? E se quisermos o 5º?\n",
        "\n",
        "Podemos resolver com **listas**"
      ]
    },
    {
      "attachments": {},
      "cell_type": "markdown",
      "metadata": {
        "id": "UEY-4H27SnJC"
      },
      "source": [
        "- Listas\n",
        "\n",
        "Listas são coleções de objetos em Python e é expressada em `[]`"
      ]
    },
    {
      "cell_type": "code",
      "execution_count": null,
      "metadata": {
        "colab": {
          "base_uri": "https://localhost:8080/"
        },
        "id": "ZaLU1lxfSnJD",
        "outputId": "5bea7c4a-376d-4f11-b41a-9a8276b3e0fd"
      },
      "outputs": [],
      "source": [
        "lista_1 = [] # Inicializa lista vazia\n",
        "print(lista_1)\n",
        "lista_2 = [1, 2, 3, 4]\n",
        "print(lista_2)\n",
        "lista_3 = list() # Inicializa lista vazia\n",
        "print(lista_3)\n",
        "lista_4 = [1, 2.5, 4]\n",
        "print(lista_4)\n",
        "lista_5 = ['um', 2, 3.0, True]\n",
        "print(lista_5)\n",
        "lista_6 = [1, 2, [3, 4]]\n",
        "print(lista_6)\n",
        "print(type(lista_6))\n",
        "print(type(lista_6[0]))\n",
        "print(type(lista_6[1]))\n",
        "print(type(lista_6[2]))"
      ]
    },
    {
      "cell_type": "code",
      "execution_count": null,
      "metadata": {
        "id": "loO9mUpPSnJE"
      },
      "outputs": [],
      "source": [
        "# Índices no python sempre começa no ZERO\n",
        "lista_1 = [1, 2, 3]\n",
        "# indices  0, 1, 2"
      ]
    },
    {
      "cell_type": "code",
      "execution_count": null,
      "metadata": {
        "colab": {
          "base_uri": "https://localhost:8080/"
        },
        "id": "MR0O-IJGSnJF",
        "outputId": "0a8389a5-56f1-4cf2-dfe4-720b5ea03146"
      },
      "outputs": [],
      "source": [
        "# Em listas, a posição dos elementos é importante\n",
        "lista_1"
      ]
    },
    {
      "cell_type": "code",
      "execution_count": null,
      "metadata": {
        "colab": {
          "base_uri": "https://localhost:8080/"
        },
        "id": "Zy1H7rMsSnJG",
        "outputId": "90547e9c-9c8f-442a-f1b7-dc58529a8d88"
      },
      "outputs": [],
      "source": [
        "# Podemos saber a quantidade de elementos da lista\n",
        "len(lista_1)"
      ]
    },
    {
      "cell_type": "code",
      "execution_count": null,
      "metadata": {
        "colab": {
          "base_uri": "https://localhost:8080/",
          "height": 252
        },
        "id": "snu0ZhElSnJH",
        "outputId": "94d22b79-1f41-47e7-a6d9-f095b7daa779"
      },
      "outputs": [],
      "source": [
        "# Podemos acessar os elementos da lista\n",
        "print(lista_1[0])\n",
        "print(lista_1[1])\n",
        "print(lista_1[2])\n",
        "print(lista_1[3]) # Gera erro, pois a lista possui somente 3 elementes, de indice 0 até 2"
      ]
    },
    {
      "cell_type": "code",
      "execution_count": null,
      "metadata": {
        "colab": {
          "base_uri": "https://localhost:8080/"
        },
        "id": "3NDBdKssSnJI",
        "outputId": "c3cf8e96-47c0-4e0f-f33a-aa869dc9cb7c"
      },
      "outputs": [],
      "source": [
        "# podemos quebrar as listas\n",
        "lista_maior = [1, 2, 3, 4, 5, 6, 7, 8, 9, 10]\n",
        "print(lista_maior)\n",
        "\n",
        "# lista[indice_inicio:indice_fim], lembrando que o valor do índice do fim não entra na lista\n",
        "print(lista_maior[2:5]) # corta a lista de 2 até (5-1)\n",
        "# [3, 4]\n",
        "# [3, 4, 5, 6]\n",
        "# [3, 4, 5]\n",
        "\n",
        "print(lista_maior[:8]) # pega da posição 0 até indice-1 (8-1)\n",
        "# [1,2,3,4,5,6,7]\n",
        "print(lista_maior[4:]) # pega da posição 4 até o final da lista\n",
        "# [1,2,3,4,5,6,7]\n",
        "\n",
        "\n",
        "print(lista_maior[len(lista_maior)-1]) # pegar o último elemento da lista\n",
        "print(lista_maior[-1]) # pegar o último elemento da lista\n",
        "print(lista_maior[-3])\n",
        "print(lista_maior[-4])\n",
        "\n",
        "# Obter sub listas usando indices negativos, que percorrem a lista de trás pra frente\n",
        "print(lista_maior[-8:-4])\n",
        "print(lista_maior[:-4])\n",
        "print(lista_maior[-5:])\n",
        "\n",
        "# Pular n elementos da lista\n",
        "print(lista_maior[1:9:2])\n",
        "print(lista_maior[0:9:3])"
      ]
    },
    {
      "cell_type": "code",
      "execution_count": null,
      "metadata": {
        "colab": {
          "base_uri": "https://localhost:8080/"
        },
        "id": "dDO5iND0SnJJ",
        "outputId": "5067c954-1ee5-477e-9f82-9f53566a921f"
      },
      "outputs": [],
      "source": [
        "# podemos substituir um valor da lista\n",
        "lista_11 = [5, 8, 9]\n",
        "print(lista_11)\n",
        "lista_11[1] = 15\n",
        "print(lista_11)"
      ]
    },
    {
      "cell_type": "code",
      "execution_count": null,
      "metadata": {
        "colab": {
          "base_uri": "https://localhost:8080/"
        },
        "id": "WpEoSnzuSnJJ",
        "outputId": "6c7ffcae-e64c-431e-f66b-5b4051ec431b"
      },
      "outputs": [],
      "source": [
        "# podemos acrescentar valores na lista --> usando a função append\n",
        "lista_11 = [5, 8, 9]\n",
        "print(lista_11)\n",
        "lista_11.append(68)\n",
        "print(lista_11)"
      ]
    },
    {
      "attachments": {},
      "cell_type": "markdown",
      "metadata": {
        "id": "aC7fhjKWSnJK"
      },
      "source": [
        "Existem várias outras funções/métodos de listas que vocês irão ver nos próximos módulo, como:\n",
        "\n",
        "- insert\n",
        "- remove\n",
        "- pop\n",
        "- sorted\n",
        "- reverse\n",
        "- index\n",
        "- max, min, len\n",
        "    "
      ]
    },
    {
      "attachments": {},
      "cell_type": "markdown",
      "metadata": {
        "id": "6QFociE8aj99"
      },
      "source": [
        "como adicionar vários elementos a uma lista enquanto o usuário fornece os valores? Se o usuário digitar o 0, finaliza o programa."
      ]
    },
    {
      "cell_type": "code",
      "execution_count": null,
      "metadata": {
        "colab": {
          "base_uri": "https://localhost:8080/"
        },
        "id": "vJn04hlwanNG",
        "outputId": "a7bcf8b4-d288-49ef-c2ae-d4694afda881"
      },
      "outputs": [],
      "source": [
        "# Código visto em aula\n",
        "lista = []\n",
        "numero = int(input('Informe um número:'))\n",
        "lista.append(numero)\n",
        "\n",
        "while numero != 0:\n",
        "  numero = int(input('Informe um número:'))\n",
        "  if(numero !=0): # para que o zero não seja inserido\n",
        "    lista.append(numero)\n",
        "print(lista)\n",
        "\n",
        "# uma versão melhorada, para que não seja inserido nenhum zero, seria assim:\n",
        "# Sugestão da Fernanda Dallaqua\n",
        "lista = []\n",
        "numero = int(input('Informe um número:'))\n",
        "\n",
        "while numero != 0:\n",
        "  lista.append(numero)\n",
        "  numero = int(input('Informe um número:'))\n",
        "print(lista)"
      ]
    },
    {
      "attachments": {},
      "cell_type": "markdown",
      "metadata": {
        "colab": {
          "base_uri": "https://localhost:8080/"
        },
        "id": "k_idsstYSnJL",
        "outputId": "83c8dce9-f622-4478-c35f-14e988de553f"
      },
      "source": [
        "Dada uma lista de números, somar os elementos dessa lista usando os índices"
      ]
    },
    {
      "cell_type": "code",
      "execution_count": null,
      "metadata": {},
      "outputs": [],
      "source": [
        "lista_maior = [1, 2, 3, 4, 5, 6, 7, 8, 9, 10]\n",
        "soma = 0\n",
        "indice = 0\n",
        "\n",
        "while indice < len(lista_maior):\n",
        "  print('Índice: ', indice)\n",
        "  soma = soma + lista_maior[indice]\n",
        "  indice += 1\n",
        "\n",
        "print(soma)"
      ]
    },
    {
      "cell_type": "code",
      "execution_count": null,
      "metadata": {
        "colab": {
          "base_uri": "https://localhost:8080/"
        },
        "id": "86i-4vVASnJM",
        "outputId": "a053cdae-e351-4496-c194-ce406a2c5b6f"
      },
      "outputs": [],
      "source": [
        "# outra forma de somar todos os elementos de uma lista\n",
        "sum(lista_maior)"
      ]
    },
    {
      "cell_type": "code",
      "execution_count": null,
      "metadata": {
        "id": "kdUaw8CrSnJM"
      },
      "outputs": [],
      "source": [
        "# Crie uma lista qualquer e imprima cada um dos elementos usando while\n",
        "numeros = [1, 3, 5, 7, 9]\n",
        "indice = 0\n",
        "\n",
        "while indice < len(numeros):\n",
        "    print(numeros[indice])\n",
        "    indice += 1"
      ]
    },
    {
      "cell_type": "code",
      "execution_count": null,
      "metadata": {
        "id": "uJ_6unAbSnJM"
      },
      "outputs": [],
      "source": [
        "# Crie uma lista crescente (começando do 0) com a quantidade de elementos dada pelo usuário\n",
        "numero = int(input('Digite a quantidade da lista:'))\n",
        "\n",
        "lista = []\n",
        "indice = 0\n",
        "while indice < numero:\n",
        "    lista.append(indice)\n",
        "    indice += 1\n",
        "print(lista)"
      ]
    },
    {
      "attachments": {},
      "cell_type": "markdown",
      "metadata": {
        "id": "QfnqZvTiSnJN"
      },
      "source": [
        "Maneiras de percorrer uma lista\n",
        "\n",
        "numeros = [1, 3, 5, 7, 9]\n",
        "\n",
        "- Usando while\n",
        "\n",
        "Pros: Eu sei não só o elemento mas sei o indice também   \n",
        "Contra: Eu preciso controlar o indice\n",
        "\n",
        "```python\n",
        "contador = 0\n",
        "while (contador < len(numeros)):\n",
        "    print(numeros[contador])\n",
        "    contador = contador + 1  Se eu esquecer essa linha\n",
        "```\n",
        "\n",
        "\n",
        "- Jeito intermediario: for in range\n",
        "\n",
        "Pros: Sei o indice, não preciso controlar o loop  \n",
        "Contra: Precisa saber usar a função range  \n",
        "range(5) ->  [0, 1, 2, 3, 4]\n",
        "\n",
        "```python\n",
        "numeros = [1, 3, 5, 7, 9]\n",
        "for indice in range(len(numeros)):\n",
        "    print(numeros[indice])\n",
        "```\n",
        "\n",
        "\n",
        "- Usando só for\n",
        "\n",
        "Pros: não preciso me preocupar com o indice  \n",
        "Contra: não sei indice\n",
        "\n",
        "```python\n",
        "numeros = [1, 3, 5, 7, 9]\n",
        "\n",
        "for numero in numeros:  numero é uma especie de variavel temporaria\n",
        "    print(numero)\n",
        "```"
      ]
    },
    {
      "cell_type": "code",
      "execution_count": null,
      "metadata": {
        "colab": {
          "base_uri": "https://localhost:8080/"
        },
        "id": "f5JFuNvWSnJN",
        "outputId": "d34e0efb-e59f-4a15-8a69-4ca7c1fcdd97"
      },
      "outputs": [],
      "source": [
        "numeros = [1, 3, 5, 7, 9] # tenho essa lista. Como imprimir todos os elementos dessa lista sem usar o while?\n",
        "\n",
        "for indice in range(5): # range é exclusivo, não incluí o último! range(5) = range(0,5) = range(inicio , fim)\n",
        "  print(numeros[indice])"
      ]
    },
    {
      "cell_type": "code",
      "execution_count": null,
      "metadata": {
        "colab": {
          "base_uri": "https://localhost:8080/"
        },
        "id": "apkjgbMsdu8m",
        "outputId": "ab93a412-4903-4bed-c6d8-05d68b953c98"
      },
      "outputs": [],
      "source": [
        "numeros = [1, 3, 5, 7, 9, 11]\n",
        "\n",
        "for indice in range(len(numeros)):\n",
        "  print(numeros[indice])"
      ]
    },
    {
      "cell_type": "code",
      "execution_count": null,
      "metadata": {
        "colab": {
          "base_uri": "https://localhost:8080/"
        },
        "id": "5kb0vJDod2Wp",
        "outputId": "75bd5c29-b46e-4af5-812a-12fdae510fd2"
      },
      "outputs": [],
      "source": [
        "numeros = [1, 3, 5, 7, 9, 11]\n",
        "for numero in numeros:\n",
        "  print(numero)"
      ]
    },
    {
      "cell_type": "code",
      "execution_count": null,
      "metadata": {
        "colab": {
          "base_uri": "https://localhost:8080/"
        },
        "id": "Lw0xr-fcefvO",
        "outputId": "07654686-eacf-415b-9f14-5ffc3736e980"
      },
      "outputs": [],
      "source": [
        "numeros = [1, 3, 5, 7, 9, 11, 874, 5, 84, 987, 1, 2]\n",
        "print(list(range(3)))\n",
        "print(list(range(3,10)))\n",
        "print(list(range(3,10,2))) # posição inicial, posição final, de quanto em quanto ele vai andar\n",
        "print(list(range(3,len(numeros),2)))"
      ]
    },
    {
      "cell_type": "code",
      "execution_count": null,
      "metadata": {
        "colab": {
          "base_uri": "https://localhost:8080/"
        },
        "id": "7hDJ-mtJfWu4",
        "outputId": "593351b6-1df6-42b9-a16e-b06a82ddc2ad"
      },
      "outputs": [],
      "source": [
        "# For com enumerate, pra obter o índice e o valor\n",
        "numeros = [1, 3, 5, 7, 9, 11, 874, 5, 84, 987, 1, 2]\n",
        "\n",
        "for indice, numero in enumerate(numeros):\n",
        "  print(f'Indice: {indice}, valor: {numero}')\n",
        "\n",
        "print()\n",
        "for indice, numero in enumerate(numeros, 4):\n",
        "  print(f'Indice: {indice}, valor: {numero}')\n",
        "\n",
        "# Comportamento lazy/yield, ou seja, só vai construir a lista se \"pedirmos pra usar ela\"\n",
        "print(enumerate(numeros))\n",
        "print(range(5))\n",
        "\n",
        "# pedimos pra usar a lista assim\n",
        "print(list(enumerate(numeros)))\n",
        "print(list(range(5)))"
      ]
    },
    {
      "attachments": {},
      "cell_type": "markdown",
      "metadata": {
        "id": "XZJCmWU2SnJO"
      },
      "source": [
        "**Vamos praticar (1)**"
      ]
    },
    {
      "attachments": {},
      "cell_type": "markdown",
      "metadata": {
        "id": "-BOz-qAfSnJO"
      },
      "source": [
        "1) Crie uma lista qualquer e faça um programa que imprima cada elemento da lista usando o for."
      ]
    },
    {
      "cell_type": "code",
      "execution_count": null,
      "metadata": {
        "id": "Iw0u15wWSnJO"
      },
      "outputs": [],
      "source": [
        "# Cria uma lista de alunos\n",
        "alunos = ['Ana', 'Arthur', 'Beatriz', 'Diego', 'Juacy', 'Luiza', 'Rafael', 'Wagner']\n",
        "\n",
        "# Para cada aluno em alunos...\n",
        "for aluno in alunos:\n",
        "\n",
        "    # ...imprime o nome do aluno\n",
        "    print(aluno)"
      ]
    },
    {
      "attachments": {},
      "cell_type": "markdown",
      "metadata": {
        "id": "l-y-AGoqSnJP"
      },
      "source": [
        "2) Faça um programa que imprima todos os itens de uma lista usando while e compare com o exercício 1."
      ]
    },
    {
      "cell_type": "code",
      "execution_count": null,
      "metadata": {
        "id": "HeJjxvvsSnJP"
      },
      "outputs": [],
      "source": [
        "lista = [1, 3, 5, 7, 9, 11, 13]\n",
        "contador = 0\n",
        "while(contador < len(lista)):\n",
        "    print(f\"Item: {lista[contador]}\")\n",
        "    contador += 1"
      ]
    },
    {
      "attachments": {},
      "cell_type": "markdown",
      "metadata": {
        "id": "VqcQ6qScSnJQ"
      },
      "source": [
        "3) Faça um programa que peça para o usuário digitar um número n e imprima uma lista com todos os números de 0 a n-1."
      ]
    },
    {
      "cell_type": "code",
      "execution_count": null,
      "metadata": {
        "id": "ZrrjXE-GSnJQ"
      },
      "outputs": [],
      "source": [
        "# Cria uma lista vazia\n",
        "lista = []\n",
        "\n",
        "# Pede o valor de n para o usuário\n",
        "n = int(input(\"n = \"))\n",
        "\n",
        "# Para cara número no intervalo (0, n-1)...\n",
        "for numero in range(n):\n",
        "\n",
        "    # ...adiciona o número à lista\n",
        "    lista.append(numero)\n",
        "\n",
        "# Imprime a lista\n",
        "print(lista)"
      ]
    },
    {
      "attachments": {},
      "cell_type": "markdown",
      "metadata": {
        "id": "tTI4FgqkSnJR"
      },
      "source": [
        "-----------------------------------------"
      ]
    },
    {
      "attachments": {},
      "cell_type": "markdown",
      "metadata": {
        "id": "5L6Tzyo9SnJS"
      },
      "source": [
        "# Funções\n",
        "\n",
        "Vamos calcular a área do trapézio dado os valores necessários.\n",
        "\n",
        "<img src='https://www.matematica.pt/images/faq/calcular-area-trapezio.png' width='300'>"
      ]
    },
    {
      "cell_type": "code",
      "execution_count": null,
      "metadata": {
        "colab": {
          "base_uri": "https://localhost:8080/"
        },
        "id": "dbWvw7ldSnJS",
        "outputId": "3c1be5cb-69f5-4b14-abec-ff6145972a63"
      },
      "outputs": [],
      "source": [
        "h = float(input('Digite a altura do trapézio: '))\n",
        "b = float(input('Digite a base superior do trapézio: '))\n",
        "B = float(input('Digite a base inferior do trapézio: '))\n",
        "\n",
        "area = ((B + b)*h)/2\n",
        "print('A área do trapézio é:', area)"
      ]
    },
    {
      "attachments": {},
      "cell_type": "markdown",
      "metadata": {
        "id": "M4JqoG6mSnJS"
      },
      "source": [
        "E se quisermos utilizar diversas vezes o mesmo programa?\n",
        "\n",
        "Para isso podemos usar as **funções**\n",
        "\n",
        "Para definir uma função utilizamos a palavra `def`"
      ]
    },
    {
      "cell_type": "code",
      "execution_count": null,
      "metadata": {
        "id": "N_aw9tQ-SnJS"
      },
      "outputs": [],
      "source": [
        "# def para definir uma função\n",
        "# o nome da função será imprime_linhas\n",
        "# () dentro destes parênteses estão os parâmetros que eu espero que sejam passados para a minha função\n",
        "# termina a linha com :\n",
        "\n",
        "def imprime_linhas():\n",
        "  print('Teste')\n",
        "  # corpo da função"
      ]
    },
    {
      "attachments": {},
      "cell_type": "markdown",
      "metadata": {
        "id": "0kkw65pqSnJY"
      },
      "source": [
        "E como eu faço para chamar a função?"
      ]
    },
    {
      "cell_type": "code",
      "execution_count": null,
      "metadata": {
        "colab": {
          "base_uri": "https://localhost:8080/"
        },
        "id": "mpQuTxheSnJZ",
        "outputId": "3854e71c-a000-4142-f739-4e31fb4c9cec"
      },
      "outputs": [],
      "source": [
        "# chamar pelo nome da função -> para executar a função\n",
        "\n",
        "imprime_linhas()\n",
        "# trecho de código\n",
        "imprime_linhas()\n",
        "# trecho de código\n",
        "# trecho de código\n",
        "imprime_linhas()"
      ]
    },
    {
      "cell_type": "code",
      "execution_count": null,
      "metadata": {
        "id": "UOLLaMb6SnJZ"
      },
      "outputs": [],
      "source": [
        "# E no nosso exemplo da área do trapézio?\n",
        "\n",
        "def area_trapezio():\n",
        "  h = float(input('Digite a altura do trapézio: '))\n",
        "  b = float(input('Digite a base superior do trapézio: '))\n",
        "  B = float(input('Digite a base inferior do trapézio: '))\n",
        "\n",
        "  area = ((B + b)*h)/2\n",
        "  print('A área do trapézio é:', area)"
      ]
    },
    {
      "cell_type": "code",
      "execution_count": null,
      "metadata": {
        "colab": {
          "base_uri": "https://localhost:8080/"
        },
        "id": "FJpXAttjSnJa",
        "outputId": "b85f1f63-0203-4a42-8f8f-03502ea6c1d2"
      },
      "outputs": [],
      "source": [
        "area_trapezio()"
      ]
    },
    {
      "attachments": {},
      "cell_type": "markdown",
      "metadata": {
        "id": "9m8_hbK8SnJa"
      },
      "source": [
        "## Parâmetros da função\n",
        "\n",
        "Os parênteses servem para definirmos parâmetros da função\n",
        "\n",
        "Parâmetros são valores que a função pode querer utilizar\n",
        "\n",
        "Diz-se que o parâmetro é recebido pela função"
      ]
    },
    {
      "cell_type": "code",
      "execution_count": null,
      "metadata": {
        "colab": {
          "base_uri": "https://localhost:8080/"
        },
        "id": "P3EV40zXSnJb",
        "outputId": "d4119123-26c8-4c84-fb5d-9d071e28a463"
      },
      "outputs": [],
      "source": [
        "nome = 'Pedro'  # A variável nome, nesse caso com o valor Pedro, está fora do escopo da função. \n",
        "                # Ou seja, a função não sabe que ela existe, mesmo que tenham o mesmo nome.\n",
        "\n",
        "# O parâmetro nome possui um valor dentro da função, e deixa de existir quando a função acaba de rodar\n",
        "def bom_dia(nome):\n",
        "  print('Bom dia', nome)\n",
        "  print('Boa tarde', nome)\n",
        "\n",
        "bom_dia('Guilherme')\n",
        "bom_dia('Mohara')\n",
        "bom_dia(nome) # Reparem que aqui passamos o nome Pedro para a função"
      ]
    },
    {
      "attachments": {},
      "cell_type": "markdown",
      "metadata": {
        "id": "jyvrghwwSnJb"
      },
      "source": [
        "Podemos solicitar mais de um parâmetro"
      ]
    },
    {
      "cell_type": "code",
      "execution_count": null,
      "metadata": {
        "colab": {
          "base_uri": "https://localhost:8080/"
        },
        "id": "6vDFS-p4SnJb",
        "outputId": "abffa6c4-6687-4153-f0dc-f9f55e0aefa4"
      },
      "outputs": [],
      "source": [
        "def cadastro(nome: str, idade: int, cidade: str):\n",
        "  print(f'A pessoa chamada de {nome} tem {idade} anos e mora em {cidade}')\n",
        "\n",
        "cadastro('Lucas', 25, 'Salvador')"
      ]
    },
    {
      "cell_type": "code",
      "execution_count": null,
      "metadata": {
        "colab": {
          "base_uri": "https://localhost:8080/"
        },
        "id": "64RxwtmFSnJb",
        "outputId": "2c97f93d-61c2-4c70-8e6e-ae89667617a8"
      },
      "outputs": [],
      "source": [
        "def cadastro(nome: str, idade: int, cidade: str):\n",
        "  print(f'A pessoa chamada de {nome} tem {idade} anos e mora em {cidade}')\n",
        "\n",
        "cadastro(idade=25, cidade='Salvador', nome='Lucas')"
      ]
    },
    {
      "cell_type": "code",
      "execution_count": null,
      "metadata": {
        "colab": {
          "base_uri": "https://localhost:8080/"
        },
        "id": "ZDoPlOoopgDA",
        "outputId": "f6b6ef4f-99c2-4a3d-ea5c-804929a3f4cf"
      },
      "outputs": [],
      "source": [
        "def cadastro(nome: str, idade: int, cidade: str):\n",
        "  # # apesar de funcionar, não costuma ser uma boa prática colocar o while dentro da\n",
        "  # # função\n",
        "  # # isso porque em programas que não tem interação com usuários ele ficaria\n",
        "  # # em loop eterno\n",
        "  # while type(idade) != int:\n",
        "  #   print('Idade informada não é um número. O tipo informado foi',type(idade))\n",
        "  #   idade = input('Informe aqui a idade:')\n",
        "  #   if idade.isnumeric():\n",
        "  #     idade = int(idade)\n",
        "\n",
        "  # Essa é uma boa prática\n",
        "  if type(idade) != int:\n",
        "    print('Idade informada não é um número. O tipo informado foi',type(idade))\n",
        "    return\n",
        "\n",
        "  if type(nome) != str:\n",
        "    print('Nome informado não é uma string. O tipo informado foi',type(nome))\n",
        "    return\n",
        "\n",
        "  if type(cidade) != type('str'):\n",
        "    print('Cidade informada não é uma string. O tipo informado foi',type(cidade))\n",
        "    return\n",
        "\n",
        "  print(f'A pessoa chamada de {nome} tem {idade} anos e mora em {cidade}')\n",
        "\n",
        "cadastro(idade=True, cidade='Salvador', nome='Lucas')"
      ]
    },
    {
      "cell_type": "code",
      "execution_count": null,
      "metadata": {
        "colab": {
          "base_uri": "https://localhost:8080/"
        },
        "id": "mhFF19_WSnJc",
        "outputId": "d8266124-60b9-4678-ac36-4263258c9837"
      },
      "outputs": [],
      "source": [
        "from typing import Optional\n",
        "\n",
        "# Podemos atribuir um valor padrão para os parâmetros, tornando ele um parâmetro opcional\n",
        "# Caso não seja informado, a função vai utilizar o nome padrão\n",
        "def cadastro(nome: str, idade: int, cidade: str = 'Salvador'):\n",
        "  print(f'A pessoa chamada de {nome} tem {idade} anos e mora em {cidade}')\n",
        "\n",
        "# consigo usar a função sem informar a cidade, e vai imprimir a cidade de salvador\n",
        "cadastro(idade=25, nome='Lucas')\n",
        "\n",
        "# Outra forma de declarar parâmetros opcionais\n",
        "def cadastro(nome: str, idade: int, cidade: Optional[str] = 'São Paulo'):\n",
        "  print(f'A pessoa chamada de {nome} tem {idade} anos e mora em {cidade}')\n",
        "\n",
        "# Outra forma de declarar parâmetros opcionais\n",
        "def cadastro(nome: str, idade: int, cidade: Optional[str] = None):\n",
        "  print(f'A pessoa chamada de {nome} tem {idade} anos e mora em {cidade}')\n",
        "\n",
        "# consigo usar a função sem informar a cidade\n",
        "cadastro(idade=25, nome='Lucas', cidade=10)"
      ]
    },
    {
      "cell_type": "code",
      "execution_count": null,
      "metadata": {
        "id": "UU0EqFzGSnJc"
      },
      "outputs": [],
      "source": [
        "# podemos utilizar listas como parâmetros\n",
        "\n",
        "def somatorio(lista):\n",
        "    soma = 0\n",
        "    for elemento in lista:\n",
        "        soma = soma + elemento\n",
        "    print(soma)\n",
        "\n",
        "\n",
        "numeros = [1,3,5,7,9] #lista\n",
        "somatorio(numeros)\n"
      ]
    },
    {
      "attachments": {},
      "cell_type": "markdown",
      "metadata": {
        "id": "XsfZjeDNSnJc"
      },
      "source": [
        "## Retorno\n",
        "\n",
        "O retorno da função é o valor que quem chamou a função vai receber quando ela acabar de rodar"
      ]
    },
    {
      "cell_type": "code",
      "execution_count": null,
      "metadata": {},
      "outputs": [],
      "source": [
        "def nome_funcao():\n",
        "    return # retorna um valor da função (aproveitar o resultado para usar em outro lugar)"
      ]
    },
    {
      "cell_type": "code",
      "execution_count": null,
      "metadata": {},
      "outputs": [],
      "source": [
        "# Função sem retorno\n",
        "def somatorio(lista):\n",
        "    soma = 0\n",
        "    for elemento in lista:\n",
        "        soma = soma + elemento\n",
        "    print(soma)\n",
        "\n",
        "somatorio(numeros)\n",
        "\n",
        "# Como a função somatório não retorna nada, a variável retorno_inexistente recebe None\n",
        "retorno_inexistente = somatorio(numeros)\n",
        "print(retorno_inexistente)\n",
        "\n",
        "# Return possibilita armazenar numa variável\n",
        "def somatorio_return(lista):\n",
        "    soma = 0\n",
        "    for elemento in lista:\n",
        "        soma = soma + elemento\n",
        "    return soma # estamos retornando a variável com o valor da soma da função\n",
        "\n",
        "\n",
        "somatorio_return(numeros)\n",
        "var = somatorio(numeros)\n",
        "\n",
        "print('variável', var)"
      ]
    },
    {
      "cell_type": "code",
      "execution_count": null,
      "metadata": {
        "colab": {
          "base_uri": "https://localhost:8080/"
        },
        "id": "UMH799pZSnJd",
        "outputId": "798de884-88c0-4d35-ce59-79cffb087c69"
      },
      "outputs": [],
      "source": [
        "def cadastro(nome: str, idade: int, cidade: str):\n",
        "  if type(idade) != int:\n",
        "    print('Idade informada não é um número. O tipo informado foi',type(idade))\n",
        "    return\n",
        "\n",
        "  if type(nome) != str:\n",
        "    print('Nome informado não é uma string. O tipo informado foi',type(nome))\n",
        "    return\n",
        "\n",
        "  if type(cidade) != type('str'):\n",
        "    print('Cidade informada não é uma string. O tipo informado foi',type(cidade))\n",
        "    return\n",
        "\n",
        "  print(f'A pessoa chamada de {nome} tem {idade} anos e mora em {cidade}')\n",
        "  return\n",
        "\n",
        "retorno_do_cadastro = cadastro(idade=25, cidade='Salvador', nome='Lucas')\n",
        "print(retorno_do_cadastro)\n",
        "\n",
        "# Podemos imprimir direto o retorno da função\n",
        "print(cadastro(idade=25, cidade='Salvador', nome='Lucas'))"
      ]
    },
    {
      "cell_type": "code",
      "execution_count": null,
      "metadata": {
        "id": "umvVVLP4SnJd"
      },
      "outputs": [],
      "source": [
        "def maior_idade(idade=0):\n",
        "    if (idade>=18):\n",
        "        return True\n",
        "    else:\n",
        "        return False\n",
        "    \n",
        "eh_maior_de_idade = maior_idade()\n",
        "print(eh_maior_de_idade)\n",
        "\n",
        "eh_maior_de_idade = maior_idade(18)\n",
        "print(eh_maior_de_idade)\n",
        "\n",
        "# Podemos imprimir direto o retorno da função\n",
        "print(maior_idade(18))\n",
        "\n",
        "\n",
        "# podemos usar uma função que tenha return dentro de uma condição  -> If True:\n",
        "idade = int(input('Digite sua idade: '))\n",
        "\n",
        "if (maior_idade(idade)): # podemos usar uma função que tenha return dentro de uma condição  -> If True:\n",
        "    print('É maior')\n",
        "else: # If False, caso contrário\n",
        "    print('Não é')"
      ]
    },
    {
      "attachments": {},
      "cell_type": "markdown",
      "metadata": {
        "id": "vVmMnGlaSnJf"
      },
      "source": [
        "1. Escreva uma função que calcule e retorne o dobro de um número inserido. Teste este caso solicitando ao usuário que insira um número e após isso, retorne a resposta."
      ]
    },
    {
      "cell_type": "code",
      "execution_count": null,
      "metadata": {
        "id": "OsnLkpasSnJg"
      },
      "outputs": [],
      "source": [
        "def dobro(num):\n",
        "    numDobrado = num * 2\n",
        "    return numDobrado\n",
        "\n",
        "num = float(input('Digite um valor: '))\n",
        "print(f'''Valor inicial: {num}\n",
        "Valor dobrado: {dobro(num)}''')"
      ]
    },
    {
      "cell_type": "code",
      "execution_count": null,
      "metadata": {
        "id": "-ihUxBafSnJg"
      },
      "outputs": [],
      "source": [
        "def dobro(x):\n",
        "  return x*2\n",
        "\n",
        "dobro(5)"
      ]
    },
    {
      "attachments": {},
      "cell_type": "markdown",
      "metadata": {
        "id": "zcpEKyj5SnJg"
      },
      "source": [
        "2. Crie uma função para cálculo do comprimento da circunferência (C = 2 * 3.14 * R), sendo C o comprimento e R o raio da circunferência"
      ]
    },
    {
      "cell_type": "code",
      "execution_count": null,
      "metadata": {
        "id": "YCmZw0IeSnJg"
      },
      "outputs": [],
      "source": [
        "def calcular_circunferencia(r):\n",
        "    C=2*3.14*r\n",
        "    return C\n",
        "\n",
        "print(calcular_circunferencia(int(input('Digite o raio: '))))"
      ]
    },
    {
      "attachments": {},
      "cell_type": "markdown",
      "metadata": {
        "id": "mkRrrR3OSnJh"
      },
      "source": [
        "3. Faça uma função que emita uma saudação baseada no horário. A função deve receber o nome e o horário (apenas número inteiro) e emita a mensagem com as seguintes condições:\n",
        "- até meio dia (não incluso): \"Bom dia, (VARIAVEL_NOME)\"\n",
        "- entre meio dia (incluso) e 18h (não incluso): \"Boa tarde, (VARIAVEL_NOME)\"\n",
        "- após as 18h (incluso): \"Boa noite, (VARIAVEL_NOME)\""
      ]
    },
    {
      "cell_type": "code",
      "execution_count": null,
      "metadata": {
        "id": "eDhcV0RISnJh"
      },
      "outputs": [],
      "source": [
        "def saudacao(nome, horario):\n",
        "  if horario >= 0 and horario <= 12:\n",
        "    print(f'Bom dia, {nome}')\n",
        "  elif horario > 12 and horario <= 18:\n",
        "    print(f'Boa tarde, {nome}')\n",
        "  else:\n",
        "    print(f'Boa noite, {nome}')\n",
        "\n",
        "x = input('Digite seu nome')\n",
        "y = int(input('Digite um horário entre 0 a 23 (apenas números): '))\n",
        "\n",
        "saudacao(x, y)"
      ]
    }
  ],
  "metadata": {
    "colab": {
      "provenance": []
    },
    "kernelspec": {
      "display_name": "Python 3",
      "language": "python",
      "name": "python3"
    },
    "language_info": {
      "codemirror_mode": {
        "name": "ipython",
        "version": 3
      },
      "file_extension": ".py",
      "mimetype": "text/x-python",
      "name": "python",
      "nbconvert_exporter": "python",
      "pygments_lexer": "ipython3",
      "version": "3.10.5"
    },
    "orig_nbformat": 4
  },
  "nbformat": 4,
  "nbformat_minor": 0
}
