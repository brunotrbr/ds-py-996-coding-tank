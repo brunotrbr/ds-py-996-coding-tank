{
  "cells": [
    {
      "cell_type": "markdown",
      "metadata": {
        "id": "kTPcOgtXCDxA"
      },
      "source": [
        "# Coding Tank Santander Coders 2023 - Turma 996"
      ]
    },
    {
      "cell_type": "markdown",
      "metadata": {
        "id": "rlvnbopcCDxC"
      },
      "source": [
        "## Cronograma de aulas\n",
        "\n",
        "- Aula 1\n",
        "    - Variáveis\n",
        "    - Tipos básicos\n",
        "    - Entradas/Saídas\n",
        "    - Operadores Algébricos\n",
        "    - Operadores de comparação\n",
        "\n",
        "- Aula 2\n",
        "    - Estrutura condicional e controle de fluxo\n",
        "    - Comando if\n",
        "    - Comando else\n",
        "    - Comando Elif\n",
        "\n",
        "- Aula 3\n",
        "    - Estruturas de repetição\n",
        "    - Looping while\n",
        "\n",
        "- Aula 4\n",
        "    - Listas\n",
        "    - Funções, parâmetros e retorno\n",
        "\n",
        "- Aula 5\n",
        "    - Prova"
      ]
    },
    {
      "cell_type": "markdown",
      "metadata": {
        "id": "v8ommUlsCDxC"
      },
      "source": [
        "-------------------"
      ]
    },
    {
      "cell_type": "markdown",
      "metadata": {
        "id": "JJ6fN8tBCDxD"
      },
      "source": [
        "# Aula 3"
      ]
    },
    {
      "cell_type": "markdown",
      "metadata": {
        "id": "dZfbLlCuCDxD"
      },
      "source": [
        "### Notebook da aula\n",
        "\n",
        "Dentro do LMS, no diretório da aula 3 do drive compartilhado.\n"
      ]
    },
    {
      "cell_type": "markdown",
      "metadata": {
        "id": "OTK0leOhCDxD"
      },
      "source": [
        "Na aula passada fizemos o programa que a pessoa digitava 2 numeros e a gente dizia o maior deles. E se quisermos 3? E se quisermos 10? E se quisermos 100? Conseguimos fazer?"
      ]
    },
    {
      "cell_type": "markdown",
      "metadata": {
        "id": "q9x2ibVXCDxD"
      },
      "source": [
        "## Recapitulando\n",
        "\n",
        "Quando queremos alterar o fluxo de execução do programa podemos utilizar o comando if junto com uma expressão lógica."
      ]
    },
    {
      "cell_type": "code",
      "execution_count": 1,
      "metadata": {
        "colab": {
          "base_uri": "https://localhost:8080/"
        },
        "id": "_W38RyNwCDxE",
        "outputId": "09b47def-5793-4db1-efbb-ca80b3f6726a"
      },
      "outputs": [
        {
          "output_type": "stream",
          "name": "stdout",
          "text": [
            "False\n"
          ]
        }
      ],
      "source": [
        "# Expressões lógicas retornam true ou false\n",
        "print(3 > 5)"
      ]
    },
    {
      "cell_type": "code",
      "execution_count": 2,
      "metadata": {
        "id": "0TWcV7SSCDxE"
      },
      "outputs": [],
      "source": [
        "# se a condição for falsa, não entra no código\n",
        "if 3 > 5:\n",
        "  print('Isso não existe. É um erro')"
      ]
    },
    {
      "cell_type": "markdown",
      "metadata": {
        "id": "4q_4SnXcCDxF"
      },
      "source": [
        "## Estruturas de Repetição\n",
        "\n",
        "Um if não garante que eu consigo validar o valor de um campo pois se o usuário não acertar na 2a vez, ele seguirá inválido"
      ]
    },
    {
      "cell_type": "code",
      "execution_count": 3,
      "metadata": {
        "colab": {
          "base_uri": "https://localhost:8080/"
        },
        "id": "AKTmtKh-CDxF",
        "outputId": "6b2e4fb2-8611-4224-9c31-495443a6778c"
      },
      "outputs": [
        {
          "name": "stdout",
          "output_type": "stream",
          "text": [
            "Informe seu salário:1050\n",
            "Salário inválido. Informe outro salário:1000\n"
          ]
        }
      ],
      "source": [
        "salario = float(input('Informe seu salário:'))\n",
        "if salario < 1100:\n",
        "  salario = float(input('Salário inválido. Informe outro salário:'))\n",
        "else:\n",
        "  print('Válido', salario)"
      ]
    },
    {
      "cell_type": "code",
      "execution_count": 8,
      "metadata": {
        "colab": {
          "base_uri": "https://localhost:8080/"
        },
        "id": "0kOhnEF6CDxF",
        "outputId": "ded4cf37-abcd-425b-8651-0d09826b4945"
      },
      "outputs": [
        {
          "output_type": "stream",
          "name": "stdout",
          "text": [
            "Informe seu salário:500\n",
            "Salário inválido, Informe outro salário:1500\n",
            "Informe a idade17\n",
            "1500.0\n"
          ]
        }
      ],
      "source": [
        "salario = float(input('Informe seu salário:'))\n",
        "while(salario < 1100):\n",
        "  # Enquanto a condição de parada for VERDADEIRA, ele vai entrar no loop.\n",
        "  # Quando a condição for satisfeita, FALSA, ele sai do loop.\n",
        "  salario = float(input('Salário inválido, Informe outro salário:'))\n",
        "print(salario)"
      ]
    },
    {
      "cell_type": "markdown",
      "metadata": {
        "id": "_MryPvOaCDxF"
      },
      "source": [
        "__Obs.__: SEMPRE que eu trabalho com estrutura de repetição (WHILE) é NECESSÁRIO que a condição seja alterada dentro do while, SENÃO entro em looping infinito"
      ]
    },
    {
      "cell_type": "code",
      "execution_count": null,
      "metadata": {
        "id": "VhZcKqtxCDxG"
      },
      "outputs": [],
      "source": [
        "# Exemplo de looping infinito\n",
        "# CUIDADO AO RODAR\n",
        "salario = float(input('Informe seu salário:'))\n",
        "while salario < 1100:\n",
        "  print(salario)"
      ]
    },
    {
      "cell_type": "code",
      "source": [
        "## Thiago Caveglion > tambem da pra usar uma variavel booleana que é alterada com uma condicao dentro do loop, na hora que voce quiser\n",
        "fica_em_loop = True\n",
        "while fica_em_loop:\n",
        "  salario = float(input(\"digite o salario: \"))\n",
        "  if salario > 1100:\n",
        "    fica_em_loop = False\n",
        "\n",
        "print('Saímos do loop')"
      ],
      "metadata": {
        "colab": {
          "base_uri": "https://localhost:8080/",
          "height": 131
        },
        "id": "udXALcdAPu-q",
        "outputId": "fc5d06d5-c492-4a43-e4a0-b74647d56ebe"
      },
      "execution_count": 10,
      "outputs": [
        {
          "output_type": "error",
          "ename": "SyntaxError",
          "evalue": "ignored",
          "traceback": [
            "\u001b[0;36m  File \u001b[0;32m\"<ipython-input-10-35023b9d6e90>\"\u001b[0;36m, line \u001b[0;32m3\u001b[0m\n\u001b[0;31m    while fica_em_loop = True:\u001b[0m\n\u001b[0m          ^\u001b[0m\n\u001b[0;31mSyntaxError\u001b[0m\u001b[0;31m:\u001b[0m invalid syntax. Maybe you meant '==' or ':=' instead of '='?\n"
          ]
        }
      ]
    },
    {
      "cell_type": "code",
      "source": [
        "## Thiago Caveglion > tambem da pra usar uma variavel booleana que é alterada com uma condicao dentro do loop, na hora que voce quiser\n",
        "fica_em_loop = True\n",
        "salario = float(input(\"digite o salario: \"))\n",
        "while fica_em_loop:\n",
        "  if salario > 1100:\n",
        "    fica_em_loop = False\n",
        "  # else:\n",
        "  #   print('Salário Inválido')\n",
        "  #   salario = float(input())\n",
        "\n",
        "print('Saímos do loop')"
      ],
      "metadata": {
        "colab": {
          "base_uri": "https://localhost:8080/"
        },
        "id": "odLfNS4eRhGw",
        "outputId": "37939c03-9917-4b98-b3e5-f24fcfa78ffb"
      },
      "execution_count": 13,
      "outputs": [
        {
          "output_type": "stream",
          "name": "stdout",
          "text": [
            "digite o salario: 1000\n",
            "1500\n",
            "Saímos do loop\n"
          ]
        }
      ]
    },
    {
      "cell_type": "code",
      "source": [
        "## Thiago Caveglion > tambem da pra usar uma variavel booleana que é alterada com uma condicao dentro do loop, na hora que voce quiser\n",
        "fica_em_loop = True\n",
        "salario = float(input(\"digite o salario: \"))\n",
        "while fica_em_loop:\n",
        "  if salario > 1100:\n",
        "    fica_em_loop = False\n",
        "    break\n",
        "  salario = float(input(\"digite o salario: \"))\n",
        "\n",
        "print('Saímos do loop')"
      ],
      "metadata": {
        "id": "P4JPmmpAR9Yq"
      },
      "execution_count": null,
      "outputs": []
    },
    {
      "cell_type": "code",
      "source": [
        "## Rafael Pacce > Ou da pra usar while True e break para parar\n",
        "while True:\n",
        "  salario = float(input(\"Digite o seu salário:\"))\n",
        "  if salario >= 1100:\n",
        "      break\n",
        "  print('Salário inválido.')\n",
        "\n",
        "print('Saímos do loop')"
      ],
      "metadata": {
        "colab": {
          "base_uri": "https://localhost:8080/"
        },
        "id": "qY1eocWQQHnC",
        "outputId": "d5251150-a05e-4739-ef4c-fb4a4498cbb9"
      },
      "execution_count": 15,
      "outputs": [
        {
          "output_type": "stream",
          "name": "stdout",
          "text": [
            "Digite o seu salário:100\n",
            "Salário inválido.\n",
            "Digite o seu salário:500\n",
            "Salário inválido.\n",
            "Digite o seu salário:1500\n",
            "Saímos do loop\n"
          ]
        }
      ]
    },
    {
      "cell_type": "code",
      "source": [
        "contador = 0\n",
        "while contador < 3:\n",
        "    salario = float(input('Informe seu salário: '))\n",
        "    if salario < 1100:\n",
        "        print('Salário inválido')\n",
        "        chances_restantes = 2 - contador\n",
        "        print(f'Você ainda tem {chances_restantes} chance(s) para informar um salário válido.')\n",
        "    else:\n",
        "        print('Salário válido')\n",
        "        break\n",
        "    contador += 1"
      ],
      "metadata": {
        "colab": {
          "base_uri": "https://localhost:8080/"
        },
        "id": "WiWPRYU7SyBZ",
        "outputId": "5f16d4d5-6cbf-406e-f5af-26ed0e3e5535"
      },
      "execution_count": 19,
      "outputs": [
        {
          "output_type": "stream",
          "name": "stdout",
          "text": [
            "Informe o salário:500\n",
            "Salário inválido\n",
            "Informe o salário:800\n",
            "Salário inválido\n",
            "Informe o salário:1500\n",
            "Salário inválido\n"
          ]
        }
      ]
    },
    {
      "cell_type": "code",
      "source": [
        "# Uma opção\n",
        "count = 0\n",
        "salario = 0\n",
        "\n",
        "while(salario < 1100):\n",
        "    if count == 0:\n",
        "        mensagem = \"Digite o salário: \"\n",
        "        count += 1\n",
        "    else:\n",
        "        mensagem = \"Salário inválido, digite um salário maior que 1.100: \"\n",
        "    salario = float(input(mensagem))\n",
        "\n",
        "\n",
        "# Outra opção\n",
        "salario = 0\n",
        "primeira_mensagem = True\n",
        "\n",
        "while(salario < 1100):\n",
        "    if primeira_mensagem:\n",
        "        mensagem = \"Digite o salário: \"\n",
        "        primeira_mensagem = False\n",
        "    else:\n",
        "        mensagem = \"Salário inválido, digite um salário maior que 1.100: \"\n",
        "    salario = float(input(mensagem))\n",
        ""
      ],
      "metadata": {
        "id": "_QeronPVUuOa"
      },
      "execution_count": null,
      "outputs": []
    },
    {
      "cell_type": "code",
      "source": [
        "from IPython.display import clear_output\n",
        "\n",
        "contador = 0\n",
        "while contador < 5:\n",
        "  if contador >= 0:\n",
        "    print(contador)\n",
        "    contador += 1\n",
        "    if contador > 2:\n",
        "      continue\n",
        "  print('Mensagem')\n",
        "  clear_output(wait=True)\n",
        "\n"
      ],
      "metadata": {
        "colab": {
          "base_uri": "https://localhost:8080/"
        },
        "id": "s1GZTRT-VBF8",
        "outputId": "1a4474b8-541d-45e4-c079-edfe03e79dc2"
      },
      "execution_count": 34,
      "outputs": [
        {
          "output_type": "stream",
          "name": "stdout",
          "text": [
            "2\n",
            "3\n",
            "4\n"
          ]
        }
      ]
    },
    {
      "cell_type": "markdown",
      "metadata": {
        "id": "HA3DDwPJCDxG"
      },
      "source": [
        "__Exemplo:__ Some todos os números de 0 a um número digitado pelo usuário"
      ]
    },
    {
      "cell_type": "code",
      "execution_count": null,
      "metadata": {
        "id": "RcSwhZnaCDxH"
      },
      "outputs": [],
      "source": [
        "# vamos digitar 4:\n",
        "\n",
        "# 0 + 1 + 2 + 3 + 4 = 10\n",
        "\n",
        "# digitar 3:\n",
        "# 0 + 1 + 2 + 3 = 6\n",
        "\n",
        "# digitar 7:\n",
        "# 0 + 1 + 2 + 3 + 4 + 5 + 6 + 7 = 28"
      ]
    },
    {
      "cell_type": "code",
      "execution_count": 36,
      "metadata": {
        "colab": {
          "base_uri": "https://localhost:8080/"
        },
        "id": "GJ0om5udCDxH",
        "outputId": "0c879220-d9d8-47de-928d-7c349b46d7e1"
      },
      "outputs": [
        {
          "output_type": "stream",
          "name": "stdout",
          "text": [
            "Digite um número inteiro positivo:10\n",
            "Soma:  10\n",
            "Numero: 9\n",
            "Soma:  19\n",
            "Numero: 8\n",
            "Soma:  27\n",
            "Numero: 7\n",
            "Soma:  34\n",
            "Numero: 6\n",
            "Soma:  40\n",
            "Numero: 5\n",
            "Soma:  45\n",
            "Numero: 4\n",
            "Soma:  49\n",
            "Numero: 3\n",
            "Soma:  52\n",
            "Numero: 2\n",
            "Soma:  54\n",
            "Numero: 1\n",
            "Soma:  55\n",
            "Numero: 0\n",
            "55\n"
          ]
        }
      ],
      "source": [
        "soma = 0\n",
        "numero = int(input('Digite um número inteiro positivo:'))\n",
        "\n",
        "while numero > 0:\n",
        "  soma = soma + numero\n",
        "  numero -= 1 # numero = numero - 1\n",
        "  # print('Soma: ', soma)\n",
        "  # print('Numero:', numero)\n",
        "\n",
        "print(soma)"
      ]
    },
    {
      "cell_type": "code",
      "execution_count": 37,
      "metadata": {
        "colab": {
          "base_uri": "https://localhost:8080/"
        },
        "id": "EsVqyHCZCDxH",
        "outputId": "6a7d2cec-9a10-4c96-b89e-2c67d00ee751"
      },
      "outputs": [
        {
          "output_type": "stream",
          "name": "stdout",
          "text": [
            "Informe um número inteiro positivo:10\n",
            "55\n"
          ]
        }
      ],
      "source": [
        "soma = 0\n",
        "contador = 0\n",
        "limite = int(input('Informe um número inteiro positivo:'))\n",
        "\n",
        "while contador <= limite:\n",
        "  soma = soma + contador # soma += contador\n",
        "  contador = contador + 1 # contador += 1\n",
        "\n",
        "print(soma)"
      ]
    },
    {
      "cell_type": "markdown",
      "metadata": {
        "id": "wqPplYvfCDxI"
      },
      "source": [
        "**Vamos praticar (1)**\n",
        "\n",
        "1) Escreva um programa que solicite um número inteiro e imprima na tela todos os números de 1 até o número digitado, separado por espaços.  \n",
        "_Exemplo_  \n",
        "número digitado: 5  \n",
        "resultado esperado: 1 2 3 4 5"
      ]
    },
    {
      "cell_type": "code",
      "execution_count": 44,
      "metadata": {
        "colab": {
          "base_uri": "https://localhost:8080/"
        },
        "id": "AA6CHMxQCDxI",
        "outputId": "0911450b-11a6-4dce-c5d5-75abd2f014e5"
      },
      "outputs": [
        {
          "output_type": "stream",
          "name": "stdout",
          "text": [
            "Informe um número:15\n",
            "1 2 3 4 5 6 7 8 9 10 11 12 13 14 15 \n"
          ]
        }
      ],
      "source": [
        "numero = int(input('Informe um número:'))\n",
        "contador = 1\n",
        "string = ''\n",
        "\n",
        "while numero >= contador:\n",
        "  string = string + str(contador) + ' '\n",
        "  contador += 1\n",
        "\n",
        "print(string)"
      ]
    },
    {
      "cell_type": "code",
      "execution_count": 46,
      "metadata": {
        "colab": {
          "base_uri": "https://localhost:8080/"
        },
        "id": "8YNXBdV7CDxI",
        "outputId": "6ec163cb-3db3-4610-be67-5862df3e8d67"
      },
      "outputs": [
        {
          "output_type": "stream",
          "name": "stdout",
          "text": [
            "Informe um número:15\n",
            "1 2 3 4 5 6 7 8 9 10 11 12 13 14 15 16 "
          ]
        }
      ],
      "source": [
        "numero = int(input('Informe um número:'))\n",
        "contador = 0\n",
        "\n",
        "while contador < numero:\n",
        "  contador += 1\n",
        "  print(contador, end=' ')"
      ]
    },
    {
      "cell_type": "markdown",
      "metadata": {
        "id": "3JcvoixWCDxI"
      },
      "source": [
        "2) Faça um programa que mostre o fatorial de um número digitado. O fatorial de um número é o produto dele pelos seus antecessores maiores que 0\n",
        "\n",
        "_Exemplo_  \n",
        "número digitado: 5  \n",
        "resultado esperado: 120"
      ]
    },
    {
      "cell_type": "code",
      "execution_count": 47,
      "metadata": {
        "colab": {
          "base_uri": "https://localhost:8080/"
        },
        "id": "EbGg0xf9CDxI",
        "outputId": "2f593be0-9363-4163-95c4-52fe81b46057"
      },
      "outputs": [
        {
          "output_type": "stream",
          "name": "stdout",
          "text": [
            "Digite um número: 5\n",
            "120\n"
          ]
        }
      ],
      "source": [
        "# Solução do Rodrigo Carvalho\n",
        "numero = int(input(\"Digite um número: \"))\n",
        "fatorial = 1\n",
        "i = 1\n",
        "while i <= numero:\n",
        "    fatorial *= i\n",
        "    i += 1\n",
        "\n",
        "print(fatorial)"
      ]
    },
    {
      "cell_type": "code",
      "execution_count": 48,
      "metadata": {
        "colab": {
          "base_uri": "https://localhost:8080/"
        },
        "id": "r-2DV7WrCDxI",
        "outputId": "10fbaa57-d435-47a8-f4bc-7d06c592cbbe"
      },
      "outputs": [
        {
          "output_type": "stream",
          "name": "stdout",
          "text": [
            "Número:5\n",
            "120\n"
          ]
        }
      ],
      "source": [
        "# Solução do Gabriel Miranda\n",
        "num = int(input(\"Número:\"))\n",
        "fatorial = 1\n",
        "c = num\n",
        "while c != 0:\n",
        "    fatorial *= c\n",
        "    c -= 1\n",
        "print(fatorial)"
      ]
    },
    {
      "cell_type": "code",
      "execution_count": null,
      "metadata": {
        "id": "qVOXyvQSCDxI"
      },
      "outputs": [],
      "source": [
        "# Solução da Maria Gabrielly\n",
        "num = int(input(\"Digite um número: \"))\n",
        "\n",
        "fatorial = 1\n",
        "contador = 1\n",
        "\n",
        "while contador <= num:\n",
        "  fatorial *= contador\n",
        "  contador += 1\n",
        "\n",
        "print(\"Fatorial: \", fatorial)"
      ]
    },
    {
      "cell_type": "code",
      "source": [
        "# Solução da Mohara\n",
        "numero_fat = float(input('Digite um número:'))\n",
        "num = numero_fat - 1\n",
        "fatorial = numero_fat\n",
        "\n",
        "while num>=1:\n",
        "    fatorial = fatorial*num\n",
        "    num -=1\n",
        "print(fatorial)"
      ],
      "metadata": {
        "id": "z3McS-rxmJRF"
      },
      "execution_count": null,
      "outputs": []
    },
    {
      "cell_type": "code",
      "source": [
        "# Solução da Rhayza\n",
        "def fatorial ():\n",
        "\n",
        "  num = int(input(\"Digite um número: \"))\n",
        "  fatorial = 1\n",
        "\n",
        "  while num > 0:\n",
        "\n",
        "    fatorial *= num\n",
        "    num -= 1\n",
        "\n",
        "  print(\"resultado esperado:\", fatorial)\n",
        "\n",
        "fatorial()"
      ],
      "metadata": {
        "id": "FSanGAcWnxU8"
      },
      "execution_count": null,
      "outputs": []
    },
    {
      "cell_type": "markdown",
      "metadata": {
        "id": "lhnqo1nQCDxI"
      },
      "source": [
        "3) Faça um programa que imprima a tabuada do 9 na tela (entre 1 e 10). Insira a conta, por exemplo, 9 * 1 = 9, sendo cada um dos valores em uma linha diferente."
      ]
    },
    {
      "cell_type": "code",
      "execution_count": 49,
      "metadata": {
        "colab": {
          "base_uri": "https://localhost:8080/"
        },
        "id": "81JEPDSICDxJ",
        "outputId": "2d01b706-f551-47a2-9bef-541e6bf3ac3c"
      },
      "outputs": [
        {
          "output_type": "stream",
          "name": "stdout",
          "text": [
            "9 * 0 = 0\n",
            "9 * 1 = 9\n",
            "9 * 2 = 18\n",
            "9 * 3 = 27\n",
            "9 * 4 = 36\n",
            "9 * 5 = 45\n",
            "9 * 6 = 54\n",
            "9 * 7 = 63\n",
            "9 * 8 = 72\n",
            "9 * 9 = 81\n",
            "9 * 10 = 90\n"
          ]
        }
      ],
      "source": [
        "# Solução da Maria Gabrielly\n",
        "n = 0\n",
        "while n != 11:\n",
        "  print(f'9 * {n} =', 9*n)\n",
        "  n += 1"
      ]
    },
    {
      "cell_type": "code",
      "execution_count": null,
      "metadata": {
        "id": "D_8Sic6MCDxJ"
      },
      "outputs": [],
      "source": [
        "# Solução do Gabriel Miranda\n",
        "c = 1\n",
        "while c <= 10:\n",
        "    print(f\"9 * {c} =\", 9*c)\n",
        "    c += 1"
      ]
    },
    {
      "cell_type": "code",
      "execution_count": null,
      "metadata": {
        "id": "JeOZdUmbCDxJ"
      },
      "outputs": [],
      "source": [
        "# Solução do Clério\n",
        "numero = 9\n",
        "cont = 1\n",
        "while cont <= 10:\n",
        "  print(f'{numero}x{cont} = {numero*cont}')\n",
        "  cont += 1"
      ]
    },
    {
      "cell_type": "code",
      "source": [
        "# Solução do Alexandre Denigres\n",
        "numero = int(input(\"Insira o número que você gostaria de calcular a tabuada: \"))\n",
        "\n",
        "i = 1\n",
        "while i <= 10:\n",
        "  print(f\"{numero} * {i} = {numero * i}\")\n",
        "  i += 1"
      ],
      "metadata": {
        "id": "nxX2FMlun7EF"
      },
      "execution_count": null,
      "outputs": []
    },
    {
      "cell_type": "code",
      "source": [
        "# Solução da Fernanda Dallaqua\n",
        "curr = 1\n",
        "while curr <= 10:\n",
        "  print(f'9 * {curr} = {9*curr}')\n",
        "  curr += 1"
      ],
      "metadata": {
        "id": "hbLFrHSroCRu"
      },
      "execution_count": null,
      "outputs": []
    },
    {
      "cell_type": "code",
      "source": [
        "# Solução da Márcia Freitas\n",
        "a = 1\n",
        "\n",
        "while a <= 10:\n",
        "    resultado = 9 * a\n",
        "    print(f\"9 * {a} = {resultado}\")\n",
        "    a += 1"
      ],
      "metadata": {
        "id": "eJ0GgTNKoFBO"
      },
      "execution_count": null,
      "outputs": []
    },
    {
      "cell_type": "code",
      "source": [
        "# Solução da Rhayza\n",
        "def tabuada ():\n",
        "\n",
        "  num = int(input('Digite um número: '))\n",
        "  aux = 0\n",
        "\n",
        "  while aux < 10:\n",
        "    aux += 1\n",
        "    calculo = num * aux\n",
        "    print(f'{num} * {aux} = {calculo}')\n",
        "\n",
        "tabuada()"
      ],
      "metadata": {
        "colab": {
          "base_uri": "https://localhost:8080/"
        },
        "id": "GN49OHsXoNF4",
        "outputId": "9d89ad3e-725d-4456-8b53-0d13e5907797"
      },
      "execution_count": 54,
      "outputs": [
        {
          "output_type": "stream",
          "name": "stdout",
          "text": [
            "Digite um número: 9\n",
            "9 * 1 = 9\n",
            "9 * 2 = 18\n",
            "9 * 3 = 27\n",
            "9 * 4 = 36\n",
            "9 * 5 = 45\n",
            "9 * 6 = 54\n",
            "9 * 7 = 63\n",
            "9 * 8 = 72\n",
            "9 * 9 = 81\n",
            "9 * 10 = 90\n"
          ]
        }
      ]
    },
    {
      "cell_type": "markdown",
      "metadata": {
        "id": "nbOR5Wp_CDxJ"
      },
      "source": [
        "4) Faça um programa em que o usuário digite números quaisquer que encerrará no momento em que o valor 0 seja digitado. Ao final diga qual foi o maior número digitado."
      ]
    },
    {
      "cell_type": "code",
      "execution_count": null,
      "metadata": {
        "id": "sQVje5HkCDxJ"
      },
      "outputs": [],
      "source": [
        "# Solução do Rafael Pacce\n",
        "maior_numero = 0\n",
        "\n",
        "while True:\n",
        "    numero = float(input(\"Digite um número qualquer: \"))\n",
        "\n",
        "    if numero == 0:\n",
        "        break\n",
        "\n",
        "    if numero > maior_numero:\n",
        "        maior_numero = numero\n",
        "\n",
        "print(f\"O maior número digitado foi o número {maior_numero}\")"
      ]
    },
    {
      "cell_type": "code",
      "execution_count": null,
      "metadata": {
        "id": "coKmjmlzCDxJ"
      },
      "outputs": [],
      "source": [
        "# Solução da Manusa\n",
        "num=float(input('Insira um número : '))\n",
        "\n",
        "num_maior=0\n",
        "\n",
        "while num!=0:\n",
        "  if num>num_maior:\n",
        "    num_maior=num\n",
        "  num=float(input('Insira um número : '))\n",
        "print(f'O maior número digitado foi {num_maior}')"
      ]
    },
    {
      "cell_type": "code",
      "execution_count": null,
      "metadata": {
        "id": "RQeDL6pHCDxJ"
      },
      "outputs": [],
      "source": [
        "# Solução do Alexandre Denigres\n",
        "count = 0\n",
        "while True:\n",
        "  numero = float(input(\"Insira um número: \"))\n",
        "  count += 1\n",
        "  if (count == 1) or (numero > maior): maior = numero\n",
        "  if numero == 0: break\n",
        "\n",
        "print(\"O maior número inserido foi:\", maior)"
      ]
    },
    {
      "cell_type": "code",
      "source": [
        "# Solução do Thiago Michaelsen\n",
        "maior = 0\n",
        "\n",
        "while True:\n",
        "    try:\n",
        "        atual = float(input('Digite um número (ou 0 para encerrar): '))\n",
        "        if atual == 0:\n",
        "            break\n",
        "        elif atual > maior:\n",
        "            maior = atual\n",
        "    except:\n",
        "        print('Valor inválido! Utilize apenas números, usando \".\" como separador.')\n",
        "        continue\n",
        "\n",
        "print(f'O maior número digitado foi {maior}')"
      ],
      "metadata": {
        "id": "puaSisCmplpN"
      },
      "execution_count": null,
      "outputs": []
    },
    {
      "cell_type": "code",
      "source": [
        "# Solução da Maria Gabrielly\n",
        "num = int(input((\"Digite o número: \")))\n",
        "maior_num = 0\n",
        "\n",
        "if num != 0 :\n",
        "  while True:\n",
        "    num2 = int(input((\"Digite o número: \")))\n",
        "    if num2 == 0:\n",
        "      break\n",
        "    if num2 > num:\n",
        "      num = num2\n",
        "\n",
        "print(num)"
      ],
      "metadata": {
        "id": "cRvJV8PrqXJ9"
      },
      "execution_count": null,
      "outputs": []
    },
    {
      "cell_type": "code",
      "source": [
        "# Solução do Antonio Geovane\n",
        "num = int(input('Digite um número qualquer: '))\n",
        "maior = num\n",
        "while True:\n",
        "    if num == 0:\n",
        "        break\n",
        "    num = int(input('Digite um número qualquer: '))\n",
        "    if num >= maior:\n",
        "        maior = num\n",
        "print(f'O maior número digitado foi {maior}.')"
      ],
      "metadata": {
        "id": "9L_8AOZfqk2O"
      },
      "execution_count": null,
      "outputs": []
    },
    {
      "cell_type": "markdown",
      "metadata": {
        "id": "a38aWBWXCDxJ"
      },
      "source": [
        "5. Faça um script que peça para o usuário digitar a idade, o salário e o sexo de uma pessoa até que as entradas digitadas sejam válidas.  \n",
        "  \n",
        "a. Idade: entre 0 e 150  \n",
        "b. Salário: maior que 0  \n",
        "c. Gênero: M, F ou Outro  \n",
        "  \n",
        "Por último imprima os dados recebidos do usuário."
      ]
    },
    {
      "cell_type": "code",
      "source": [],
      "metadata": {
        "id": "sJuGZUbwuY5s"
      },
      "execution_count": null,
      "outputs": []
    },
    {
      "cell_type": "markdown",
      "metadata": {
        "id": "Tp7gruGNCDxQ"
      },
      "source": [
        "6) Faça uma calculadora. O usuário deve inserir qual a operação matemática ele deseja realizar e logo em seguida os dois números. O programa deve finalizar apenas quando o usuário digitar a opção \"sair\" no momento de escolha da operação matemática."
      ]
    },
    {
      "cell_type": "code",
      "source": [],
      "metadata": {
        "id": "cPIKFtCyiT2T"
      },
      "execution_count": null,
      "outputs": []
    },
    {
      "cell_type": "code",
      "source": [],
      "metadata": {
        "id": "Oy7PAl4fjj10"
      },
      "execution_count": null,
      "outputs": []
    }
  ],
  "metadata": {
    "kernelspec": {
      "display_name": "Python 3",
      "language": "python",
      "name": "python3"
    },
    "language_info": {
      "name": "python",
      "version": "3.10.5 (tags/v3.10.5:f377153, Jun  6 2022, 16:14:13) [MSC v.1929 64 bit (AMD64)]"
    },
    "orig_nbformat": 4,
    "vscode": {
      "interpreter": {
        "hash": "42478136ef40f8edd3f4cf991c33cffcfc620a666d0dc328e82cc0ef4d7b2c04"
      }
    },
    "colab": {
      "provenance": []
    }
  },
  "nbformat": 4,
  "nbformat_minor": 0
}