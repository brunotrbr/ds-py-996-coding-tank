{
 "cells": [
  {
   "attachments": {},
   "cell_type": "markdown",
   "metadata": {},
   "source": [
    "1. Pergunte um usuário quantas provas ele fez, depois pergunte a nota de todas as provas.\n",
    "Calcule a média e caso seja maior ou igual a 6 informe que ele está aprovado, se não reprovado."
   ]
  },
  {
   "cell_type": "code",
   "execution_count": null,
   "metadata": {},
   "outputs": [],
   "source": []
  },
  {
   "attachments": {},
   "cell_type": "markdown",
   "metadata": {},
   "source": [
    "2. Faça um programa que o usuário digite quantos números quiser, ate que digite sair.\n",
    "Retorne a soma e a média dos números digitados."
   ]
  },
  {
   "cell_type": "code",
   "execution_count": null,
   "metadata": {},
   "outputs": [],
   "source": []
  },
  {
   "attachments": {},
   "cell_type": "markdown",
   "metadata": {},
   "source": [
    "3. Usando laço, pergunte um usuário a nota de 3 provas. Remova a menor nota e calcule a média das notas que ele atingiu. "
   ]
  },
  {
   "cell_type": "code",
   "execution_count": null,
   "metadata": {},
   "outputs": [],
   "source": []
  },
  {
   "attachments": {},
   "cell_type": "markdown",
   "metadata": {},
   "source": [
    "4. Pergunte o usuário 2 números inteiros, calcule quantos números pares existem entre os 2 número informados.\n",
    "Exemplo: se ele digitar 1 e 9, tem 4 números pares entre esses números 2,4,6,8 ."
   ]
  },
  {
   "cell_type": "code",
   "execution_count": null,
   "metadata": {},
   "outputs": [],
   "source": []
  },
  {
   "attachments": {},
   "cell_type": "markdown",
   "metadata": {},
   "source": [
    "5. Pergunte o usuário 2 números inteiros, calcule a soma de todos os números ímpares inteiros entre esses números.\n",
    "Exemplo: se ele digitar 1 e 9, tem 5 números ímpares entre esses números 1,3,5,7,9, e a soma é 25 ."
   ]
  },
  {
   "cell_type": "code",
   "execution_count": null,
   "metadata": {},
   "outputs": [],
   "source": []
  }
 ],
 "metadata": {
  "kernelspec": {
   "display_name": "Python 3",
   "language": "python",
   "name": "python3"
  },
  "language_info": {
   "codemirror_mode": {
    "name": "ipython",
    "version": 3
   },
   "file_extension": ".py",
   "mimetype": "text/x-python",
   "name": "python",
   "nbconvert_exporter": "python",
   "pygments_lexer": "ipython3",
   "version": "3.11.0"
  },
  "orig_nbformat": 4,
  "vscode": {
   "interpreter": {
    "hash": "42478136ef40f8edd3f4cf991c33cffcfc620a666d0dc328e82cc0ef4d7b2c04"
   }
  }
 },
 "nbformat": 4,
 "nbformat_minor": 2
}
